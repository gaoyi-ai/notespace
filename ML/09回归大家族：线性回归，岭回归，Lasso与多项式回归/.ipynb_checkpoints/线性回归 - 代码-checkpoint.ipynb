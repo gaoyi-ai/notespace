{
 "cells": [
  {
   "cell_type": "code",
   "execution_count": 2,
   "metadata": {},
   "outputs": [],
   "source": [
    "from sklearn.linear_model import LinearRegression as LR\n",
    "from sklearn.model_selection import train_test_split\n",
    "from sklearn.model_selection import cross_val_score\n",
    "from sklearn.datasets import fetch_california_housing as fch #加利福尼亚房屋价值数据集\n",
    "import pandas as pd"
   ]
  },
  {
   "cell_type": "code",
   "execution_count": 4,
   "metadata": {},
   "outputs": [],
   "source": [
    "housevalue = fch() #会需要下载，大家可以提前运行试试看"
   ]
  },
  {
   "cell_type": "code",
   "execution_count": 5,
   "metadata": {},
   "outputs": [
    {
     "data": {
      "text/plain": [
       "array([[   8.3252    ,   41.        ,    6.98412698, ...,    2.55555556,\n",
       "          37.88      , -122.23      ],\n",
       "       [   8.3014    ,   21.        ,    6.23813708, ...,    2.10984183,\n",
       "          37.86      , -122.22      ],\n",
       "       [   7.2574    ,   52.        ,    8.28813559, ...,    2.80225989,\n",
       "          37.85      , -122.24      ],\n",
       "       ...,\n",
       "       [   1.7       ,   17.        ,    5.20554273, ...,    2.3256351 ,\n",
       "          39.43      , -121.22      ],\n",
       "       [   1.8672    ,   18.        ,    5.32951289, ...,    2.12320917,\n",
       "          39.43      , -121.32      ],\n",
       "       [   2.3886    ,   16.        ,    5.25471698, ...,    2.61698113,\n",
       "          39.37      , -121.24      ]])"
      ]
     },
     "execution_count": 5,
     "metadata": {},
     "output_type": "execute_result"
    }
   ],
   "source": [
    "housevalue.data"
   ]
  },
  {
   "cell_type": "code",
   "execution_count": 6,
   "metadata": {},
   "outputs": [],
   "source": [
    "X = pd.DataFrame(housevalue.data) #放入DataFrame中便于查看"
   ]
  },
  {
   "cell_type": "code",
   "execution_count": 7,
   "metadata": {},
   "outputs": [
    {
     "data": {
      "text/plain": [
       "(20640, 8)"
      ]
     },
     "execution_count": 7,
     "metadata": {},
     "output_type": "execute_result"
    }
   ],
   "source": [
    "X.shape"
   ]
  },
  {
   "cell_type": "code",
   "execution_count": 8,
   "metadata": {},
   "outputs": [],
   "source": [
    "y = housevalue.target"
   ]
  },
  {
   "cell_type": "code",
   "execution_count": 9,
   "metadata": {},
   "outputs": [
    {
     "data": {
      "text/plain": [
       "0.14999"
      ]
     },
     "execution_count": 9,
     "metadata": {},
     "output_type": "execute_result"
    }
   ],
   "source": [
    "y.min()"
   ]
  },
  {
   "cell_type": "code",
   "execution_count": 10,
   "metadata": {},
   "outputs": [
    {
     "data": {
      "text/plain": [
       "5.00001"
      ]
     },
     "execution_count": 10,
     "metadata": {},
     "output_type": "execute_result"
    }
   ],
   "source": [
    "y.max()"
   ]
  },
  {
   "cell_type": "code",
   "execution_count": 11,
   "metadata": {},
   "outputs": [
    {
     "data": {
      "text/plain": [
       "(20640,)"
      ]
     },
     "execution_count": 11,
     "metadata": {},
     "output_type": "execute_result"
    }
   ],
   "source": [
    "y.shape"
   ]
  },
  {
   "cell_type": "code",
   "execution_count": 12,
   "metadata": {},
   "outputs": [
    {
     "data": {
      "text/html": [
       "<div>\n",
       "<style scoped>\n",
       "    .dataframe tbody tr th:only-of-type {\n",
       "        vertical-align: middle;\n",
       "    }\n",
       "\n",
       "    .dataframe tbody tr th {\n",
       "        vertical-align: top;\n",
       "    }\n",
       "\n",
       "    .dataframe thead th {\n",
       "        text-align: right;\n",
       "    }\n",
       "</style>\n",
       "<table border=\"1\" class=\"dataframe\">\n",
       "  <thead>\n",
       "    <tr style=\"text-align: right;\">\n",
       "      <th></th>\n",
       "      <th>0</th>\n",
       "      <th>1</th>\n",
       "      <th>2</th>\n",
       "      <th>3</th>\n",
       "      <th>4</th>\n",
       "      <th>5</th>\n",
       "      <th>6</th>\n",
       "      <th>7</th>\n",
       "    </tr>\n",
       "  </thead>\n",
       "  <tbody>\n",
       "    <tr>\n",
       "      <th>0</th>\n",
       "      <td>8.3252</td>\n",
       "      <td>41.0</td>\n",
       "      <td>6.984127</td>\n",
       "      <td>1.023810</td>\n",
       "      <td>322.0</td>\n",
       "      <td>2.555556</td>\n",
       "      <td>37.88</td>\n",
       "      <td>-122.23</td>\n",
       "    </tr>\n",
       "    <tr>\n",
       "      <th>1</th>\n",
       "      <td>8.3014</td>\n",
       "      <td>21.0</td>\n",
       "      <td>6.238137</td>\n",
       "      <td>0.971880</td>\n",
       "      <td>2401.0</td>\n",
       "      <td>2.109842</td>\n",
       "      <td>37.86</td>\n",
       "      <td>-122.22</td>\n",
       "    </tr>\n",
       "    <tr>\n",
       "      <th>2</th>\n",
       "      <td>7.2574</td>\n",
       "      <td>52.0</td>\n",
       "      <td>8.288136</td>\n",
       "      <td>1.073446</td>\n",
       "      <td>496.0</td>\n",
       "      <td>2.802260</td>\n",
       "      <td>37.85</td>\n",
       "      <td>-122.24</td>\n",
       "    </tr>\n",
       "    <tr>\n",
       "      <th>3</th>\n",
       "      <td>5.6431</td>\n",
       "      <td>52.0</td>\n",
       "      <td>5.817352</td>\n",
       "      <td>1.073059</td>\n",
       "      <td>558.0</td>\n",
       "      <td>2.547945</td>\n",
       "      <td>37.85</td>\n",
       "      <td>-122.25</td>\n",
       "    </tr>\n",
       "    <tr>\n",
       "      <th>4</th>\n",
       "      <td>3.8462</td>\n",
       "      <td>52.0</td>\n",
       "      <td>6.281853</td>\n",
       "      <td>1.081081</td>\n",
       "      <td>565.0</td>\n",
       "      <td>2.181467</td>\n",
       "      <td>37.85</td>\n",
       "      <td>-122.25</td>\n",
       "    </tr>\n",
       "  </tbody>\n",
       "</table>\n",
       "</div>"
      ],
      "text/plain": [
       "        0     1         2         3       4         5      6       7\n",
       "0  8.3252  41.0  6.984127  1.023810   322.0  2.555556  37.88 -122.23\n",
       "1  8.3014  21.0  6.238137  0.971880  2401.0  2.109842  37.86 -122.22\n",
       "2  7.2574  52.0  8.288136  1.073446   496.0  2.802260  37.85 -122.24\n",
       "3  5.6431  52.0  5.817352  1.073059   558.0  2.547945  37.85 -122.25\n",
       "4  3.8462  52.0  6.281853  1.081081   565.0  2.181467  37.85 -122.25"
      ]
     },
     "execution_count": 12,
     "metadata": {},
     "output_type": "execute_result"
    }
   ],
   "source": [
    "X.head()"
   ]
  },
  {
   "cell_type": "code",
   "execution_count": 13,
   "metadata": {},
   "outputs": [
    {
     "data": {
      "text/plain": [
       "['MedInc',\n",
       " 'HouseAge',\n",
       " 'AveRooms',\n",
       " 'AveBedrms',\n",
       " 'Population',\n",
       " 'AveOccup',\n",
       " 'Latitude',\n",
       " 'Longitude']"
      ]
     },
     "execution_count": 13,
     "metadata": {},
     "output_type": "execute_result"
    }
   ],
   "source": [
    "housevalue.feature_names #特征名字"
   ]
  },
  {
   "cell_type": "code",
   "execution_count": 14,
   "metadata": {},
   "outputs": [],
   "source": [
    "X.columns = housevalue.feature_names"
   ]
  },
  {
   "cell_type": "code",
   "execution_count": null,
   "metadata": {},
   "outputs": [],
   "source": [
    "\"\"\"\n",
    "MedInc：该街区住户的收入中位数\n",
    "HouseAge：该街区房屋使用年代的中位数\n",
    "AveRooms：该街区平均的房间数目\n",
    "AveBedrms：该街区平均的卧室数目\n",
    "Population：街区人口\n",
    "AveOccup：平均入住率\n",
    "Latitude：街区的纬度\n",
    "Longitude：街区的经度\n",
    "\"\"\""
   ]
  },
  {
   "cell_type": "code",
   "execution_count": 15,
   "metadata": {},
   "outputs": [],
   "source": [
    "Xtrain, Xtest, Ytrain, Ytest = train_test_split(X,y,test_size=0.3,random_state=420)"
   ]
  },
  {
   "cell_type": "code",
   "execution_count": 16,
   "metadata": {},
   "outputs": [
    {
     "data": {
      "text/html": [
       "<div>\n",
       "<style scoped>\n",
       "    .dataframe tbody tr th:only-of-type {\n",
       "        vertical-align: middle;\n",
       "    }\n",
       "\n",
       "    .dataframe tbody tr th {\n",
       "        vertical-align: top;\n",
       "    }\n",
       "\n",
       "    .dataframe thead th {\n",
       "        text-align: right;\n",
       "    }\n",
       "</style>\n",
       "<table border=\"1\" class=\"dataframe\">\n",
       "  <thead>\n",
       "    <tr style=\"text-align: right;\">\n",
       "      <th></th>\n",
       "      <th>MedInc</th>\n",
       "      <th>HouseAge</th>\n",
       "      <th>AveRooms</th>\n",
       "      <th>AveBedrms</th>\n",
       "      <th>Population</th>\n",
       "      <th>AveOccup</th>\n",
       "      <th>Latitude</th>\n",
       "      <th>Longitude</th>\n",
       "    </tr>\n",
       "  </thead>\n",
       "  <tbody>\n",
       "    <tr>\n",
       "      <th>5156</th>\n",
       "      <td>1.7656</td>\n",
       "      <td>42.0</td>\n",
       "      <td>4.144703</td>\n",
       "      <td>1.031008</td>\n",
       "      <td>1581.0</td>\n",
       "      <td>4.085271</td>\n",
       "      <td>33.96</td>\n",
       "      <td>-118.28</td>\n",
       "    </tr>\n",
       "    <tr>\n",
       "      <th>19714</th>\n",
       "      <td>1.5281</td>\n",
       "      <td>29.0</td>\n",
       "      <td>5.095890</td>\n",
       "      <td>1.095890</td>\n",
       "      <td>1137.0</td>\n",
       "      <td>3.115068</td>\n",
       "      <td>39.29</td>\n",
       "      <td>-121.68</td>\n",
       "    </tr>\n",
       "    <tr>\n",
       "      <th>18471</th>\n",
       "      <td>4.1750</td>\n",
       "      <td>14.0</td>\n",
       "      <td>5.604699</td>\n",
       "      <td>1.045965</td>\n",
       "      <td>2823.0</td>\n",
       "      <td>2.883555</td>\n",
       "      <td>37.14</td>\n",
       "      <td>-121.64</td>\n",
       "    </tr>\n",
       "    <tr>\n",
       "      <th>16156</th>\n",
       "      <td>3.0278</td>\n",
       "      <td>52.0</td>\n",
       "      <td>5.172932</td>\n",
       "      <td>1.085714</td>\n",
       "      <td>1663.0</td>\n",
       "      <td>2.500752</td>\n",
       "      <td>37.78</td>\n",
       "      <td>-122.49</td>\n",
       "    </tr>\n",
       "    <tr>\n",
       "      <th>7028</th>\n",
       "      <td>4.5000</td>\n",
       "      <td>36.0</td>\n",
       "      <td>4.940447</td>\n",
       "      <td>0.982630</td>\n",
       "      <td>1306.0</td>\n",
       "      <td>3.240695</td>\n",
       "      <td>33.95</td>\n",
       "      <td>-118.09</td>\n",
       "    </tr>\n",
       "  </tbody>\n",
       "</table>\n",
       "</div>"
      ],
      "text/plain": [
       "       MedInc  HouseAge  AveRooms  AveBedrms  Population  AveOccup  Latitude  \\\n",
       "5156   1.7656      42.0  4.144703   1.031008      1581.0  4.085271     33.96   \n",
       "19714  1.5281      29.0  5.095890   1.095890      1137.0  3.115068     39.29   \n",
       "18471  4.1750      14.0  5.604699   1.045965      2823.0  2.883555     37.14   \n",
       "16156  3.0278      52.0  5.172932   1.085714      1663.0  2.500752     37.78   \n",
       "7028   4.5000      36.0  4.940447   0.982630      1306.0  3.240695     33.95   \n",
       "\n",
       "       Longitude  \n",
       "5156     -118.28  \n",
       "19714    -121.68  \n",
       "18471    -121.64  \n",
       "16156    -122.49  \n",
       "7028     -118.09  "
      ]
     },
     "execution_count": 16,
     "metadata": {},
     "output_type": "execute_result"
    }
   ],
   "source": [
    "Xtest.head()"
   ]
  },
  {
   "cell_type": "code",
   "execution_count": 17,
   "metadata": {},
   "outputs": [
    {
     "data": {
      "text/html": [
       "<div>\n",
       "<style scoped>\n",
       "    .dataframe tbody tr th:only-of-type {\n",
       "        vertical-align: middle;\n",
       "    }\n",
       "\n",
       "    .dataframe tbody tr th {\n",
       "        vertical-align: top;\n",
       "    }\n",
       "\n",
       "    .dataframe thead th {\n",
       "        text-align: right;\n",
       "    }\n",
       "</style>\n",
       "<table border=\"1\" class=\"dataframe\">\n",
       "  <thead>\n",
       "    <tr style=\"text-align: right;\">\n",
       "      <th></th>\n",
       "      <th>MedInc</th>\n",
       "      <th>HouseAge</th>\n",
       "      <th>AveRooms</th>\n",
       "      <th>AveBedrms</th>\n",
       "      <th>Population</th>\n",
       "      <th>AveOccup</th>\n",
       "      <th>Latitude</th>\n",
       "      <th>Longitude</th>\n",
       "    </tr>\n",
       "  </thead>\n",
       "  <tbody>\n",
       "    <tr>\n",
       "      <th>17073</th>\n",
       "      <td>4.1776</td>\n",
       "      <td>35.0</td>\n",
       "      <td>4.425172</td>\n",
       "      <td>1.030683</td>\n",
       "      <td>5380.0</td>\n",
       "      <td>3.368817</td>\n",
       "      <td>37.48</td>\n",
       "      <td>-122.19</td>\n",
       "    </tr>\n",
       "    <tr>\n",
       "      <th>16956</th>\n",
       "      <td>5.3261</td>\n",
       "      <td>38.0</td>\n",
       "      <td>6.267516</td>\n",
       "      <td>1.089172</td>\n",
       "      <td>429.0</td>\n",
       "      <td>2.732484</td>\n",
       "      <td>37.53</td>\n",
       "      <td>-122.30</td>\n",
       "    </tr>\n",
       "    <tr>\n",
       "      <th>20012</th>\n",
       "      <td>1.9439</td>\n",
       "      <td>26.0</td>\n",
       "      <td>5.768977</td>\n",
       "      <td>1.141914</td>\n",
       "      <td>891.0</td>\n",
       "      <td>2.940594</td>\n",
       "      <td>36.02</td>\n",
       "      <td>-119.08</td>\n",
       "    </tr>\n",
       "    <tr>\n",
       "      <th>13072</th>\n",
       "      <td>2.5000</td>\n",
       "      <td>22.0</td>\n",
       "      <td>4.916000</td>\n",
       "      <td>1.012000</td>\n",
       "      <td>733.0</td>\n",
       "      <td>2.932000</td>\n",
       "      <td>38.57</td>\n",
       "      <td>-121.31</td>\n",
       "    </tr>\n",
       "    <tr>\n",
       "      <th>8457</th>\n",
       "      <td>3.8250</td>\n",
       "      <td>34.0</td>\n",
       "      <td>5.036765</td>\n",
       "      <td>1.098039</td>\n",
       "      <td>1134.0</td>\n",
       "      <td>2.779412</td>\n",
       "      <td>33.91</td>\n",
       "      <td>-118.35</td>\n",
       "    </tr>\n",
       "  </tbody>\n",
       "</table>\n",
       "</div>"
      ],
      "text/plain": [
       "       MedInc  HouseAge  AveRooms  AveBedrms  Population  AveOccup  Latitude  \\\n",
       "17073  4.1776      35.0  4.425172   1.030683      5380.0  3.368817     37.48   \n",
       "16956  5.3261      38.0  6.267516   1.089172       429.0  2.732484     37.53   \n",
       "20012  1.9439      26.0  5.768977   1.141914       891.0  2.940594     36.02   \n",
       "13072  2.5000      22.0  4.916000   1.012000       733.0  2.932000     38.57   \n",
       "8457   3.8250      34.0  5.036765   1.098039      1134.0  2.779412     33.91   \n",
       "\n",
       "       Longitude  \n",
       "17073    -122.19  \n",
       "16956    -122.30  \n",
       "20012    -119.08  \n",
       "13072    -121.31  \n",
       "8457     -118.35  "
      ]
     },
     "execution_count": 17,
     "metadata": {},
     "output_type": "execute_result"
    }
   ],
   "source": [
    "Xtrain.head()"
   ]
  },
  {
   "cell_type": "code",
   "execution_count": 18,
   "metadata": {},
   "outputs": [],
   "source": [
    "#恢复索引\n",
    "for i in [Xtrain, Xtest]:\n",
    "    i.index = range(i.shape[0])"
   ]
  },
  {
   "cell_type": "code",
   "execution_count": 19,
   "metadata": {},
   "outputs": [
    {
     "data": {
      "text/plain": [
       "(14448, 8)"
      ]
     },
     "execution_count": 19,
     "metadata": {},
     "output_type": "execute_result"
    }
   ],
   "source": [
    "Xtrain.shape"
   ]
  },
  {
   "cell_type": "code",
   "execution_count": null,
   "metadata": {},
   "outputs": [],
   "source": [
    "#如果希望进行数据标准化，还记得应该怎么做吗？\n",
    "#先用训练集训练(fit)标准化的类，然后用训练好的类分别转化(transform)训练集和测试集"
   ]
  },
  {
   "cell_type": "code",
   "execution_count": 20,
   "metadata": {},
   "outputs": [],
   "source": [
    "reg = LR().fit(Xtrain, Ytrain)"
   ]
  },
  {
   "cell_type": "code",
   "execution_count": 21,
   "metadata": {},
   "outputs": [],
   "source": [
    "yhat = reg.predict(Xtest) #预测我们的yhat"
   ]
  },
  {
   "cell_type": "code",
   "execution_count": 22,
   "metadata": {},
   "outputs": [
    {
     "data": {
      "text/plain": [
       "-0.6528439725035966"
      ]
     },
     "execution_count": 22,
     "metadata": {},
     "output_type": "execute_result"
    }
   ],
   "source": [
    "yhat.min()"
   ]
  },
  {
   "cell_type": "code",
   "execution_count": 23,
   "metadata": {},
   "outputs": [
    {
     "data": {
      "text/plain": [
       "7.146198214270875"
      ]
     },
     "execution_count": 23,
     "metadata": {},
     "output_type": "execute_result"
    }
   ],
   "source": [
    "yhat.max() # 与真实值样本有差异"
   ]
  },
  {
   "cell_type": "code",
   "execution_count": 24,
   "metadata": {},
   "outputs": [
    {
     "data": {
      "text/plain": [
       "array([ 4.37358931e-01,  1.02112683e-02, -1.07807216e-01,  6.26433828e-01,\n",
       "        5.21612535e-07, -3.34850965e-03, -4.13095938e-01, -4.26210954e-01])"
      ]
     },
     "execution_count": 24,
     "metadata": {},
     "output_type": "execute_result"
    }
   ],
   "source": [
    "reg.coef_ #w,系数向量"
   ]
  },
  {
   "cell_type": "code",
   "execution_count": 25,
   "metadata": {},
   "outputs": [
    {
     "data": {
      "text/plain": [
       "Index(['MedInc', 'HouseAge', 'AveRooms', 'AveBedrms', 'Population', 'AveOccup',\n",
       "       'Latitude', 'Longitude'],\n",
       "      dtype='object')"
      ]
     },
     "execution_count": 25,
     "metadata": {},
     "output_type": "execute_result"
    }
   ],
   "source": [
    "Xtrain.columns"
   ]
  },
  {
   "cell_type": "code",
   "execution_count": 26,
   "metadata": {
    "scrolled": true
   },
   "outputs": [
    {
     "data": {
      "text/plain": [
       "[('MedInc', 0.4373589305968403),\n",
       " ('HouseAge', 0.010211268294494038),\n",
       " ('AveRooms', -0.10780721617317715),\n",
       " ('AveBedrms', 0.6264338275363783),\n",
       " ('Population', 5.216125353178735e-07),\n",
       " ('AveOccup', -0.0033485096463336094),\n",
       " ('Latitude', -0.4130959378947711),\n",
       " ('Longitude', -0.4262109536208467)]"
      ]
     },
     "execution_count": 26,
     "metadata": {},
     "output_type": "execute_result"
    }
   ],
   "source": [
    "[*zip(Xtrain.columns,reg.coef_)]"
   ]
  },
  {
   "cell_type": "code",
   "execution_count": 27,
   "metadata": {},
   "outputs": [
    {
     "data": {
      "text/plain": [
       "-36.25689322920386"
      ]
     },
     "execution_count": 27,
     "metadata": {},
     "output_type": "execute_result"
    }
   ],
   "source": [
    "reg.intercept_"
   ]
  },
  {
   "cell_type": "code",
   "execution_count": 28,
   "metadata": {},
   "outputs": [
    {
     "data": {
      "text/plain": [
       "0.5309012639324571"
      ]
     },
     "execution_count": 28,
     "metadata": {},
     "output_type": "execute_result"
    }
   ],
   "source": [
    "from sklearn.metrics import mean_squared_error as MSE\n",
    "MSE(yhat,Ytest)"
   ]
  },
  {
   "cell_type": "code",
   "execution_count": 29,
   "metadata": {},
   "outputs": [
    {
     "data": {
      "text/plain": [
       "2.0819292877906976"
      ]
     },
     "execution_count": 29,
     "metadata": {},
     "output_type": "execute_result"
    }
   ],
   "source": [
    "Ytest.mean()"
   ]
  },
  {
   "cell_type": "code",
   "execution_count": 65,
   "metadata": {
    "scrolled": true
   },
   "outputs": [
    {
     "data": {
      "text/plain": [
       "['accuracy',\n",
       " 'adjusted_mutual_info_score',\n",
       " 'adjusted_rand_score',\n",
       " 'average_precision',\n",
       " 'balanced_accuracy',\n",
       " 'brier_score_loss',\n",
       " 'completeness_score',\n",
       " 'explained_variance',\n",
       " 'f1',\n",
       " 'f1_macro',\n",
       " 'f1_micro',\n",
       " 'f1_samples',\n",
       " 'f1_weighted',\n",
       " 'fowlkes_mallows_score',\n",
       " 'homogeneity_score',\n",
       " 'mutual_info_score',\n",
       " 'neg_log_loss',\n",
       " 'neg_mean_absolute_error',\n",
       " 'neg_mean_squared_error',\n",
       " 'neg_mean_squared_log_error',\n",
       " 'neg_median_absolute_error',\n",
       " 'normalized_mutual_info_score',\n",
       " 'precision',\n",
       " 'precision_macro',\n",
       " 'precision_micro',\n",
       " 'precision_samples',\n",
       " 'precision_weighted',\n",
       " 'r2',\n",
       " 'recall',\n",
       " 'recall_macro',\n",
       " 'recall_micro',\n",
       " 'recall_samples',\n",
       " 'recall_weighted',\n",
       " 'roc_auc',\n",
       " 'v_measure_score']"
      ]
     },
     "execution_count": 65,
     "metadata": {},
     "output_type": "execute_result"
    }
   ],
   "source": [
    "import sklearn\n",
    "sorted(sklearn.metrics.SCORERS.keys())"
   ]
  },
  {
   "cell_type": "code",
   "execution_count": 32,
   "metadata": {
    "scrolled": true
   },
   "outputs": [
    {
     "data": {
      "text/plain": [
       "-0.550952429695658"
      ]
     },
     "execution_count": 32,
     "metadata": {},
     "output_type": "execute_result"
    }
   ],
   "source": [
    "cross_val_score(reg,X,y,cv=10,scoring=\"neg_mean_squared_error\").mean()"
   ]
  },
  {
   "cell_type": "code",
   "execution_count": 33,
   "metadata": {},
   "outputs": [
    {
     "data": {
      "text/plain": [
       "0.33806537615560006"
      ]
     },
     "execution_count": 33,
     "metadata": {},
     "output_type": "execute_result"
    }
   ],
   "source": [
    "#调用R2\n",
    "from sklearn.metrics import r2_score\n",
    "r2_score(yhat,Ytest)"
   ]
  },
  {
   "cell_type": "code",
   "execution_count": 34,
   "metadata": {},
   "outputs": [
    {
     "data": {
      "text/plain": [
       "0.6043668160178817"
      ]
     },
     "execution_count": 34,
     "metadata": {},
     "output_type": "execute_result"
    }
   ],
   "source": [
    "r2 = reg.score(Xtest,Ytest)\n",
    "r2"
   ]
  },
  {
   "cell_type": "code",
   "execution_count": 35,
   "metadata": {},
   "outputs": [
    {
     "data": {
      "text/plain": [
       "0.6043668160178817"
      ]
     },
     "execution_count": 35,
     "metadata": {},
     "output_type": "execute_result"
    }
   ],
   "source": [
    "r2_score(Ytest,yhat)"
   ]
  },
  {
   "cell_type": "code",
   "execution_count": 36,
   "metadata": {},
   "outputs": [
    {
     "data": {
      "text/plain": [
       "0.6043668160178817"
      ]
     },
     "execution_count": 36,
     "metadata": {},
     "output_type": "execute_result"
    }
   ],
   "source": [
    "#或者你也可以指定参数，就不必在意顺序了\n",
    "r2_score(y_true = Ytest,y_pred = yhat)"
   ]
  },
  {
   "cell_type": "code",
   "execution_count": 37,
   "metadata": {},
   "outputs": [
    {
     "data": {
      "text/plain": [
       "0.5110068610524564"
      ]
     },
     "execution_count": 37,
     "metadata": {},
     "output_type": "execute_result"
    }
   ],
   "source": [
    "cross_val_score(reg,X,y,cv=10,scoring=\"r2\").mean()"
   ]
  },
  {
   "cell_type": "code",
   "execution_count": 38,
   "metadata": {},
   "outputs": [
    {
     "data": {
      "text/plain": [
       "[0.14999,\n",
       " 0.14999,\n",
       " 0.225,\n",
       " 0.325,\n",
       " 0.35,\n",
       " 0.375,\n",
       " 0.388,\n",
       " 0.392,\n",
       " 0.394,\n",
       " 0.396,\n",
       " 0.4,\n",
       " 0.404,\n",
       " 0.409,\n",
       " 0.41,\n",
       " 0.43,\n",
       " 0.435,\n",
       " 0.437,\n",
       " 0.439,\n",
       " 0.44,\n",
       " 0.44,\n",
       " 0.444,\n",
       " 0.446,\n",
       " 0.45,\n",
       " 0.45,\n",
       " 0.45,\n",
       " 0.45,\n",
       " 0.455,\n",
       " 0.455,\n",
       " 0.455,\n",
       " 0.456,\n",
       " 0.462,\n",
       " 0.463,\n",
       " 0.471,\n",
       " 0.475,\n",
       " 0.478,\n",
       " 0.478,\n",
       " 0.481,\n",
       " 0.481,\n",
       " 0.483,\n",
       " 0.483,\n",
       " 0.485,\n",
       " 0.485,\n",
       " 0.488,\n",
       " 0.489,\n",
       " 0.49,\n",
       " 0.492,\n",
       " 0.494,\n",
       " 0.494,\n",
       " 0.494,\n",
       " 0.495,\n",
       " 0.496,\n",
       " 0.5,\n",
       " 0.5,\n",
       " 0.504,\n",
       " 0.505,\n",
       " 0.506,\n",
       " 0.506,\n",
       " 0.508,\n",
       " 0.508,\n",
       " 0.51,\n",
       " 0.516,\n",
       " 0.519,\n",
       " 0.52,\n",
       " 0.521,\n",
       " 0.523,\n",
       " 0.523,\n",
       " 0.525,\n",
       " 0.525,\n",
       " 0.525,\n",
       " 0.525,\n",
       " 0.525,\n",
       " 0.527,\n",
       " 0.527,\n",
       " 0.528,\n",
       " 0.529,\n",
       " 0.53,\n",
       " 0.531,\n",
       " 0.532,\n",
       " 0.534,\n",
       " 0.535,\n",
       " 0.535,\n",
       " 0.535,\n",
       " 0.538,\n",
       " 0.538,\n",
       " 0.539,\n",
       " 0.539,\n",
       " 0.539,\n",
       " 0.541,\n",
       " 0.541,\n",
       " 0.542,\n",
       " 0.542,\n",
       " 0.542,\n",
       " 0.543,\n",
       " 0.543,\n",
       " 0.544,\n",
       " 0.544,\n",
       " 0.546,\n",
       " 0.547,\n",
       " 0.55,\n",
       " 0.55,\n",
       " 0.55,\n",
       " 0.55,\n",
       " 0.55,\n",
       " 0.55,\n",
       " 0.55,\n",
       " 0.55,\n",
       " 0.551,\n",
       " 0.553,\n",
       " 0.553,\n",
       " 0.553,\n",
       " 0.554,\n",
       " 0.554,\n",
       " 0.554,\n",
       " 0.555,\n",
       " 0.556,\n",
       " 0.556,\n",
       " 0.557,\n",
       " 0.558,\n",
       " 0.558,\n",
       " 0.559,\n",
       " 0.559,\n",
       " 0.559,\n",
       " 0.559,\n",
       " 0.56,\n",
       " 0.56,\n",
       " 0.562,\n",
       " 0.566,\n",
       " 0.567,\n",
       " 0.567,\n",
       " 0.567,\n",
       " 0.567,\n",
       " 0.567,\n",
       " 0.568,\n",
       " 0.57,\n",
       " 0.571,\n",
       " 0.572,\n",
       " 0.574,\n",
       " 0.574,\n",
       " 0.575,\n",
       " 0.575,\n",
       " 0.575,\n",
       " 0.575,\n",
       " 0.576,\n",
       " 0.577,\n",
       " 0.577,\n",
       " 0.577,\n",
       " 0.578,\n",
       " 0.579,\n",
       " 0.579,\n",
       " 0.579,\n",
       " 0.58,\n",
       " 0.58,\n",
       " 0.58,\n",
       " 0.58,\n",
       " 0.58,\n",
       " 0.58,\n",
       " 0.581,\n",
       " 0.581,\n",
       " 0.581,\n",
       " 0.581,\n",
       " 0.582,\n",
       " 0.583,\n",
       " 0.583,\n",
       " 0.583,\n",
       " 0.583,\n",
       " 0.584,\n",
       " 0.586,\n",
       " 0.586,\n",
       " 0.587,\n",
       " 0.588,\n",
       " 0.588,\n",
       " 0.59,\n",
       " 0.59,\n",
       " 0.59,\n",
       " 0.59,\n",
       " 0.591,\n",
       " 0.591,\n",
       " 0.593,\n",
       " 0.593,\n",
       " 0.594,\n",
       " 0.594,\n",
       " 0.594,\n",
       " 0.594,\n",
       " 0.595,\n",
       " 0.596,\n",
       " 0.596,\n",
       " 0.597,\n",
       " 0.598,\n",
       " 0.598,\n",
       " 0.6,\n",
       " 0.6,\n",
       " 0.6,\n",
       " 0.602,\n",
       " 0.602,\n",
       " 0.603,\n",
       " 0.604,\n",
       " 0.604,\n",
       " 0.604,\n",
       " 0.605,\n",
       " 0.606,\n",
       " 0.606,\n",
       " 0.608,\n",
       " 0.608,\n",
       " 0.608,\n",
       " 0.609,\n",
       " 0.609,\n",
       " 0.611,\n",
       " 0.612,\n",
       " 0.612,\n",
       " 0.613,\n",
       " 0.613,\n",
       " 0.613,\n",
       " 0.614,\n",
       " 0.615,\n",
       " 0.616,\n",
       " 0.616,\n",
       " 0.616,\n",
       " 0.616,\n",
       " 0.618,\n",
       " 0.618,\n",
       " 0.618,\n",
       " 0.619,\n",
       " 0.619,\n",
       " 0.62,\n",
       " 0.62,\n",
       " 0.62,\n",
       " 0.62,\n",
       " 0.62,\n",
       " 0.62,\n",
       " 0.62,\n",
       " 0.62,\n",
       " 0.621,\n",
       " 0.621,\n",
       " 0.621,\n",
       " 0.622,\n",
       " 0.623,\n",
       " 0.625,\n",
       " 0.625,\n",
       " 0.625,\n",
       " 0.627,\n",
       " 0.627,\n",
       " 0.628,\n",
       " 0.628,\n",
       " 0.629,\n",
       " 0.63,\n",
       " 0.63,\n",
       " 0.63,\n",
       " 0.63,\n",
       " 0.631,\n",
       " 0.631,\n",
       " 0.632,\n",
       " 0.632,\n",
       " 0.633,\n",
       " 0.633,\n",
       " 0.633,\n",
       " 0.634,\n",
       " 0.634,\n",
       " 0.635,\n",
       " 0.635,\n",
       " 0.635,\n",
       " 0.635,\n",
       " 0.635,\n",
       " 0.637,\n",
       " 0.637,\n",
       " 0.637,\n",
       " 0.637,\n",
       " 0.638,\n",
       " 0.639,\n",
       " 0.643,\n",
       " 0.644,\n",
       " 0.644,\n",
       " 0.646,\n",
       " 0.646,\n",
       " 0.646,\n",
       " 0.646,\n",
       " 0.647,\n",
       " 0.647,\n",
       " 0.647,\n",
       " 0.648,\n",
       " 0.65,\n",
       " 0.65,\n",
       " 0.65,\n",
       " 0.652,\n",
       " 0.652,\n",
       " 0.654,\n",
       " 0.654,\n",
       " 0.654,\n",
       " 0.655,\n",
       " 0.656,\n",
       " 0.656,\n",
       " 0.656,\n",
       " 0.656,\n",
       " 0.657,\n",
       " 0.658,\n",
       " 0.658,\n",
       " 0.659,\n",
       " 0.659,\n",
       " 0.659,\n",
       " 0.659,\n",
       " 0.659,\n",
       " 0.66,\n",
       " 0.661,\n",
       " 0.661,\n",
       " 0.662,\n",
       " 0.662,\n",
       " 0.663,\n",
       " 0.664,\n",
       " 0.664,\n",
       " 0.664,\n",
       " 0.668,\n",
       " 0.669,\n",
       " 0.669,\n",
       " 0.67,\n",
       " 0.67,\n",
       " 0.67,\n",
       " 0.67,\n",
       " 0.67,\n",
       " 0.67,\n",
       " 0.672,\n",
       " 0.672,\n",
       " 0.672,\n",
       " 0.673,\n",
       " 0.673,\n",
       " 0.674,\n",
       " 0.675,\n",
       " 0.675,\n",
       " 0.675,\n",
       " 0.675,\n",
       " 0.675,\n",
       " 0.675,\n",
       " 0.675,\n",
       " 0.675,\n",
       " 0.675,\n",
       " 0.675,\n",
       " 0.675,\n",
       " 0.675,\n",
       " 0.675,\n",
       " 0.676,\n",
       " 0.676,\n",
       " 0.677,\n",
       " 0.678,\n",
       " 0.68,\n",
       " 0.68,\n",
       " 0.681,\n",
       " 0.682,\n",
       " 0.682,\n",
       " 0.682,\n",
       " 0.682,\n",
       " 0.683,\n",
       " 0.683,\n",
       " 0.683,\n",
       " 0.684,\n",
       " 0.684,\n",
       " 0.685,\n",
       " 0.685,\n",
       " 0.685,\n",
       " 0.685,\n",
       " 0.686,\n",
       " 0.686,\n",
       " 0.687,\n",
       " 0.688,\n",
       " 0.689,\n",
       " 0.689,\n",
       " 0.689,\n",
       " 0.69,\n",
       " 0.69,\n",
       " 0.691,\n",
       " 0.691,\n",
       " 0.692,\n",
       " 0.693,\n",
       " 0.694,\n",
       " 0.694,\n",
       " 0.694,\n",
       " 0.694,\n",
       " 0.694,\n",
       " 0.695,\n",
       " 0.695,\n",
       " 0.695,\n",
       " 0.696,\n",
       " 0.696,\n",
       " 0.697,\n",
       " 0.698,\n",
       " 0.699,\n",
       " 0.699,\n",
       " 0.7,\n",
       " 0.7,\n",
       " 0.7,\n",
       " 0.7,\n",
       " 0.7,\n",
       " 0.7,\n",
       " 0.701,\n",
       " 0.701,\n",
       " 0.701,\n",
       " 0.702,\n",
       " 0.702,\n",
       " 0.703,\n",
       " 0.704,\n",
       " 0.704,\n",
       " 0.705,\n",
       " 0.705,\n",
       " 0.706,\n",
       " 0.707,\n",
       " 0.707,\n",
       " 0.707,\n",
       " 0.708,\n",
       " 0.709,\n",
       " 0.71,\n",
       " 0.71,\n",
       " 0.71,\n",
       " 0.711,\n",
       " 0.712,\n",
       " 0.712,\n",
       " 0.713,\n",
       " 0.713,\n",
       " 0.713,\n",
       " 0.714,\n",
       " 0.715,\n",
       " 0.716,\n",
       " 0.718,\n",
       " 0.719,\n",
       " 0.72,\n",
       " 0.72,\n",
       " 0.72,\n",
       " 0.721,\n",
       " 0.722,\n",
       " 0.723,\n",
       " 0.723,\n",
       " 0.723,\n",
       " 0.723,\n",
       " 0.723,\n",
       " 0.725,\n",
       " 0.725,\n",
       " 0.727,\n",
       " 0.727,\n",
       " 0.728,\n",
       " 0.729,\n",
       " 0.729,\n",
       " 0.73,\n",
       " 0.73,\n",
       " 0.73,\n",
       " 0.73,\n",
       " 0.73,\n",
       " 0.731,\n",
       " 0.731,\n",
       " 0.731,\n",
       " 0.731,\n",
       " 0.732,\n",
       " 0.733,\n",
       " 0.733,\n",
       " 0.734,\n",
       " 0.735,\n",
       " 0.735,\n",
       " 0.737,\n",
       " 0.738,\n",
       " 0.738,\n",
       " 0.738,\n",
       " 0.74,\n",
       " 0.74,\n",
       " 0.74,\n",
       " 0.741,\n",
       " 0.741,\n",
       " 0.741,\n",
       " 0.743,\n",
       " 0.746,\n",
       " 0.746,\n",
       " 0.747,\n",
       " 0.748,\n",
       " 0.749,\n",
       " 0.75,\n",
       " 0.75,\n",
       " 0.75,\n",
       " 0.75,\n",
       " 0.75,\n",
       " 0.75,\n",
       " 0.75,\n",
       " 0.752,\n",
       " 0.752,\n",
       " 0.754,\n",
       " 0.756,\n",
       " 0.756,\n",
       " 0.757,\n",
       " 0.759,\n",
       " 0.759,\n",
       " 0.759,\n",
       " 0.76,\n",
       " 0.76,\n",
       " 0.761,\n",
       " 0.762,\n",
       " 0.762,\n",
       " 0.762,\n",
       " 0.762,\n",
       " 0.763,\n",
       " 0.764,\n",
       " 0.764,\n",
       " 0.765,\n",
       " 0.766,\n",
       " 0.768,\n",
       " 0.769,\n",
       " 0.77,\n",
       " 0.771,\n",
       " 0.771,\n",
       " 0.771,\n",
       " 0.772,\n",
       " 0.772,\n",
       " 0.773,\n",
       " 0.774,\n",
       " 0.774,\n",
       " 0.775,\n",
       " 0.777,\n",
       " 0.777,\n",
       " 0.779,\n",
       " 0.78,\n",
       " 0.78,\n",
       " 0.78,\n",
       " 0.781,\n",
       " 0.783,\n",
       " 0.783,\n",
       " 0.785,\n",
       " 0.786,\n",
       " 0.786,\n",
       " 0.786,\n",
       " 0.786,\n",
       " 0.788,\n",
       " 0.788,\n",
       " 0.788,\n",
       " 0.788,\n",
       " 0.788,\n",
       " 0.79,\n",
       " 0.79,\n",
       " 0.79,\n",
       " 0.792,\n",
       " 0.792,\n",
       " 0.792,\n",
       " 0.795,\n",
       " 0.795,\n",
       " 0.795,\n",
       " 0.797,\n",
       " 0.797,\n",
       " 0.798,\n",
       " 0.799,\n",
       " 0.8,\n",
       " 0.801,\n",
       " 0.802,\n",
       " 0.803,\n",
       " 0.804,\n",
       " 0.804,\n",
       " 0.804,\n",
       " 0.806,\n",
       " 0.806,\n",
       " 0.808,\n",
       " 0.808,\n",
       " 0.808,\n",
       " 0.809,\n",
       " 0.81,\n",
       " 0.81,\n",
       " 0.811,\n",
       " 0.813,\n",
       " 0.813,\n",
       " 0.813,\n",
       " 0.813,\n",
       " 0.813,\n",
       " 0.813,\n",
       " 0.813,\n",
       " 0.813,\n",
       " 0.813,\n",
       " 0.813,\n",
       " 0.813,\n",
       " 0.813,\n",
       " 0.813,\n",
       " 0.813,\n",
       " 0.814,\n",
       " 0.814,\n",
       " 0.816,\n",
       " 0.817,\n",
       " 0.817,\n",
       " 0.817,\n",
       " 0.821,\n",
       " 0.821,\n",
       " 0.821,\n",
       " 0.823,\n",
       " 0.823,\n",
       " 0.824,\n",
       " 0.825,\n",
       " 0.825,\n",
       " 0.825,\n",
       " 0.826,\n",
       " 0.827,\n",
       " 0.827,\n",
       " 0.828,\n",
       " 0.828,\n",
       " 0.828,\n",
       " 0.83,\n",
       " 0.83,\n",
       " 0.83,\n",
       " 0.831,\n",
       " 0.831,\n",
       " 0.831,\n",
       " 0.832,\n",
       " 0.832,\n",
       " 0.832,\n",
       " 0.833,\n",
       " 0.833,\n",
       " 0.834,\n",
       " 0.835,\n",
       " 0.835,\n",
       " 0.836,\n",
       " 0.836,\n",
       " 0.837,\n",
       " 0.838,\n",
       " 0.839,\n",
       " 0.839,\n",
       " 0.839,\n",
       " 0.839,\n",
       " 0.84,\n",
       " 0.841,\n",
       " 0.842,\n",
       " 0.842,\n",
       " 0.842,\n",
       " 0.843,\n",
       " 0.843,\n",
       " 0.844,\n",
       " 0.844,\n",
       " 0.844,\n",
       " 0.845,\n",
       " 0.845,\n",
       " 0.845,\n",
       " 0.845,\n",
       " 0.846,\n",
       " 0.846,\n",
       " 0.846,\n",
       " 0.846,\n",
       " 0.847,\n",
       " 0.847,\n",
       " 0.847,\n",
       " 0.847,\n",
       " 0.847,\n",
       " 0.847,\n",
       " 0.848,\n",
       " 0.849,\n",
       " 0.849,\n",
       " 0.85,\n",
       " 0.85,\n",
       " 0.85,\n",
       " 0.851,\n",
       " 0.851,\n",
       " 0.851,\n",
       " 0.851,\n",
       " 0.852,\n",
       " 0.853,\n",
       " 0.853,\n",
       " 0.854,\n",
       " 0.854,\n",
       " 0.854,\n",
       " 0.855,\n",
       " 0.855,\n",
       " 0.855,\n",
       " 0.855,\n",
       " 0.856,\n",
       " 0.857,\n",
       " 0.857,\n",
       " 0.857,\n",
       " 0.857,\n",
       " 0.857,\n",
       " 0.858,\n",
       " 0.859,\n",
       " 0.859,\n",
       " 0.859,\n",
       " 0.859,\n",
       " 0.859,\n",
       " 0.861,\n",
       " 0.862,\n",
       " 0.863,\n",
       " 0.863,\n",
       " 0.863,\n",
       " 0.864,\n",
       " 0.864,\n",
       " 0.864,\n",
       " 0.864,\n",
       " 0.865,\n",
       " 0.865,\n",
       " 0.865,\n",
       " 0.866,\n",
       " 0.867,\n",
       " 0.867,\n",
       " 0.868,\n",
       " 0.869,\n",
       " 0.869,\n",
       " 0.869,\n",
       " 0.869,\n",
       " 0.87,\n",
       " 0.87,\n",
       " 0.871,\n",
       " 0.871,\n",
       " 0.872,\n",
       " 0.872,\n",
       " 0.872,\n",
       " 0.873,\n",
       " 0.874,\n",
       " 0.875,\n",
       " 0.875,\n",
       " 0.875,\n",
       " 0.875,\n",
       " 0.875,\n",
       " 0.875,\n",
       " 0.875,\n",
       " 0.875,\n",
       " 0.875,\n",
       " 0.875,\n",
       " 0.875,\n",
       " 0.875,\n",
       " 0.875,\n",
       " 0.875,\n",
       " 0.875,\n",
       " 0.875,\n",
       " 0.875,\n",
       " 0.875,\n",
       " 0.875,\n",
       " 0.875,\n",
       " 0.875,\n",
       " 0.875,\n",
       " 0.875,\n",
       " 0.875,\n",
       " 0.876,\n",
       " 0.876,\n",
       " 0.877,\n",
       " 0.877,\n",
       " 0.878,\n",
       " 0.878,\n",
       " 0.878,\n",
       " 0.879,\n",
       " 0.879,\n",
       " 0.879,\n",
       " 0.88,\n",
       " 0.88,\n",
       " 0.881,\n",
       " 0.881,\n",
       " 0.882,\n",
       " 0.882,\n",
       " 0.882,\n",
       " 0.882,\n",
       " 0.883,\n",
       " 0.883,\n",
       " 0.883,\n",
       " 0.883,\n",
       " 0.883,\n",
       " 0.883,\n",
       " 0.884,\n",
       " 0.885,\n",
       " 0.885,\n",
       " 0.886,\n",
       " 0.887,\n",
       " 0.887,\n",
       " 0.887,\n",
       " 0.888,\n",
       " 0.888,\n",
       " 0.888,\n",
       " 0.889,\n",
       " 0.889,\n",
       " 0.889,\n",
       " 0.889,\n",
       " 0.889,\n",
       " 0.89,\n",
       " 0.891,\n",
       " 0.892,\n",
       " 0.892,\n",
       " 0.892,\n",
       " 0.893,\n",
       " 0.893,\n",
       " 0.894,\n",
       " 0.895,\n",
       " 0.896,\n",
       " 0.896,\n",
       " 0.897,\n",
       " 0.897,\n",
       " 0.898,\n",
       " 0.898,\n",
       " 0.899,\n",
       " 0.9,\n",
       " 0.9,\n",
       " 0.9,\n",
       " 0.901,\n",
       " 0.901,\n",
       " 0.901,\n",
       " 0.902,\n",
       " 0.903,\n",
       " 0.903,\n",
       " 0.904,\n",
       " 0.904,\n",
       " 0.904,\n",
       " 0.905,\n",
       " 0.905,\n",
       " 0.905,\n",
       " 0.905,\n",
       " 0.906,\n",
       " 0.906,\n",
       " 0.906,\n",
       " 0.906,\n",
       " 0.907,\n",
       " 0.907,\n",
       " 0.908,\n",
       " 0.911,\n",
       " 0.911,\n",
       " 0.912,\n",
       " 0.914,\n",
       " 0.915,\n",
       " 0.915,\n",
       " 0.916,\n",
       " 0.916,\n",
       " 0.917,\n",
       " 0.917,\n",
       " 0.917,\n",
       " 0.917,\n",
       " 0.918,\n",
       " 0.918,\n",
       " 0.918,\n",
       " 0.919,\n",
       " 0.919,\n",
       " 0.919,\n",
       " 0.92,\n",
       " 0.92,\n",
       " 0.922,\n",
       " 0.922,\n",
       " 0.922,\n",
       " 0.922,\n",
       " 0.922,\n",
       " 0.924,\n",
       " 0.925,\n",
       " 0.925,\n",
       " 0.925,\n",
       " 0.925,\n",
       " 0.926,\n",
       " 0.926,\n",
       " 0.926,\n",
       " 0.926,\n",
       " 0.926,\n",
       " 0.926,\n",
       " 0.926,\n",
       " 0.926,\n",
       " 0.926,\n",
       " 0.926,\n",
       " 0.927,\n",
       " 0.927,\n",
       " 0.927,\n",
       " 0.927,\n",
       " 0.928,\n",
       " 0.928,\n",
       " 0.928,\n",
       " 0.928,\n",
       " 0.928,\n",
       " 0.929,\n",
       " 0.93,\n",
       " 0.93,\n",
       " 0.931,\n",
       " 0.931,\n",
       " 0.931,\n",
       " 0.931,\n",
       " 0.931,\n",
       " 0.931,\n",
       " 0.932,\n",
       " 0.932,\n",
       " 0.932,\n",
       " 0.932,\n",
       " 0.933,\n",
       " 0.933,\n",
       " 0.933,\n",
       " 0.934,\n",
       " 0.934,\n",
       " 0.934,\n",
       " 0.934,\n",
       " 0.934,\n",
       " 0.935,\n",
       " 0.935,\n",
       " 0.935,\n",
       " 0.936,\n",
       " 0.936,\n",
       " 0.936,\n",
       " 0.936,\n",
       " 0.938,\n",
       " 0.938,\n",
       " 0.938,\n",
       " 0.938,\n",
       " 0.938,\n",
       " 0.938,\n",
       " 0.938,\n",
       " 0.938,\n",
       " 0.938,\n",
       " 0.938,\n",
       " 0.938,\n",
       " 0.939,\n",
       " 0.939,\n",
       " 0.94,\n",
       " 0.94,\n",
       " 0.942,\n",
       " 0.942,\n",
       " 0.943,\n",
       " 0.943,\n",
       " 0.944,\n",
       " 0.944,\n",
       " 0.944,\n",
       " 0.945,\n",
       " 0.945,\n",
       " 0.946,\n",
       " 0.946,\n",
       " 0.946,\n",
       " 0.946,\n",
       " 0.946,\n",
       " 0.946,\n",
       " 0.946,\n",
       " 0.947,\n",
       " 0.947,\n",
       " 0.948,\n",
       " 0.948,\n",
       " 0.948,\n",
       " 0.949,\n",
       " 0.949,\n",
       " 0.95,\n",
       " 0.95,\n",
       " 0.95,\n",
       " 0.95,\n",
       " 0.95,\n",
       " 0.951,\n",
       " 0.952,\n",
       " 0.952,\n",
       " 0.953,\n",
       " 0.953,\n",
       " 0.953,\n",
       " 0.953,\n",
       " 0.954,\n",
       " 0.955,\n",
       " 0.955,\n",
       " 0.955,\n",
       " 0.955,\n",
       " 0.955,\n",
       " 0.956,\n",
       " 0.957,\n",
       " 0.957,\n",
       " 0.957,\n",
       " 0.958,\n",
       " 0.958,\n",
       " 0.958,\n",
       " 0.958,\n",
       " 0.958,\n",
       " 0.958,\n",
       " 0.96,\n",
       " 0.96,\n",
       " 0.96,\n",
       " 0.96,\n",
       " 0.96,\n",
       " 0.96,\n",
       " 0.961,\n",
       " 0.961,\n",
       " 0.962,\n",
       " 0.962,\n",
       " 0.962,\n",
       " 0.962,\n",
       " 0.962,\n",
       " 0.962,\n",
       " 0.962,\n",
       " 0.963,\n",
       " 0.964,\n",
       " 0.964,\n",
       " 0.964,\n",
       " 0.964,\n",
       " 0.965,\n",
       " 0.965,\n",
       " 0.965,\n",
       " 0.966,\n",
       " 0.966,\n",
       " 0.966,\n",
       " 0.967,\n",
       " 0.967,\n",
       " 0.967,\n",
       " 0.968,\n",
       " 0.968,\n",
       " 0.969,\n",
       " 0.969,\n",
       " 0.969,\n",
       " 0.969,\n",
       " 0.97,\n",
       " 0.971,\n",
       " 0.972,\n",
       " 0.972,\n",
       " 0.973,\n",
       " 0.973,\n",
       " 0.973,\n",
       " 0.974,\n",
       " 0.974,\n",
       " 0.974,\n",
       " 0.974,\n",
       " 0.976,\n",
       " 0.976,\n",
       " 0.976,\n",
       " 0.976,\n",
       " 0.977,\n",
       " 0.977,\n",
       " 0.978,\n",
       " 0.978,\n",
       " 0.978,\n",
       " 0.979,\n",
       " 0.979,\n",
       " ...]"
      ]
     },
     "execution_count": 38,
     "metadata": {},
     "output_type": "execute_result"
    }
   ],
   "source": [
    "import matplotlib.pyplot as plt\n",
    "sorted(Ytest)"
   ]
  },
  {
   "cell_type": "code",
   "execution_count": 39,
   "metadata": {},
   "outputs": [
    {
     "data": {
      "image/png": "[encoded data removed]",
      "text/plain": [
       "<Figure size 432x288 with 1 Axes>"
      ]
     },
     "metadata": {
      "needs_background": "light"
     },
     "output_type": "display_data"
    }
   ],
   "source": [
    "plt.plot(range(len(Ytest)),sorted(Ytest),c=\"black\",label= \"Data\")\n",
    "plt.plot(range(len(yhat)),sorted(yhat),c=\"red\",label = \"Predict\")\n",
    "plt.legend()\n",
    "plt.show()"
   ]
  },
  {
   "cell_type": "code",
   "execution_count": 40,
   "metadata": {
    "scrolled": true
   },
   "outputs": [
    {
     "data": {
      "text/plain": [
       "array([-179.12952605,   -5.692624  ,  -15.61747513,  -78.68042858,\n",
       "        -59.5311006 ])"
      ]
     },
     "execution_count": 40,
     "metadata": {},
     "output_type": "execute_result"
    }
   ],
   "source": [
    "import numpy as np\n",
    "rng = np.random.RandomState(42)\n",
    "X = rng.randn(100, 80)\n",
    "y = rng.randn(100)\n",
    "cross_val_score(LR(), X, y, cv=5, scoring='r2')"
   ]
  },
  {
   "cell_type": "code",
   "execution_count": 1,
   "metadata": {},
   "outputs": [],
   "source": [
    "import numpy as np\n",
    "import pandas as pd\n",
    "from sklearn.linear_model import Ridge, LinearRegression, Lasso\n",
    "from sklearn.model_selection import train_test_split as TTS\n",
    "from sklearn.datasets import fetch_california_housing as fch\n",
    "import matplotlib.pyplot as plt\n",
    "\n",
    "housevalue = fch()\n",
    "\n",
    "X = pd.DataFrame(housevalue.data)\n",
    "y = housevalue.target\n",
    "X.columns = [\"住户收入中位数\",\"房屋使用年代中位数\",\"平均房间数目\"\n",
    "            ,\"平均卧室数目\",\"街区人口\",\"平均入住率\",\"街区的纬度\",\"街区的经度\"]"
   ]
  },
  {
   "cell_type": "code",
   "execution_count": 2,
   "metadata": {},
   "outputs": [
    {
     "data": {
      "text/html": [
       "<div>\n",
       "<style scoped>\n",
       "    .dataframe tbody tr th:only-of-type {\n",
       "        vertical-align: middle;\n",
       "    }\n",
       "\n",
       "    .dataframe tbody tr th {\n",
       "        vertical-align: top;\n",
       "    }\n",
       "\n",
       "    .dataframe thead th {\n",
       "        text-align: right;\n",
       "    }\n",
       "</style>\n",
       "<table border=\"1\" class=\"dataframe\">\n",
       "  <thead>\n",
       "    <tr style=\"text-align: right;\">\n",
       "      <th></th>\n",
       "      <th>住户收入中位数</th>\n",
       "      <th>房屋使用年代中位数</th>\n",
       "      <th>平均房间数目</th>\n",
       "      <th>平均卧室数目</th>\n",
       "      <th>街区人口</th>\n",
       "      <th>平均入住率</th>\n",
       "      <th>街区的纬度</th>\n",
       "      <th>街区的经度</th>\n",
       "    </tr>\n",
       "  </thead>\n",
       "  <tbody>\n",
       "    <tr>\n",
       "      <th>0</th>\n",
       "      <td>8.3252</td>\n",
       "      <td>41.0</td>\n",
       "      <td>6.984127</td>\n",
       "      <td>1.023810</td>\n",
       "      <td>322.0</td>\n",
       "      <td>2.555556</td>\n",
       "      <td>37.88</td>\n",
       "      <td>-122.23</td>\n",
       "    </tr>\n",
       "    <tr>\n",
       "      <th>1</th>\n",
       "      <td>8.3014</td>\n",
       "      <td>21.0</td>\n",
       "      <td>6.238137</td>\n",
       "      <td>0.971880</td>\n",
       "      <td>2401.0</td>\n",
       "      <td>2.109842</td>\n",
       "      <td>37.86</td>\n",
       "      <td>-122.22</td>\n",
       "    </tr>\n",
       "    <tr>\n",
       "      <th>2</th>\n",
       "      <td>7.2574</td>\n",
       "      <td>52.0</td>\n",
       "      <td>8.288136</td>\n",
       "      <td>1.073446</td>\n",
       "      <td>496.0</td>\n",
       "      <td>2.802260</td>\n",
       "      <td>37.85</td>\n",
       "      <td>-122.24</td>\n",
       "    </tr>\n",
       "    <tr>\n",
       "      <th>3</th>\n",
       "      <td>5.6431</td>\n",
       "      <td>52.0</td>\n",
       "      <td>5.817352</td>\n",
       "      <td>1.073059</td>\n",
       "      <td>558.0</td>\n",
       "      <td>2.547945</td>\n",
       "      <td>37.85</td>\n",
       "      <td>-122.25</td>\n",
       "    </tr>\n",
       "    <tr>\n",
       "      <th>4</th>\n",
       "      <td>3.8462</td>\n",
       "      <td>52.0</td>\n",
       "      <td>6.281853</td>\n",
       "      <td>1.081081</td>\n",
       "      <td>565.0</td>\n",
       "      <td>2.181467</td>\n",
       "      <td>37.85</td>\n",
       "      <td>-122.25</td>\n",
       "    </tr>\n",
       "  </tbody>\n",
       "</table>\n",
       "</div>"
      ],
      "text/plain": [
       "   住户收入中位数  房屋使用年代中位数    平均房间数目    平均卧室数目    街区人口     平均入住率  街区的纬度   街区的经度\n",
       "0   8.3252       41.0  6.984127  1.023810   322.0  2.555556  37.88 -122.23\n",
       "1   8.3014       21.0  6.238137  0.971880  2401.0  2.109842  37.86 -122.22\n",
       "2   7.2574       52.0  8.288136  1.073446   496.0  2.802260  37.85 -122.24\n",
       "3   5.6431       52.0  5.817352  1.073059   558.0  2.547945  37.85 -122.25\n",
       "4   3.8462       52.0  6.281853  1.081081   565.0  2.181467  37.85 -122.25"
      ]
     },
     "execution_count": 2,
     "metadata": {},
     "output_type": "execute_result"
    }
   ],
   "source": [
    "X.head()"
   ]
  },
  {
   "cell_type": "code",
   "execution_count": 3,
   "metadata": {},
   "outputs": [],
   "source": [
    "Xtrain,Xtest,Ytrain,Ytest = TTS(X,y,test_size=0.3,random_state=420)"
   ]
  },
  {
   "cell_type": "code",
   "execution_count": 4,
   "metadata": {},
   "outputs": [],
   "source": [
    "for i in [Xtrain,Xtest]:\n",
    "    i.index = range(i.shape[0])"
   ]
  },
  {
   "cell_type": "code",
   "execution_count": 5,
   "metadata": {},
   "outputs": [
    {
     "data": {
      "text/html": [
       "<div>\n",
       "<style scoped>\n",
       "    .dataframe tbody tr th:only-of-type {\n",
       "        vertical-align: middle;\n",
       "    }\n",
       "\n",
       "    .dataframe tbody tr th {\n",
       "        vertical-align: top;\n",
       "    }\n",
       "\n",
       "    .dataframe thead th {\n",
       "        text-align: right;\n",
       "    }\n",
       "</style>\n",
       "<table border=\"1\" class=\"dataframe\">\n",
       "  <thead>\n",
       "    <tr style=\"text-align: right;\">\n",
       "      <th></th>\n",
       "      <th>住户收入中位数</th>\n",
       "      <th>房屋使用年代中位数</th>\n",
       "      <th>平均房间数目</th>\n",
       "      <th>平均卧室数目</th>\n",
       "      <th>街区人口</th>\n",
       "      <th>平均入住率</th>\n",
       "      <th>街区的纬度</th>\n",
       "      <th>街区的经度</th>\n",
       "    </tr>\n",
       "  </thead>\n",
       "  <tbody>\n",
       "    <tr>\n",
       "      <th>0</th>\n",
       "      <td>4.1776</td>\n",
       "      <td>35.0</td>\n",
       "      <td>4.425172</td>\n",
       "      <td>1.030683</td>\n",
       "      <td>5380.0</td>\n",
       "      <td>3.368817</td>\n",
       "      <td>37.48</td>\n",
       "      <td>-122.19</td>\n",
       "    </tr>\n",
       "    <tr>\n",
       "      <th>1</th>\n",
       "      <td>5.3261</td>\n",
       "      <td>38.0</td>\n",
       "      <td>6.267516</td>\n",
       "      <td>1.089172</td>\n",
       "      <td>429.0</td>\n",
       "      <td>2.732484</td>\n",
       "      <td>37.53</td>\n",
       "      <td>-122.30</td>\n",
       "    </tr>\n",
       "    <tr>\n",
       "      <th>2</th>\n",
       "      <td>1.9439</td>\n",
       "      <td>26.0</td>\n",
       "      <td>5.768977</td>\n",
       "      <td>1.141914</td>\n",
       "      <td>891.0</td>\n",
       "      <td>2.940594</td>\n",
       "      <td>36.02</td>\n",
       "      <td>-119.08</td>\n",
       "    </tr>\n",
       "    <tr>\n",
       "      <th>3</th>\n",
       "      <td>2.5000</td>\n",
       "      <td>22.0</td>\n",
       "      <td>4.916000</td>\n",
       "      <td>1.012000</td>\n",
       "      <td>733.0</td>\n",
       "      <td>2.932000</td>\n",
       "      <td>38.57</td>\n",
       "      <td>-121.31</td>\n",
       "    </tr>\n",
       "    <tr>\n",
       "      <th>4</th>\n",
       "      <td>3.8250</td>\n",
       "      <td>34.0</td>\n",
       "      <td>5.036765</td>\n",
       "      <td>1.098039</td>\n",
       "      <td>1134.0</td>\n",
       "      <td>2.779412</td>\n",
       "      <td>33.91</td>\n",
       "      <td>-118.35</td>\n",
       "    </tr>\n",
       "  </tbody>\n",
       "</table>\n",
       "</div>"
      ],
      "text/plain": [
       "   住户收入中位数  房屋使用年代中位数    平均房间数目    平均卧室数目    街区人口     平均入住率  街区的纬度   街区的经度\n",
       "0   4.1776       35.0  4.425172  1.030683  5380.0  3.368817  37.48 -122.19\n",
       "1   5.3261       38.0  6.267516  1.089172   429.0  2.732484  37.53 -122.30\n",
       "2   1.9439       26.0  5.768977  1.141914   891.0  2.940594  36.02 -119.08\n",
       "3   2.5000       22.0  4.916000  1.012000   733.0  2.932000  38.57 -121.31\n",
       "4   3.8250       34.0  5.036765  1.098039  1134.0  2.779412  33.91 -118.35"
      ]
     },
     "execution_count": 5,
     "metadata": {},
     "output_type": "execute_result"
    }
   ],
   "source": [
    "Xtrain.head()"
   ]
  },
  {
   "cell_type": "code",
   "execution_count": 6,
   "metadata": {},
   "outputs": [
    {
     "data": {
      "text/plain": [
       "0.6043610352312276"
      ]
     },
     "execution_count": 6,
     "metadata": {},
     "output_type": "execute_result"
    }
   ],
   "source": [
    "#使用岭回归来进行建模\n",
    "reg = Ridge(alpha=1).fit(Xtrain,Ytrain)\n",
    "reg.score(Xtest,Ytest) #加利佛尼亚房屋价值数据集中应该不是共线性问题"
   ]
  },
  {
   "cell_type": "code",
   "execution_count": 8,
   "metadata": {},
   "outputs": [
    {
     "data": {
      "image/png": "[encoded data removed]",
      "text/plain": [
       "<Figure size 432x288 with 1 Axes>"
      ]
     },
     "metadata": {
      "needs_background": "light"
     },
     "output_type": "display_data"
    }
   ],
   "source": [
    "#交叉验证下，与线性回归相比，岭回归的结果如何变化？\n",
    "from sklearn.model_selection import cross_val_score\n",
    "\n",
    "alpharange = np.arange(1,1001,100)\n",
    "ridge, lr = [], []\n",
    "for alpha in alpharange:\n",
    "    reg = Ridge(alpha=alpha)\n",
    "    linear = LinearRegression()\n",
    "    regs = cross_val_score(reg,X,y,cv=5,scoring = \"r2\").mean()\n",
    "    linears = cross_val_score(linear,X,y,cv=5,scoring = \"r2\").mean()\n",
    "    ridge.append(regs)\n",
    "    lr.append(linears)\n",
    "plt.plot(alpharange,ridge,color=\"red\",label=\"Ridge\")\n",
    "plt.plot(alpharange,lr,color=\"orange\",label=\"LR\")\n",
    "plt.title(\"Mean\")\n",
    "plt.legend()\n",
    "plt.show()"
   ]
  },
  {
   "cell_type": "code",
   "execution_count": 9,
   "metadata": {},
   "outputs": [
    {
     "data": {
      "text/plain": [
       "0.6035230850669467"
      ]
     },
     "execution_count": 9,
     "metadata": {},
     "output_type": "execute_result"
    }
   ],
   "source": [
    "#使用岭回归来进行建模\n",
    "reg = Ridge(alpha=101).fit(Xtrain,Ytrain)\n",
    "reg.score(Xtest,Ytest) #加利佛尼亚房屋价值数据集中应该不是共线性问题"
   ]
  },
  {
   "cell_type": "code",
   "execution_count": 10,
   "metadata": {},
   "outputs": [
    {
     "data": {
      "image/png": "[encoded data removed]",
      "text/plain": [
       "<Figure size 432x288 with 1 Axes>"
      ]
     },
     "metadata": {
      "needs_background": "light"
     },
     "output_type": "display_data"
    }
   ],
   "source": [
    "#细化一下学习曲线\n",
    "alpharange = np.arange(1,201,10)\n",
    "ridge, lr = [], []\n",
    "for alpha in alpharange:\n",
    "    reg = Ridge(alpha=alpha)\n",
    "    linear = LinearRegression()\n",
    "    regs = cross_val_score(reg,X,y,cv=5,scoring = \"r2\").mean()\n",
    "    linears = cross_val_score(linear,X,y,cv=5,scoring = \"r2\").mean()\n",
    "    ridge.append(regs)\n",
    "    lr.append(linears)\n",
    "plt.plot(alpharange,ridge,color=\"red\",label=\"Ridge\")\n",
    "plt.plot(alpharange,lr,color=\"orange\",label=\"LR\")\n",
    "plt.title(\"Mean\")\n",
    "plt.legend()\n",
    "plt.show()"
   ]
  },
  {
   "cell_type": "code",
   "execution_count": 11,
   "metadata": {},
   "outputs": [
    {
     "data": {
      "image/png": "[encoded data removed]",
      "text/plain": [
       "<Figure size 432x288 with 1 Axes>"
      ]
     },
     "metadata": {
      "needs_background": "light"
     },
     "output_type": "display_data"
    }
   ],
   "source": [
    "#模型方差如何变化？\n",
    "alpharange = np.arange(1,1001,100)\n",
    "ridge, lr = [], []\n",
    "for alpha in alpharange:\n",
    "    reg = Ridge(alpha=alpha)\n",
    "    linear = LinearRegression()\n",
    "    varR = cross_val_score(reg,X,y,cv=5,scoring=\"r2\").var()\n",
    "    varLR = cross_val_score(linear,X,y,cv=5,scoring=\"r2\").var()\n",
    "    ridge.append(varR)\n",
    "    lr.append(varLR)\n",
    "plt.plot(alpharange,ridge,color=\"red\",label=\"Ridge\")\n",
    "plt.plot(alpharange,lr,color=\"orange\",label=\"LR\")\n",
    "plt.title(\"Variance\")\n",
    "plt.legend()\n",
    "plt.show()"
   ]
  },
  {
   "cell_type": "code",
   "execution_count": 12,
   "metadata": {},
   "outputs": [],
   "source": [
    "from sklearn.datasets import load_boston\n",
    "from sklearn.model_selection import cross_val_score\n",
    "\n",
    "X = load_boston().data\n",
    "y = load_boston().target\n",
    "\n",
    "Xtrain,Xtest,Ytrain,Ytest = TTS(X,y,test_size=0.3,random_state=420)"
   ]
  },
  {
   "cell_type": "code",
   "execution_count": 13,
   "metadata": {},
   "outputs": [
    {
     "data": {
      "text/plain": [
       "(506, 13)"
      ]
     },
     "execution_count": 13,
     "metadata": {},
     "output_type": "execute_result"
    }
   ],
   "source": [
    "X.shape"
   ]
  },
  {
   "cell_type": "code",
   "execution_count": 14,
   "metadata": {},
   "outputs": [
    {
     "data": {
      "image/png": "[encoded data removed]",
      "text/plain": [
       "<Figure size 432x288 with 1 Axes>"
      ]
     },
     "metadata": {
      "needs_background": "light"
     },
     "output_type": "display_data"
    }
   ],
   "source": [
    "#先查看方差的变化\n",
    "alpharange = np.arange(1,1001,100)\n",
    "ridge, lr = [], []\n",
    "for alpha in alpharange:\n",
    "    reg = Ridge(alpha=alpha)\n",
    "    linear = LinearRegression()\n",
    "    varR = cross_val_score(reg,X,y,cv=5,scoring=\"r2\").var()\n",
    "    varLR = cross_val_score(linear,X,y,cv=5,scoring=\"r2\").var()\n",
    "    ridge.append(varR)\n",
    "    lr.append(varLR)\n",
    "plt.plot(alpharange,ridge,color=\"red\",label=\"Ridge\")\n",
    "plt.plot(alpharange,lr,color=\"orange\",label=\"LR\")\n",
    "plt.title(\"Variance\")\n",
    "plt.legend()\n",
    "plt.show()"
   ]
  },
  {
   "cell_type": "code",
   "execution_count": 15,
   "metadata": {},
   "outputs": [
    {
     "data": {
      "image/png": "[encoded data removed]",
      "text/plain": [
       "<Figure size 432x288 with 1 Axes>"
      ]
     },
     "metadata": {
      "needs_background": "light"
     },
     "output_type": "display_data"
    }
   ],
   "source": [
    "#查看R2的变化\n",
    "alpharange = np.arange(1,1001,100)\n",
    "ridge, lr = [], []\n",
    "for alpha in alpharange:\n",
    "    reg = Ridge(alpha=alpha)\n",
    "    linear = LinearRegression()\n",
    "    regs = cross_val_score(reg,X,y,cv=5,scoring = \"r2\").mean()\n",
    "    linears = cross_val_score(linear,X,y,cv=5,scoring = \"r2\").mean()\n",
    "    ridge.append(regs)\n",
    "    lr.append(linears)\n",
    "plt.plot(alpharange,ridge,color=\"red\",label=\"Ridge\")\n",
    "plt.plot(alpharange,lr,color=\"orange\",label=\"LR\")\n",
    "plt.title(\"Mean\")\n",
    "plt.legend()\n",
    "plt.show()"
   ]
  },
  {
   "cell_type": "code",
   "execution_count": 16,
   "metadata": {},
   "outputs": [
    {
     "data": {
      "image/png": "[encoded data removed]",
      "text/plain": [
       "<Figure size 432x288 with 1 Axes>"
      ]
     },
     "metadata": {
      "needs_background": "light"
     },
     "output_type": "display_data"
    }
   ],
   "source": [
    "#细化学习曲线\n",
    "alpharange = np.arange(100,300,10)\n",
    "ridge, lr = [], []\n",
    "for alpha in alpharange:\n",
    "    reg = Ridge(alpha=alpha)\n",
    "    #linear = LinearRegression()\n",
    "    regs = cross_val_score(reg,X,y,cv=5,scoring = \"r2\").mean()\n",
    "    #linears = cross_val_score(linear,X,y,cv=5,scoring = \"r2\").mean()\n",
    "    ridge.append(regs)\n",
    "    lr.append(linears)\n",
    "plt.plot(alpharange,ridge,color=\"red\",label=\"Ridge\")\n",
    "#plt.plot(alpharange,lr,color=\"orange\",label=\"LR\")\n",
    "plt.title(\"Mean\")\n",
    "plt.legend()\n",
    "plt.show()"
   ]
  },
  {
   "cell_type": "code",
   "execution_count": 17,
   "metadata": {},
   "outputs": [],
   "source": [
    "import numpy as np\n",
    "import pandas as pd\n",
    "from sklearn.linear_model import RidgeCV, LinearRegression\n",
    "from sklearn.model_selection import train_test_split as TTS\n",
    "from sklearn.datasets import fetch_california_housing as fch\n",
    "import matplotlib.pyplot as plt\n",
    "\n",
    "housevalue = fch()\n",
    "\n",
    "X = pd.DataFrame(housevalue.data)\n",
    "y = housevalue.target\n",
    "X.columns = [\"住户收入中位数\",\"房屋使用年代中位数\",\"平均房间数目\"\n",
    "            ,\"平均卧室数目\",\"街区人口\",\"平均入住率\",\"街区的纬度\",\"街区的经度\"]"
   ]
  },
  {
   "cell_type": "code",
   "execution_count": 18,
   "metadata": {},
   "outputs": [],
   "source": [
    "Ridge_ = RidgeCV(alphas=np.arange(1,1001,100)\n",
    "                 #,scoring=\"neg_mean_squared_error\"\n",
    "                 ,store_cv_values=True\n",
    "                 #,cv=5\n",
    "                ).fit(X, y)"
   ]
  },
  {
   "cell_type": "code",
   "execution_count": 19,
   "metadata": {},
   "outputs": [
    {
     "data": {
      "text/plain": [
       "0.6060251767338429"
      ]
     },
     "execution_count": 19,
     "metadata": {},
     "output_type": "execute_result"
    }
   ],
   "source": [
    "#无关交叉验证的岭回归结果\n",
    "Ridge_.score(X,y)"
   ]
  },
  {
   "cell_type": "code",
   "execution_count": 20,
   "metadata": {},
   "outputs": [
    {
     "data": {
      "text/plain": [
       "array([[0.1557472 , 0.16301246, 0.16892723, ..., 0.18881663, 0.19182353,\n",
       "        0.19466385],\n",
       "       [0.15334566, 0.13922075, 0.12849014, ..., 0.09744906, 0.09344092,\n",
       "        0.08981868],\n",
       "       [0.02429857, 0.03043271, 0.03543001, ..., 0.04971514, 0.05126165,\n",
       "        0.05253834],\n",
       "       ...,\n",
       "       [0.56545783, 0.5454654 , 0.52655917, ..., 0.44532597, 0.43130136,\n",
       "        0.41790336],\n",
       "       [0.27883123, 0.2692305 , 0.25944481, ..., 0.21328675, 0.20497018,\n",
       "        0.19698274],\n",
       "       [0.14313527, 0.13967826, 0.13511341, ..., 0.1078647 , 0.10251737,\n",
       "        0.0973334 ]])"
      ]
     },
     "execution_count": 20,
     "metadata": {},
     "output_type": "execute_result"
    }
   ],
   "source": [
    "#调用所有交叉验证的结果\n",
    "Ridge_.cv_values_"
   ]
  },
  {
   "cell_type": "code",
   "execution_count": 21,
   "metadata": {},
   "outputs": [
    {
     "data": {
      "text/plain": [
       "array([0.52823795, 0.52787439, 0.52807763, 0.52855759, 0.52917958,\n",
       "       0.52987689, 0.53061486, 0.53137481, 0.53214638, 0.53292369])"
      ]
     },
     "execution_count": 21,
     "metadata": {},
     "output_type": "execute_result"
    }
   ],
   "source": [
    "#进行平均后可以查看每个正则化系数取值下的交叉验证结果\n",
    "Ridge_.cv_values_.mean(axis=0)"
   ]
  },
  {
   "cell_type": "code",
   "execution_count": 22,
   "metadata": {},
   "outputs": [
    {
     "data": {
      "text/plain": [
       "101"
      ]
     },
     "execution_count": 22,
     "metadata": {},
     "output_type": "execute_result"
    }
   ],
   "source": [
    "#查看被选择出来的最佳正则化系数\n",
    "Ridge_.alpha_"
   ]
  },
  {
   "cell_type": "code",
   "execution_count": 23,
   "metadata": {},
   "outputs": [
    {
     "data": {
      "text/html": [
       "<div>\n",
       "<style scoped>\n",
       "    .dataframe tbody tr th:only-of-type {\n",
       "        vertical-align: middle;\n",
       "    }\n",
       "\n",
       "    .dataframe tbody tr th {\n",
       "        vertical-align: top;\n",
       "    }\n",
       "\n",
       "    .dataframe thead th {\n",
       "        text-align: right;\n",
       "    }\n",
       "</style>\n",
       "<table border=\"1\" class=\"dataframe\">\n",
       "  <thead>\n",
       "    <tr style=\"text-align: right;\">\n",
       "      <th></th>\n",
       "      <th>住户收入中位数</th>\n",
       "      <th>房屋使用年代中位数</th>\n",
       "      <th>平均房间数目</th>\n",
       "      <th>平均卧室数目</th>\n",
       "      <th>街区人口</th>\n",
       "      <th>平均入住率</th>\n",
       "      <th>街区的纬度</th>\n",
       "      <th>街区的经度</th>\n",
       "    </tr>\n",
       "  </thead>\n",
       "  <tbody>\n",
       "    <tr>\n",
       "      <th>0</th>\n",
       "      <td>8.3252</td>\n",
       "      <td>41.0</td>\n",
       "      <td>6.984127</td>\n",
       "      <td>1.023810</td>\n",
       "      <td>322.0</td>\n",
       "      <td>2.555556</td>\n",
       "      <td>37.88</td>\n",
       "      <td>-122.23</td>\n",
       "    </tr>\n",
       "    <tr>\n",
       "      <th>1</th>\n",
       "      <td>8.3014</td>\n",
       "      <td>21.0</td>\n",
       "      <td>6.238137</td>\n",
       "      <td>0.971880</td>\n",
       "      <td>2401.0</td>\n",
       "      <td>2.109842</td>\n",
       "      <td>37.86</td>\n",
       "      <td>-122.22</td>\n",
       "    </tr>\n",
       "    <tr>\n",
       "      <th>2</th>\n",
       "      <td>7.2574</td>\n",
       "      <td>52.0</td>\n",
       "      <td>8.288136</td>\n",
       "      <td>1.073446</td>\n",
       "      <td>496.0</td>\n",
       "      <td>2.802260</td>\n",
       "      <td>37.85</td>\n",
       "      <td>-122.24</td>\n",
       "    </tr>\n",
       "    <tr>\n",
       "      <th>3</th>\n",
       "      <td>5.6431</td>\n",
       "      <td>52.0</td>\n",
       "      <td>5.817352</td>\n",
       "      <td>1.073059</td>\n",
       "      <td>558.0</td>\n",
       "      <td>2.547945</td>\n",
       "      <td>37.85</td>\n",
       "      <td>-122.25</td>\n",
       "    </tr>\n",
       "    <tr>\n",
       "      <th>4</th>\n",
       "      <td>3.8462</td>\n",
       "      <td>52.0</td>\n",
       "      <td>6.281853</td>\n",
       "      <td>1.081081</td>\n",
       "      <td>565.0</td>\n",
       "      <td>2.181467</td>\n",
       "      <td>37.85</td>\n",
       "      <td>-122.25</td>\n",
       "    </tr>\n",
       "  </tbody>\n",
       "</table>\n",
       "</div>"
      ],
      "text/plain": [
       "   住户收入中位数  房屋使用年代中位数    平均房间数目    平均卧室数目    街区人口     平均入住率  街区的纬度   街区的经度\n",
       "0   8.3252       41.0  6.984127  1.023810   322.0  2.555556  37.88 -122.23\n",
       "1   8.3014       21.0  6.238137  0.971880  2401.0  2.109842  37.86 -122.22\n",
       "2   7.2574       52.0  8.288136  1.073446   496.0  2.802260  37.85 -122.24\n",
       "3   5.6431       52.0  5.817352  1.073059   558.0  2.547945  37.85 -122.25\n",
       "4   3.8462       52.0  6.281853  1.081081   565.0  2.181467  37.85 -122.25"
      ]
     },
     "execution_count": 23,
     "metadata": {},
     "output_type": "execute_result"
    }
   ],
   "source": [
    "import numpy as np\n",
    "import pandas as pd\n",
    "from sklearn.linear_model import Ridge, LinearRegression, Lasso\n",
    "from sklearn.model_selection import train_test_split as TTS\n",
    "from sklearn.datasets import fetch_california_housing as fch\n",
    "import matplotlib.pyplot as plt\n",
    "\n",
    "housevalue = fch()\n",
    "\n",
    "X = pd.DataFrame(housevalue.data)\n",
    "y = housevalue.target\n",
    "X.columns = [\"住户收入中位数\",\"房屋使用年代中位数\",\"平均房间数目\"\n",
    "            ,\"平均卧室数目\",\"街区人口\",\"平均入住率\",\"街区的纬度\",\"街区的经度\"]\n",
    "\n",
    "X.head()"
   ]
  },
  {
   "cell_type": "code",
   "execution_count": 24,
   "metadata": {},
   "outputs": [],
   "source": [
    "Xtrain,Xtest,Ytrain,Ytest = TTS(X,y,test_size=0.3,random_state=420)"
   ]
  },
  {
   "cell_type": "code",
   "execution_count": 25,
   "metadata": {},
   "outputs": [],
   "source": [
    "for i in [Xtrain,Xtest]:\n",
    "    i.index = range(i.shape[0])"
   ]
  },
  {
   "cell_type": "code",
   "execution_count": 26,
   "metadata": {},
   "outputs": [
    {
     "data": {
      "text/plain": [
       "[43.73589305968403,\n",
       " 1.0211268294494038,\n",
       " -10.780721617317715,\n",
       " 62.64338275363783,\n",
       " 5.216125353178735e-05,\n",
       " -0.33485096463336095,\n",
       " -41.30959378947711,\n",
       " -42.621095362084674]"
      ]
     },
     "execution_count": 26,
     "metadata": {},
     "output_type": "execute_result"
    }
   ],
   "source": [
    "#线性回归进行拟合\n",
    "reg = LinearRegression().fit(Xtrain,Ytrain)\n",
    "(reg.coef_*100).tolist()"
   ]
  },
  {
   "cell_type": "code",
   "execution_count": 27,
   "metadata": {},
   "outputs": [
    {
     "data": {
      "text/plain": [
       "[43.735893059684045,\n",
       " 1.0211268294494151,\n",
       " -10.780721617317626,\n",
       " 62.64338275363741,\n",
       " 5.2161253532713044e-05,\n",
       " -0.3348509646333588,\n",
       " -41.3095937894767,\n",
       " -42.62109536208427]"
      ]
     },
     "execution_count": 27,
     "metadata": {},
     "output_type": "execute_result"
    }
   ],
   "source": [
    "#岭回归进行拟合\n",
    "Ridge_ = Ridge(alpha=0).fit(Xtrain,Ytrain)\n",
    "(Ridge_.coef_*100).tolist()"
   ]
  },
  {
   "cell_type": "code",
   "execution_count": 28,
   "metadata": {},
   "outputs": [
    {
     "name": "stderr",
     "output_type": "stream",
     "text": [
      "<ipython-input-28-76c577e38589>:2: UserWarning: With alpha=0, this algorithm does not converge well. You are advised to use the LinearRegression estimator\n",
      "  lasso_ = Lasso(alpha=0).fit(Xtrain,Ytrain)\n",
      "C:\\anaconda\\envs\\sk-learn\\lib\\site-packages\\sklearn\\linear_model\\_coordinate_descent.py:529: UserWarning: Coordinate descent with no regularization may lead to unexpected results and is discouraged.\n",
      "  model = cd_fast.enet_coordinate_descent(\n",
      "C:\\anaconda\\envs\\sk-learn\\lib\\site-packages\\sklearn\\linear_model\\_coordinate_descent.py:529: ConvergenceWarning: Objective did not converge. You might want to increase the number of iterations. Duality gap: 3769.8607714139102, tolerance: 1.917255476913148\n",
      "  model = cd_fast.enet_coordinate_descent(\n"
     ]
    },
    {
     "data": {
      "text/plain": [
       "[43.735893059684024,\n",
       " 1.0211268294494056,\n",
       " -10.78072161731769,\n",
       " 62.64338275363792,\n",
       " 5.2161253532654165e-05,\n",
       " -0.33485096463335706,\n",
       " -41.3095937894772,\n",
       " -42.62109536208478]"
      ]
     },
     "execution_count": 28,
     "metadata": {},
     "output_type": "execute_result"
    }
   ],
   "source": [
    "#Lasso进行拟合\n",
    "lasso_ = Lasso(alpha=0).fit(Xtrain,Ytrain)\n",
    "(lasso_.coef_*100).tolist()"
   ]
  },
  {
   "cell_type": "code",
   "execution_count": 29,
   "metadata": {},
   "outputs": [
    {
     "data": {
      "text/plain": [
       "[43.73453480786963,\n",
       " 1.0211508518425705,\n",
       " -10.778109335481922,\n",
       " 62.62978997580449,\n",
       " 5.225552031939166e-05,\n",
       " -0.33484783635443754,\n",
       " -41.309370065387334,\n",
       " -42.62068050768429]"
      ]
     },
     "execution_count": 29,
     "metadata": {},
     "output_type": "execute_result"
    }
   ],
   "source": [
    "#岭回归进行拟合\n",
    "Ridge_ = Ridge(alpha=0.1).fit(Xtrain,Ytrain)\n",
    "(Ridge_.coef_*100).tolist()"
   ]
  },
  {
   "cell_type": "code",
   "execution_count": 30,
   "metadata": {},
   "outputs": [
    {
     "data": {
      "text/plain": [
       "[39.08851438329683,\n",
       " 1.6054695654279871,\n",
       " -0.0,\n",
       " 0.0,\n",
       " 0.0023777014839091357,\n",
       " -0.3050186895638113,\n",
       " -10.771509301655533,\n",
       " -9.294344477958068]"
      ]
     },
     "execution_count": 30,
     "metadata": {},
     "output_type": "execute_result"
    }
   ],
   "source": [
    "#Lasso进行拟合\n",
    "lasso_ = Lasso(alpha=0.1).fit(Xtrain,Ytrain)\n",
    "(lasso_.coef_*100).tolist()"
   ]
  },
  {
   "cell_type": "code",
   "execution_count": 31,
   "metadata": {},
   "outputs": [
    {
     "data": {
      "text/plain": [
       "[0.00021838533330206371,\n",
       " 0.00021344956264503437,\n",
       " 6.213673042878624e-05,\n",
       " -3.828084920732734e-06,\n",
       " -0.0014984087286952859,\n",
       " -4.175243714653836e-05,\n",
       " -5.29506119447496e-05,\n",
       " -1.3268982521957727e-05]"
      ]
     },
     "execution_count": 31,
     "metadata": {},
     "output_type": "execute_result"
    }
   ],
   "source": [
    "#加大正则项系数，观察模型的系数发生了什么变化\n",
    "Ridge_ = Ridge(alpha=10**10).fit(Xtrain,Ytrain)\n",
    "(Ridge_.coef_*100).tolist()"
   ]
  },
  {
   "cell_type": "code",
   "execution_count": 32,
   "metadata": {},
   "outputs": [
    {
     "data": {
      "text/plain": [
       "[0.0, 0.0, 0.0, -0.0, -0.0, -0.0, -0.0, -0.0]"
      ]
     },
     "execution_count": 32,
     "metadata": {},
     "output_type": "execute_result"
    }
   ],
   "source": [
    "lasso_ = Lasso(alpha=10**4).fit(Xtrain,Ytrain)\n",
    "(lasso_.coef_*100).tolist()"
   ]
  },
  {
   "cell_type": "code",
   "execution_count": 33,
   "metadata": {},
   "outputs": [
    {
     "data": {
      "text/plain": [
       "[14.581141247629423,\n",
       " 0.6209347344423876,\n",
       " 0.0,\n",
       " -0.0,\n",
       " -0.00028065986329009983,\n",
       " -0.0,\n",
       " -0.0,\n",
       " -0.0]"
      ]
     },
     "execution_count": 33,
     "metadata": {},
     "output_type": "execute_result"
    }
   ],
   "source": [
    "#看来10**4对于Lasso来说是一个过于大的取值\n",
    "lasso_ = Lasso(alpha=1).fit(Xtrain,Ytrain)\n",
    "(lasso_.coef_*100).tolist()"
   ]
  },
  {
   "cell_type": "code",
   "execution_count": 34,
   "metadata": {},
   "outputs": [
    {
     "data": {
      "image/png": "[encoded data removed]",
      "text/plain": [
       "<Figure size 432x288 with 1 Axes>"
      ]
     },
     "metadata": {
      "needs_background": "light"
     },
     "output_type": "display_data"
    }
   ],
   "source": [
    "#将系数进行绘图\n",
    "plt.plot(range(1,9),(reg.coef_*100).tolist(),color=\"red\",label=\"LR\")\n",
    "plt.plot(range(1,9),(Ridge_.coef_*100).tolist(),color=\"orange\",label=\"Ridge\")\n",
    "plt.plot(range(1,9),(lasso_.coef_*100).tolist(),color=\"k\",label=\"Lasso\")\n",
    "plt.plot(range(1,9),[0]*8,color=\"grey\",linestyle=\"--\")\n",
    "plt.xlabel('w') #横坐标是每一个特征所对应的系数\n",
    "plt.legend()\n",
    "plt.show()"
   ]
  },
  {
   "cell_type": "code",
   "execution_count": 35,
   "metadata": {},
   "outputs": [
    {
     "data": {
      "text/plain": [
       "(200,)"
      ]
     },
     "execution_count": 35,
     "metadata": {},
     "output_type": "execute_result"
    }
   ],
   "source": [
    "from sklearn.linear_model import LassoCV\n",
    "\n",
    "#自己建立Lasso进行alpha选择的范围\n",
    "alpharange = np.logspace(-10, -2, 200,base=10)\n",
    "\n",
    "#其实是形成10为底的指数函数\n",
    "#10**(-10)到10**(-2)次方\n",
    "\n",
    "alpharange.shape"
   ]
  },
  {
   "cell_type": "code",
   "execution_count": 36,
   "metadata": {},
   "outputs": [
    {
     "data": {
      "text/html": [
       "<div>\n",
       "<style scoped>\n",
       "    .dataframe tbody tr th:only-of-type {\n",
       "        vertical-align: middle;\n",
       "    }\n",
       "\n",
       "    .dataframe tbody tr th {\n",
       "        vertical-align: top;\n",
       "    }\n",
       "\n",
       "    .dataframe thead th {\n",
       "        text-align: right;\n",
       "    }\n",
       "</style>\n",
       "<table border=\"1\" class=\"dataframe\">\n",
       "  <thead>\n",
       "    <tr style=\"text-align: right;\">\n",
       "      <th></th>\n",
       "      <th>住户收入中位数</th>\n",
       "      <th>房屋使用年代中位数</th>\n",
       "      <th>平均房间数目</th>\n",
       "      <th>平均卧室数目</th>\n",
       "      <th>街区人口</th>\n",
       "      <th>平均入住率</th>\n",
       "      <th>街区的纬度</th>\n",
       "      <th>街区的经度</th>\n",
       "    </tr>\n",
       "  </thead>\n",
       "  <tbody>\n",
       "    <tr>\n",
       "      <th>0</th>\n",
       "      <td>4.1776</td>\n",
       "      <td>35.0</td>\n",
       "      <td>4.425172</td>\n",
       "      <td>1.030683</td>\n",
       "      <td>5380.0</td>\n",
       "      <td>3.368817</td>\n",
       "      <td>37.48</td>\n",
       "      <td>-122.19</td>\n",
       "    </tr>\n",
       "    <tr>\n",
       "      <th>1</th>\n",
       "      <td>5.3261</td>\n",
       "      <td>38.0</td>\n",
       "      <td>6.267516</td>\n",
       "      <td>1.089172</td>\n",
       "      <td>429.0</td>\n",
       "      <td>2.732484</td>\n",
       "      <td>37.53</td>\n",
       "      <td>-122.30</td>\n",
       "    </tr>\n",
       "    <tr>\n",
       "      <th>2</th>\n",
       "      <td>1.9439</td>\n",
       "      <td>26.0</td>\n",
       "      <td>5.768977</td>\n",
       "      <td>1.141914</td>\n",
       "      <td>891.0</td>\n",
       "      <td>2.940594</td>\n",
       "      <td>36.02</td>\n",
       "      <td>-119.08</td>\n",
       "    </tr>\n",
       "    <tr>\n",
       "      <th>3</th>\n",
       "      <td>2.5000</td>\n",
       "      <td>22.0</td>\n",
       "      <td>4.916000</td>\n",
       "      <td>1.012000</td>\n",
       "      <td>733.0</td>\n",
       "      <td>2.932000</td>\n",
       "      <td>38.57</td>\n",
       "      <td>-121.31</td>\n",
       "    </tr>\n",
       "    <tr>\n",
       "      <th>4</th>\n",
       "      <td>3.8250</td>\n",
       "      <td>34.0</td>\n",
       "      <td>5.036765</td>\n",
       "      <td>1.098039</td>\n",
       "      <td>1134.0</td>\n",
       "      <td>2.779412</td>\n",
       "      <td>33.91</td>\n",
       "      <td>-118.35</td>\n",
       "    </tr>\n",
       "  </tbody>\n",
       "</table>\n",
       "</div>"
      ],
      "text/plain": [
       "   住户收入中位数  房屋使用年代中位数    平均房间数目    平均卧室数目    街区人口     平均入住率  街区的纬度   街区的经度\n",
       "0   4.1776       35.0  4.425172  1.030683  5380.0  3.368817  37.48 -122.19\n",
       "1   5.3261       38.0  6.267516  1.089172   429.0  2.732484  37.53 -122.30\n",
       "2   1.9439       26.0  5.768977  1.141914   891.0  2.940594  36.02 -119.08\n",
       "3   2.5000       22.0  4.916000  1.012000   733.0  2.932000  38.57 -121.31\n",
       "4   3.8250       34.0  5.036765  1.098039  1134.0  2.779412  33.91 -118.35"
      ]
     },
     "execution_count": 36,
     "metadata": {},
     "output_type": "execute_result"
    }
   ],
   "source": [
    "Xtrain.head()"
   ]
  },
  {
   "cell_type": "code",
   "execution_count": 37,
   "metadata": {},
   "outputs": [
    {
     "data": {
      "text/plain": [
       "0.0020729217795953697"
      ]
     },
     "execution_count": 37,
     "metadata": {},
     "output_type": "execute_result"
    }
   ],
   "source": [
    "lasso_ = LassoCV(alphas=alpharange #自行输入的alpha的取值范围\n",
    "                ,cv=5 #交叉验证的折数\n",
    "                ).fit(Xtrain, Ytrain)\n",
    "\n",
    "#查看被选择出来的最佳正则化系数\n",
    "lasso_.alpha_"
   ]
  },
  {
   "cell_type": "code",
   "execution_count": 38,
   "metadata": {},
   "outputs": [
    {
     "data": {
      "text/plain": [
       "(200, 5)"
      ]
     },
     "execution_count": 38,
     "metadata": {},
     "output_type": "execute_result"
    }
   ],
   "source": [
    "#调用所有交叉验证的结果\n",
    "lasso_.mse_path_\n",
    "\n",
    "lasso_.mse_path_.shape #返回每个alpha下的五折交叉验证结果"
   ]
  },
  {
   "cell_type": "code",
   "execution_count": 39,
   "metadata": {
    "scrolled": true
   },
   "outputs": [
    {
     "data": {
      "text/plain": [
       "array([0.52816924, 0.52742297, 0.5268146 , 0.52632488, 0.52593241,\n",
       "       0.52561942, 0.52537133, 0.5251761 , 0.52502385, 0.52490641,\n",
       "       0.52481712, 0.52475046, 0.52470198, 0.52466795, 0.52464541,\n",
       "       0.52463188, 0.5246254 , 0.52462436, 0.52462744, 0.52463361,\n",
       "       0.52464201, 0.52465199, 0.52466301, 0.52467466, 0.5246866 ,\n",
       "       0.5246986 , 0.52471046, 0.52472203, 0.5247332 , 0.52474392,\n",
       "       0.52475413, 0.52476379, 0.52477291, 0.52478147, 0.52478949,\n",
       "       0.52479697, 0.52480393, 0.52481039, 0.52481639, 0.52482193,\n",
       "       0.52482706, 0.52483179, 0.52483615, 0.52484016, 0.52484385,\n",
       "       0.52484725, 0.52485036, 0.52485322, 0.52485584, 0.52485824,\n",
       "       0.52486044, 0.52486246, 0.5248643 , 0.52486599, 0.52486753,\n",
       "       0.52486895, 0.52487024, 0.52487141, 0.52487249, 0.52487348,\n",
       "       0.52487437, 0.52487519, 0.52487594, 0.52487663, 0.52487725,\n",
       "       0.52487782, 0.52487834, 0.52487882, 0.52487925, 0.52487965,\n",
       "       0.52488001, 0.52488033, 0.52488063, 0.52488091, 0.52488116,\n",
       "       0.52488138, 0.52488159, 0.52488178, 0.52488195, 0.52488211,\n",
       "       0.52488225, 0.52488239, 0.5248825 , 0.52488261, 0.52488271,\n",
       "       0.5248828 , 0.52488289, 0.52488296, 0.52488303, 0.52488309,\n",
       "       0.52488315, 0.5248832 , 0.52488325, 0.52488329, 0.52488333,\n",
       "       0.52488337, 0.5248834 , 0.52488343, 0.52488346, 0.52488348,\n",
       "       0.5248835 , 0.52488352, 0.52488354, 0.52488356, 0.52488357,\n",
       "       0.52488359, 0.5248836 , 0.52488361, 0.52488362, 0.52488363,\n",
       "       0.52488364, 0.52488365, 0.52488366, 0.52488367, 0.52488367,\n",
       "       0.52488368, 0.52488368, 0.52488369, 0.52488369, 0.5248837 ,\n",
       "       0.5248837 , 0.5248837 , 0.52488371, 0.52488371, 0.52488371,\n",
       "       0.52488371, 0.52488371, 0.52488372, 0.52488372, 0.52488372,\n",
       "       0.52488372, 0.52488372, 0.52488372, 0.52488372, 0.52488373,\n",
       "       0.52488373, 0.52488373, 0.52488373, 0.52488373, 0.52488373,\n",
       "       0.52488373, 0.52488373, 0.52488373, 0.52488373, 0.52488373,\n",
       "       0.52488373, 0.52488373, 0.52488373, 0.52488373, 0.52488373,\n",
       "       0.52488373, 0.52488373, 0.52488373, 0.52488373, 0.52488373,\n",
       "       0.52488373, 0.52488373, 0.52488373, 0.52488373, 0.52488373,\n",
       "       0.52488373, 0.52488373, 0.52488374, 0.52488374, 0.52488374,\n",
       "       0.52488374, 0.52488374, 0.52488374, 0.52488374, 0.52488374,\n",
       "       0.52488374, 0.52488374, 0.52488374, 0.52488374, 0.52488374,\n",
       "       0.52488374, 0.52488374, 0.52488374, 0.52488374, 0.52488374,\n",
       "       0.52488374, 0.52488374, 0.52488374, 0.52488374, 0.52488374,\n",
       "       0.52488374, 0.52488374, 0.52488374, 0.52488374, 0.52488374,\n",
       "       0.52488374, 0.52488374, 0.52488374, 0.52488374, 0.52488374,\n",
       "       0.52488374, 0.52488374, 0.52488374, 0.52488374, 0.52488374])"
      ]
     },
     "execution_count": 39,
     "metadata": {},
     "output_type": "execute_result"
    }
   ],
   "source": [
    "lasso_.mse_path_.mean(axis=1) #有注意到在岭回归中我们的轴向是axis=0吗？\n",
    "\n",
    "#在岭回归当中，我们是留一验证，因此我们的交叉验证结果返回的是，每一个样本在每个alpha下的交叉验证结果\n",
    "#因此我们要求每个alpha下的交叉验证均值，就是axis=0，跨行求均值\n",
    "#而在这里，我们返回的是，每一个alpha取值下，每一折交叉验证的结果\n",
    "#因此我们要求每个alpha下的交叉验证均值，就是axis=1，跨列求均值"
   ]
  },
  {
   "cell_type": "code",
   "execution_count": 40,
   "metadata": {},
   "outputs": [
    {
     "data": {
      "text/plain": [
       "array([ 4.29867301e-01,  1.03623683e-02, -9.32648616e-02,  5.51755252e-01,\n",
       "        1.14732262e-06, -3.31941716e-03, -4.10451223e-01, -4.22410330e-01])"
      ]
     },
     "execution_count": 40,
     "metadata": {},
     "output_type": "execute_result"
    }
   ],
   "source": [
    "#最佳正则化系数下获得的模型的系数结果\n",
    "lasso_.coef_"
   ]
  },
  {
   "cell_type": "code",
   "execution_count": 41,
   "metadata": {},
   "outputs": [
    {
     "data": {
      "text/plain": [
       "0.6038982670571436"
      ]
     },
     "execution_count": 41,
     "metadata": {},
     "output_type": "execute_result"
    }
   ],
   "source": [
    "lasso_.score(Xtest,Ytest)"
   ]
  },
  {
   "cell_type": "code",
   "execution_count": 42,
   "metadata": {},
   "outputs": [
    {
     "data": {
      "text/plain": [
       "0.6043668160178817"
      ]
     },
     "execution_count": 42,
     "metadata": {},
     "output_type": "execute_result"
    }
   ],
   "source": [
    "#与线性回归相比如何？\n",
    "reg = LinearRegression().fit(Xtrain,Ytrain)\n",
    "reg.score(Xtest,Ytest)"
   ]
  },
  {
   "cell_type": "code",
   "execution_count": 43,
   "metadata": {},
   "outputs": [
    {
     "data": {
      "text/plain": [
       "0.0020954551690628557"
      ]
     },
     "execution_count": 43,
     "metadata": {},
     "output_type": "execute_result"
    }
   ],
   "source": [
    "#使用lassoCV自带的正则化路径长度和路径中的alpha个数来自动建立alpha选择的范围\n",
    "ls_ = LassoCV(eps=0.00001\n",
    "              ,n_alphas=300\n",
    "              ,cv=5\n",
    "                ).fit(Xtrain, Ytrain)\n",
    "\n",
    "ls_.alpha_"
   ]
  },
  {
   "cell_type": "code",
   "execution_count": 44,
   "metadata": {},
   "outputs": [
    {
     "data": {
      "text/plain": [
       "(300,)"
      ]
     },
     "execution_count": 44,
     "metadata": {},
     "output_type": "execute_result"
    }
   ],
   "source": [
    "ls_.alphas_ #查看所有自动生成的alpha取值\n",
    "\n",
    "ls_.alphas_.shape"
   ]
  },
  {
   "cell_type": "code",
   "execution_count": 45,
   "metadata": {},
   "outputs": [
    {
     "data": {
      "text/plain": [
       "0.60389154238192"
      ]
     },
     "execution_count": 45,
     "metadata": {},
     "output_type": "execute_result"
    }
   ],
   "source": [
    "ls_.score(Xtest,Ytest)"
   ]
  },
  {
   "cell_type": "code",
   "execution_count": 46,
   "metadata": {},
   "outputs": [
    {
     "data": {
      "text/plain": [
       "array([ 4.29785372e-01,  1.03639989e-02, -9.31060823e-02,  5.50940621e-01,\n",
       "        1.15407943e-06, -3.31909776e-03, -4.10423420e-01, -4.22369926e-01])"
      ]
     },
     "execution_count": 46,
     "metadata": {},
     "output_type": "execute_result"
    }
   ],
   "source": [
    "ls_.coef_"
   ]
  },
  {
   "cell_type": "code",
   "execution_count": 1,
   "metadata": {},
   "outputs": [],
   "source": [
    "import numpy as np\n",
    "import matplotlib.pyplot as plt\n",
    "from sklearn.linear_model import LinearRegression\n",
    "from sklearn.tree import DecisionTreeRegressor"
   ]
  },
  {
   "cell_type": "code",
   "execution_count": 2,
   "metadata": {},
   "outputs": [],
   "source": [
    "rnd = np.random.RandomState(42) #设置随机数种子\n",
    "X = rnd.uniform(-3, 3, size=100) #random.uniform，从输入的任意两个整数中取出size个随机数"
   ]
  },
  {
   "cell_type": "code",
   "execution_count": 3,
   "metadata": {
    "scrolled": true
   },
   "outputs": [
    {
     "data": {
      "text/plain": [
       "array([-0.75275929,  2.70428584,  1.39196365,  0.59195091, -2.06388816,\n",
       "       -2.06403288, -2.65149833,  2.19705687,  0.60669007,  1.24843547,\n",
       "       -2.87649303,  2.81945911,  1.99465584, -1.72596534, -1.9090502 ,\n",
       "       -1.89957294, -1.17454654,  0.14853859, -0.40832989, -1.25262516,\n",
       "        0.67111737, -2.16303684, -1.24713211, -0.80182894, -0.26358009,\n",
       "        1.71105577, -1.80195731,  0.08540663,  0.55448741, -2.72129752,\n",
       "        0.64526911, -1.97685526, -2.60969044,  2.69331322,  2.7937922 ,\n",
       "        1.85038409, -1.17231738, -2.41396732,  1.10539816, -0.35908504,\n",
       "       -2.26777059, -0.02893854, -2.79366887,  2.45592241, -1.44732011,\n",
       "        0.97513371, -1.12973354,  0.12040813,  0.28026168, -1.89087327,\n",
       "        2.81750777,  1.65079694,  2.63699365,  2.3689641 ,  0.58739987,\n",
       "        2.53124541, -2.46904499, -1.82410283, -2.72863627, -1.04801802,\n",
       "       -0.66793626, -1.37190581,  1.97242505, -0.85948004, -1.31439294,\n",
       "        0.2561765 , -2.15445465,  1.81318188, -2.55269614,  2.92132162,\n",
       "        1.63346862, -1.80770591, -2.9668673 ,  1.89276857,  1.24114406,\n",
       "        1.37404301,  1.62762208, -2.55573209, -0.84920563, -2.30478564,\n",
       "        2.17862056,  0.73978876, -1.01461185, -2.6186499 , -1.13410607,\n",
       "       -1.04890007,  1.37763707,  0.82534483,  2.32327646, -0.16671045,\n",
       "       -2.28243452,  1.27946872,  1.56471029,  0.36766319,  1.62580308,\n",
       "       -0.03722642,  0.13639698, -0.43475389, -2.84748524, -2.35265144])"
      ]
     },
     "execution_count": 3,
     "metadata": {},
     "output_type": "execute_result"
    }
   ],
   "source": [
    "X #作为我的横坐标"
   ]
  },
  {
   "cell_type": "code",
   "execution_count": 4,
   "metadata": {},
   "outputs": [],
   "source": [
    "#生成y的思路：先使用NumPy中的函数生成一个sin函数图像，然后再人为添加噪音\n",
    "y = np.sin(X) + rnd.normal(size=len(X)) / 3 #random.normal，生成size个服从正态分布的随机数"
   ]
  },
  {
   "cell_type": "code",
   "execution_count": 5,
   "metadata": {},
   "outputs": [
    {
     "data": {
      "image/png": "[encoded data removed]",
      "text/plain": [
       "<Figure size 432x288 with 1 Axes>"
      ]
     },
     "metadata": {
      "needs_background": "light"
     },
     "output_type": "display_data"
    }
   ],
   "source": [
    "#使用散点图观察建立的数据集是什么样子\n",
    "plt.scatter(X, y,marker='o',c='k',s=20)\n",
    "plt.show()"
   ]
  },
  {
   "cell_type": "code",
   "execution_count": 6,
   "metadata": {},
   "outputs": [
    {
     "data": {
      "text/plain": [
       "(100,)"
      ]
     },
     "execution_count": 6,
     "metadata": {},
     "output_type": "execute_result"
    }
   ],
   "source": [
    "#为后续建模做准备：sklearn只接受二维以上数组作为特征矩阵的输入\n",
    "X.shape"
   ]
  },
  {
   "cell_type": "code",
   "execution_count": 7,
   "metadata": {},
   "outputs": [],
   "source": [
    "X = X.reshape(-1, 1)"
   ]
  },
  {
   "cell_type": "code",
   "execution_count": 8,
   "metadata": {},
   "outputs": [
    {
     "data": {
      "text/plain": [
       "(100, 1)"
      ]
     },
     "execution_count": 8,
     "metadata": {},
     "output_type": "execute_result"
    }
   ],
   "source": [
    "X.shape"
   ]
  },
  {
   "cell_type": "code",
   "execution_count": 9,
   "metadata": {},
   "outputs": [],
   "source": [
    "#使用原始数据进行建模\n",
    "LinearR = LinearRegression().fit(X, y)\n",
    "TreeR = DecisionTreeRegressor(random_state=0).fit(X, y)"
   ]
  },
  {
   "cell_type": "code",
   "execution_count": 10,
   "metadata": {
    "scrolled": true
   },
   "outputs": [
    {
     "data": {
      "image/png": "[encoded data removed]",
      "text/plain": [
       "<Figure size 432x288 with 1 Axes>"
      ]
     },
     "metadata": {
      "needs_background": "light"
     },
     "output_type": "display_data"
    }
   ],
   "source": [
    "#放置画布\n",
    "fig, ax1 = plt.subplots(1)\n",
    "\n",
    "#创建测试数据：一系列分布在横坐标上的点\n",
    "line = np.linspace(-3, 3, 1000, endpoint=False).reshape(-1, 1)\n",
    "\n",
    "#将测试数据带入predict接口，获得模型的拟合效果并进行绘制\n",
    "ax1.plot(line, LinearR.predict(line), linewidth=2, color='green',\n",
    "         label=\"linear regression\")\n",
    "ax1.plot(line, TreeR.predict(line), linewidth=2, color='red',\n",
    "         label=\"decision tree\")\n",
    "\n",
    "#将原数据上的拟合绘制在图像上\n",
    "ax1.plot(X[:, 0], y, 'o', c='k')\n",
    "\n",
    "#其他图形选项\n",
    "ax1.legend(loc=\"best\")\n",
    "ax1.set_ylabel(\"Regression output\")\n",
    "ax1.set_xlabel(\"Input feature\")\n",
    "ax1.set_title(\"Result before discretization\")\n",
    "plt.tight_layout()\n",
    "plt.show()\n",
    "\n",
    "#从这个图像来看，可以得出什么结果？"
   ]
  },
  {
   "cell_type": "code",
   "execution_count": 11,
   "metadata": {},
   "outputs": [
    {
     "data": {
      "text/plain": [
       "(100, 1)"
      ]
     },
     "execution_count": 11,
     "metadata": {},
     "output_type": "execute_result"
    }
   ],
   "source": [
    "from sklearn.preprocessing import KBinsDiscretizer\n",
    "\n",
    "#将数据分箱\n",
    "enc = KBinsDiscretizer(n_bins=10 #分几类？\n",
    "                       ,encode=\"onehot\") #ordinal\n",
    "X_binned = enc.fit_transform(X)\n",
    "#encode模式\"onehot\"：使用做哑变量方式做离散化\n",
    "#之后返回一个稀疏矩阵(m,n_bins)，每一列是一个分好的类别\n",
    "#对每一个样本而言，它包含的分类（箱子）中它表示为1，其余分类中它表示为0\n",
    "\n",
    "X.shape"
   ]
  },
  {
   "cell_type": "code",
   "execution_count": 12,
   "metadata": {},
   "outputs": [
    {
     "data": {
      "text/plain": [
       "<100x10 sparse matrix of type '<class 'numpy.float64'>'\n",
       "\twith 100 stored elements in Compressed Sparse Row format>"
      ]
     },
     "execution_count": 12,
     "metadata": {},
     "output_type": "execute_result"
    }
   ],
   "source": [
    "X_binned"
   ]
  },
  {
   "cell_type": "code",
   "execution_count": 13,
   "metadata": {},
   "outputs": [
    {
     "data": {
      "text/html": [
       "<div>\n",
       "<style scoped>\n",
       "    .dataframe tbody tr th:only-of-type {\n",
       "        vertical-align: middle;\n",
       "    }\n",
       "\n",
       "    .dataframe tbody tr th {\n",
       "        vertical-align: top;\n",
       "    }\n",
       "\n",
       "    .dataframe thead th {\n",
       "        text-align: right;\n",
       "    }\n",
       "</style>\n",
       "<table border=\"1\" class=\"dataframe\">\n",
       "  <thead>\n",
       "    <tr style=\"text-align: right;\">\n",
       "      <th></th>\n",
       "      <th>0</th>\n",
       "      <th>1</th>\n",
       "      <th>2</th>\n",
       "      <th>3</th>\n",
       "      <th>4</th>\n",
       "      <th>5</th>\n",
       "      <th>6</th>\n",
       "      <th>7</th>\n",
       "      <th>8</th>\n",
       "      <th>9</th>\n",
       "    </tr>\n",
       "  </thead>\n",
       "  <tbody>\n",
       "    <tr>\n",
       "      <th>0</th>\n",
       "      <td>0.0</td>\n",
       "      <td>0.0</td>\n",
       "      <td>0.0</td>\n",
       "      <td>0.0</td>\n",
       "      <td>1.0</td>\n",
       "      <td>0.0</td>\n",
       "      <td>0.0</td>\n",
       "      <td>0.0</td>\n",
       "      <td>0.0</td>\n",
       "      <td>0.0</td>\n",
       "    </tr>\n",
       "    <tr>\n",
       "      <th>1</th>\n",
       "      <td>0.0</td>\n",
       "      <td>0.0</td>\n",
       "      <td>0.0</td>\n",
       "      <td>0.0</td>\n",
       "      <td>0.0</td>\n",
       "      <td>0.0</td>\n",
       "      <td>0.0</td>\n",
       "      <td>0.0</td>\n",
       "      <td>0.0</td>\n",
       "      <td>1.0</td>\n",
       "    </tr>\n",
       "    <tr>\n",
       "      <th>2</th>\n",
       "      <td>0.0</td>\n",
       "      <td>0.0</td>\n",
       "      <td>0.0</td>\n",
       "      <td>0.0</td>\n",
       "      <td>0.0</td>\n",
       "      <td>0.0</td>\n",
       "      <td>0.0</td>\n",
       "      <td>1.0</td>\n",
       "      <td>0.0</td>\n",
       "      <td>0.0</td>\n",
       "    </tr>\n",
       "    <tr>\n",
       "      <th>3</th>\n",
       "      <td>0.0</td>\n",
       "      <td>0.0</td>\n",
       "      <td>0.0</td>\n",
       "      <td>0.0</td>\n",
       "      <td>0.0</td>\n",
       "      <td>0.0</td>\n",
       "      <td>1.0</td>\n",
       "      <td>0.0</td>\n",
       "      <td>0.0</td>\n",
       "      <td>0.0</td>\n",
       "    </tr>\n",
       "    <tr>\n",
       "      <th>4</th>\n",
       "      <td>0.0</td>\n",
       "      <td>0.0</td>\n",
       "      <td>1.0</td>\n",
       "      <td>0.0</td>\n",
       "      <td>0.0</td>\n",
       "      <td>0.0</td>\n",
       "      <td>0.0</td>\n",
       "      <td>0.0</td>\n",
       "      <td>0.0</td>\n",
       "      <td>0.0</td>\n",
       "    </tr>\n",
       "  </tbody>\n",
       "</table>\n",
       "</div>"
      ],
      "text/plain": [
       "     0    1    2    3    4    5    6    7    8    9\n",
       "0  0.0  0.0  0.0  0.0  1.0  0.0  0.0  0.0  0.0  0.0\n",
       "1  0.0  0.0  0.0  0.0  0.0  0.0  0.0  0.0  0.0  1.0\n",
       "2  0.0  0.0  0.0  0.0  0.0  0.0  0.0  1.0  0.0  0.0\n",
       "3  0.0  0.0  0.0  0.0  0.0  0.0  1.0  0.0  0.0  0.0\n",
       "4  0.0  0.0  1.0  0.0  0.0  0.0  0.0  0.0  0.0  0.0"
      ]
     },
     "execution_count": 13,
     "metadata": {},
     "output_type": "execute_result"
    }
   ],
   "source": [
    "import pandas as pd\n",
    "pd.DataFrame(X_binned.toarray()).head()"
   ]
  },
  {
   "cell_type": "code",
   "execution_count": 15,
   "metadata": {
    "scrolled": true
   },
   "outputs": [
    {
     "ename": "ValueError",
     "evalue": "matmul: Input operand 1 has a mismatch in its core dimension 0, with gufunc signature (n?,k),(k,m?)->(n?,m?) (size 10 is different from 1)",
     "output_type": "error",
     "traceback": [
      "\u001b[1;31m---------------------------------------------------------------------------\u001b[0m",
      "\u001b[1;31mValueError\u001b[0m                                Traceback (most recent call last)",
      "\u001b[1;32m<ipython-input-15-574045d361ac>\u001b[0m in \u001b[0;36m<module>\u001b[1;34m\u001b[0m\n\u001b[0;32m      2\u001b[0m \u001b[0mLinearR_\u001b[0m \u001b[1;33m=\u001b[0m \u001b[0mLinearRegression\u001b[0m\u001b[1;33m(\u001b[0m\u001b[1;33m)\u001b[0m\u001b[1;33m.\u001b[0m\u001b[0mfit\u001b[0m\u001b[1;33m(\u001b[0m\u001b[0mX_binned\u001b[0m\u001b[1;33m,\u001b[0m \u001b[0my\u001b[0m\u001b[1;33m)\u001b[0m\u001b[1;33m\u001b[0m\u001b[1;33m\u001b[0m\u001b[0m\n\u001b[0;32m      3\u001b[0m \u001b[1;33m\u001b[0m\u001b[0m\n\u001b[1;32m----> 4\u001b[1;33m \u001b[0mLinearR_\u001b[0m\u001b[1;33m.\u001b[0m\u001b[0mpredict\u001b[0m\u001b[1;33m(\u001b[0m\u001b[0mline\u001b[0m\u001b[1;33m)\u001b[0m \u001b[1;31m#line作为测试集\u001b[0m\u001b[1;33m\u001b[0m\u001b[1;33m\u001b[0m\u001b[0m\n\u001b[0m",
      "\u001b[1;32mC:\\anaconda\\envs\\sk-learn\\lib\\site-packages\\sklearn\\linear_model\\_base.py\u001b[0m in \u001b[0;36mpredict\u001b[1;34m(self, X)\u001b[0m\n\u001b[0;32m    234\u001b[0m             \u001b[0mReturns\u001b[0m \u001b[0mpredicted\u001b[0m \u001b[0mvalues\u001b[0m\u001b[1;33m.\u001b[0m\u001b[1;33m\u001b[0m\u001b[1;33m\u001b[0m\u001b[0m\n\u001b[0;32m    235\u001b[0m         \"\"\"\n\u001b[1;32m--> 236\u001b[1;33m         \u001b[1;32mreturn\u001b[0m \u001b[0mself\u001b[0m\u001b[1;33m.\u001b[0m\u001b[0m_decision_function\u001b[0m\u001b[1;33m(\u001b[0m\u001b[0mX\u001b[0m\u001b[1;33m)\u001b[0m\u001b[1;33m\u001b[0m\u001b[1;33m\u001b[0m\u001b[0m\n\u001b[0m\u001b[0;32m    237\u001b[0m \u001b[1;33m\u001b[0m\u001b[0m\n\u001b[0;32m    238\u001b[0m     \u001b[0m_preprocess_data\u001b[0m \u001b[1;33m=\u001b[0m \u001b[0mstaticmethod\u001b[0m\u001b[1;33m(\u001b[0m\u001b[0m_preprocess_data\u001b[0m\u001b[1;33m)\u001b[0m\u001b[1;33m\u001b[0m\u001b[1;33m\u001b[0m\u001b[0m\n",
      "\u001b[1;32mC:\\anaconda\\envs\\sk-learn\\lib\\site-packages\\sklearn\\linear_model\\_base.py\u001b[0m in \u001b[0;36m_decision_function\u001b[1;34m(self, X)\u001b[0m\n\u001b[0;32m    217\u001b[0m \u001b[1;33m\u001b[0m\u001b[0m\n\u001b[0;32m    218\u001b[0m         \u001b[0mX\u001b[0m \u001b[1;33m=\u001b[0m \u001b[0mcheck_array\u001b[0m\u001b[1;33m(\u001b[0m\u001b[0mX\u001b[0m\u001b[1;33m,\u001b[0m \u001b[0maccept_sparse\u001b[0m\u001b[1;33m=\u001b[0m\u001b[1;33m[\u001b[0m\u001b[1;34m'csr'\u001b[0m\u001b[1;33m,\u001b[0m \u001b[1;34m'csc'\u001b[0m\u001b[1;33m,\u001b[0m \u001b[1;34m'coo'\u001b[0m\u001b[1;33m]\u001b[0m\u001b[1;33m)\u001b[0m\u001b[1;33m\u001b[0m\u001b[1;33m\u001b[0m\u001b[0m\n\u001b[1;32m--> 219\u001b[1;33m         return safe_sparse_dot(X, self.coef_.T,\n\u001b[0m\u001b[0;32m    220\u001b[0m                                dense_output=True) + self.intercept_\n\u001b[0;32m    221\u001b[0m \u001b[1;33m\u001b[0m\u001b[0m\n",
      "\u001b[1;32mC:\\anaconda\\envs\\sk-learn\\lib\\site-packages\\sklearn\\utils\\validation.py\u001b[0m in \u001b[0;36minner_f\u001b[1;34m(*args, **kwargs)\u001b[0m\n\u001b[0;32m     70\u001b[0m                           FutureWarning)\n\u001b[0;32m     71\u001b[0m         \u001b[0mkwargs\u001b[0m\u001b[1;33m.\u001b[0m\u001b[0mupdate\u001b[0m\u001b[1;33m(\u001b[0m\u001b[1;33m{\u001b[0m\u001b[0mk\u001b[0m\u001b[1;33m:\u001b[0m \u001b[0marg\u001b[0m \u001b[1;32mfor\u001b[0m \u001b[0mk\u001b[0m\u001b[1;33m,\u001b[0m \u001b[0marg\u001b[0m \u001b[1;32min\u001b[0m \u001b[0mzip\u001b[0m\u001b[1;33m(\u001b[0m\u001b[0msig\u001b[0m\u001b[1;33m.\u001b[0m\u001b[0mparameters\u001b[0m\u001b[1;33m,\u001b[0m \u001b[0margs\u001b[0m\u001b[1;33m)\u001b[0m\u001b[1;33m}\u001b[0m\u001b[1;33m)\u001b[0m\u001b[1;33m\u001b[0m\u001b[1;33m\u001b[0m\u001b[0m\n\u001b[1;32m---> 72\u001b[1;33m         \u001b[1;32mreturn\u001b[0m \u001b[0mf\u001b[0m\u001b[1;33m(\u001b[0m\u001b[1;33m**\u001b[0m\u001b[0mkwargs\u001b[0m\u001b[1;33m)\u001b[0m\u001b[1;33m\u001b[0m\u001b[1;33m\u001b[0m\u001b[0m\n\u001b[0m\u001b[0;32m     73\u001b[0m     \u001b[1;32mreturn\u001b[0m \u001b[0minner_f\u001b[0m\u001b[1;33m\u001b[0m\u001b[1;33m\u001b[0m\u001b[0m\n\u001b[0;32m     74\u001b[0m \u001b[1;33m\u001b[0m\u001b[0m\n",
      "\u001b[1;32mC:\\anaconda\\envs\\sk-learn\\lib\\site-packages\\sklearn\\utils\\extmath.py\u001b[0m in \u001b[0;36msafe_sparse_dot\u001b[1;34m(a, b, dense_output)\u001b[0m\n\u001b[0;32m    151\u001b[0m             \u001b[0mret\u001b[0m \u001b[1;33m=\u001b[0m \u001b[0mnp\u001b[0m\u001b[1;33m.\u001b[0m\u001b[0mdot\u001b[0m\u001b[1;33m(\u001b[0m\u001b[0ma\u001b[0m\u001b[1;33m,\u001b[0m \u001b[0mb\u001b[0m\u001b[1;33m)\u001b[0m\u001b[1;33m\u001b[0m\u001b[1;33m\u001b[0m\u001b[0m\n\u001b[0;32m    152\u001b[0m     \u001b[1;32melse\u001b[0m\u001b[1;33m:\u001b[0m\u001b[1;33m\u001b[0m\u001b[1;33m\u001b[0m\u001b[0m\n\u001b[1;32m--> 153\u001b[1;33m         \u001b[0mret\u001b[0m \u001b[1;33m=\u001b[0m \u001b[0ma\u001b[0m \u001b[1;33m@\u001b[0m \u001b[0mb\u001b[0m\u001b[1;33m\u001b[0m\u001b[1;33m\u001b[0m\u001b[0m\n\u001b[0m\u001b[0;32m    154\u001b[0m \u001b[1;33m\u001b[0m\u001b[0m\n\u001b[0;32m    155\u001b[0m     if (sparse.issparse(a) and sparse.issparse(b)\n",
      "\u001b[1;31mValueError\u001b[0m: matmul: Input operand 1 has a mismatch in its core dimension 0, with gufunc signature (n?,k),(k,m?)->(n?,m?) (size 10 is different from 1)"
     ]
    }
   ],
   "source": [
    "#我们将使用分箱后的数据来训练模型，在sklearn中，测试集和训练集的结构必须保持一致，否则报错\n",
    "LinearR_ = LinearRegression().fit(X_binned, y)\n",
    "\n",
    "LinearR_.predict(line) #line作为测试集"
   ]
  },
  {
   "cell_type": "code",
   "execution_count": 16,
   "metadata": {},
   "outputs": [
    {
     "data": {
      "text/plain": [
       "(1000, 1)"
      ]
     },
     "execution_count": 16,
     "metadata": {},
     "output_type": "execute_result"
    }
   ],
   "source": [
    "line.shape #测试"
   ]
  },
  {
   "cell_type": "code",
   "execution_count": 18,
   "metadata": {},
   "outputs": [
    {
     "data": {
      "text/plain": [
       "(100, 10)"
      ]
     },
     "execution_count": 18,
     "metadata": {},
     "output_type": "execute_result"
    }
   ],
   "source": [
    "X_binned.shape #训练"
   ]
  },
  {
   "cell_type": "code",
   "execution_count": 19,
   "metadata": {},
   "outputs": [
    {
     "data": {
      "text/plain": [
       "(1000, 10)"
      ]
     },
     "execution_count": 19,
     "metadata": {},
     "output_type": "execute_result"
    }
   ],
   "source": [
    "#因此我们需要创建分箱后的测试集：按照已经建好的分箱模型将line分箱\n",
    "line_binned = enc.transform(line)\n",
    "\n",
    "line_binned.shape #分箱后的数据是无法进行绘图的"
   ]
  },
  {
   "cell_type": "code",
   "execution_count": 20,
   "metadata": {},
   "outputs": [
    {
     "data": {
      "text/plain": [
       "<1000x10 sparse matrix of type '<class 'numpy.float64'>'\n",
       "\twith 1000 stored elements in Compressed Sparse Row format>"
      ]
     },
     "execution_count": 20,
     "metadata": {},
     "output_type": "execute_result"
    }
   ],
   "source": [
    "line_binned"
   ]
  },
  {
   "cell_type": "code",
   "execution_count": 21,
   "metadata": {},
   "outputs": [
    {
     "data": {
      "text/plain": [
       "(1000,)"
      ]
     },
     "execution_count": 21,
     "metadata": {},
     "output_type": "execute_result"
    }
   ],
   "source": [
    "LinearR_.predict(line_binned).shape"
   ]
  },
  {
   "cell_type": "code",
   "execution_count": 22,
   "metadata": {},
   "outputs": [
    {
     "data": {
      "text/plain": [
       "array([-2.9668673 , -2.55299973, -2.0639171 , -1.3945301 , -1.02797432,\n",
       "       -0.21514527,  0.44239288,  1.14612193,  1.63693428,  2.32784522,\n",
       "        2.92132162])"
      ]
     },
     "execution_count": 22,
     "metadata": {},
     "output_type": "execute_result"
    }
   ],
   "source": [
    "enc.bin_edges_[0] #分出的箱子的上限和下限"
   ]
  },
  {
   "cell_type": "code",
   "execution_count": 23,
   "metadata": {},
   "outputs": [
    {
     "data": {
      "text/plain": [
       "[0.0, 1.0]"
      ]
     },
     "execution_count": 23,
     "metadata": {},
     "output_type": "execute_result"
    },
    {
     "data": {
      "image/png": "[encoded data removed]",
      "text/plain": [
       "<Figure size 432x288 with 1 Axes>"
      ]
     },
     "metadata": {
      "needs_background": "light"
     },
     "output_type": "display_data"
    }
   ],
   "source": [
    "[*plt.gca().get_ylim()]"
   ]
  },
  {
   "cell_type": "code",
   "execution_count": 24,
   "metadata": {},
   "outputs": [
    {
     "data": {
      "image/png": "[encoded data removed]",
      "text/plain": [
       "<Figure size 720x288 with 2 Axes>"
      ]
     },
     "metadata": {
      "needs_background": "light"
     },
     "output_type": "display_data"
    }
   ],
   "source": [
    "#准备数据\n",
    "enc = KBinsDiscretizer(n_bins=10,encode=\"onehot\")\n",
    "X_binned = enc.fit_transform(X)\n",
    "line_binned = enc.transform(line)\n",
    "\n",
    "#将两张图像绘制在一起，布置画布\n",
    "fig, (ax1, ax2) = plt.subplots(ncols=2\n",
    "                               , sharey=True #让两张图共享y轴上的刻度\n",
    "                               , figsize=(10, 4))\n",
    "\n",
    "#在图1中布置在原始数据上建模的结果\n",
    "ax1.plot(line, LinearR.predict(line), linewidth=2, color='green',\n",
    "         label=\"linear regression\")\n",
    "ax1.plot(line, TreeR.predict(line), linewidth=2, color='red',\n",
    "         label=\"decision tree\")\n",
    "ax1.plot(X[:, 0], y, 'o', c='k')\n",
    "ax1.legend(loc=\"best\")\n",
    "ax1.set_ylabel(\"Regression output\")\n",
    "ax1.set_xlabel(\"Input feature\")\n",
    "ax1.set_title(\"Result before discretization\")\n",
    "\n",
    "#使用分箱数据进行建模\n",
    "LinearR_ = LinearRegression().fit(X_binned, y)\n",
    "TreeR_ = DecisionTreeRegressor(random_state=0).fit(X_binned, y)\n",
    "\n",
    "#进行预测，在图2中布置在分箱数据上进行预测的结果\n",
    "ax2.plot(line #横坐标\n",
    "         , LinearR_.predict(line_binned) #分箱后的特征矩阵的结果\n",
    "         , linewidth=2\n",
    "         , color='green'\n",
    "         , linestyle='-'\n",
    "         , label='linear regression')\n",
    "\n",
    "ax2.plot(line, TreeR_.predict(line_binned), linewidth=2, color='red',\n",
    "         linestyle=':', label='decision tree')\n",
    "\n",
    "#绘制和箱宽一致的竖线\n",
    "ax2.vlines(enc.bin_edges_[0] #x轴\n",
    "           , *plt.gca().get_ylim() #y轴的上限和下限\n",
    "           , linewidth=1\n",
    "           , alpha=.2)\n",
    "\n",
    "#将原始数据分布放置在图像上\n",
    "ax2.plot(X[:, 0], y, 'o', c='k')\n",
    "\n",
    "#其他绘图设定\n",
    "ax2.legend(loc=\"best\")\n",
    "ax2.set_xlabel(\"Input feature\")\n",
    "ax2.set_title(\"Result after discretization\")\n",
    "plt.tight_layout()\n",
    "plt.show()"
   ]
  },
  {
   "cell_type": "code",
   "execution_count": 75,
   "metadata": {},
   "outputs": [
    {
     "name": "stdout",
     "output_type": "stream",
     "text": [
      "0.9590978882491229\n"
     ]
    },
    {
     "data": {
      "image/png": "[encoded data removed]",
      "text/plain": [
       "<Figure size 360x288 with 1 Axes>"
      ]
     },
     "metadata": {
      "needs_background": "light"
     },
     "output_type": "display_data"
    }
   ],
   "source": [
    "enc = KBinsDiscretizer(n_bins=15,encode=\"onehot\")\n",
    "X_binned = enc.fit_transform(X)\n",
    "line_binned = enc.transform(line)\n",
    "\n",
    "fig, ax2 = plt.subplots(1,figsize=(5,4))\n",
    "\n",
    "LinearR_ = LinearRegression().fit(X_binned, y)\n",
    "print(LinearR_.score(line_binned,np.sin(line)))\n",
    "TreeR_ = DecisionTreeRegressor(random_state=0).fit(X_binned, y)\n",
    "\n",
    "ax2.plot(line #横坐标\n",
    "         , LinearR_.predict(line_binned) #分箱后的特征矩阵的结果\n",
    "         , linewidth=2\n",
    "         , color='green'\n",
    "         , linestyle='-'\n",
    "         , label='linear regression')\n",
    "ax2.plot(line, TreeR_.predict(line_binned), linewidth=2, color='red',\n",
    "         linestyle=':', label='decision tree')\n",
    "ax2.vlines(enc.bin_edges_[0], *plt.gca().get_ylim(), linewidth=1, alpha=.2)\n",
    "ax2.plot(X[:, 0], y, 'o', c='k')\n",
    "ax2.legend(loc=\"best\")\n",
    "ax2.set_xlabel(\"Input feature\")\n",
    "ax2.set_title(\"Result after discretization\")\n",
    "plt.tight_layout()\n",
    "plt.show()"
   ]
  },
  {
   "cell_type": "code",
   "execution_count": 25,
   "metadata": {},
   "outputs": [],
   "source": [
    "#怎样选取最优的箱子?\n",
    "from sklearn.model_selection import cross_val_score as CVS\n",
    "import numpy as np"
   ]
  },
  {
   "cell_type": "code",
   "execution_count": 26,
   "metadata": {},
   "outputs": [
    {
     "data": {
      "image/png": "[encoded data removed]",
      "text/plain": [
       "<Figure size 432x360 with 1 Axes>"
      ]
     },
     "metadata": {
      "needs_background": "light"
     },
     "output_type": "display_data"
    }
   ],
   "source": [
    "pred,score,var = [], [], []\n",
    "binsrange = [2,5,10,15,20,30]\n",
    "for i in binsrange:\n",
    "    #实例化分箱类\n",
    "    enc = KBinsDiscretizer(n_bins=i,encode=\"onehot\")\n",
    "    #转换数据\n",
    "    X_binned = enc.fit_transform(X)\n",
    "    line_binned = enc.transform(line)\n",
    "    #建立模型\n",
    "    LinearR_ = LinearRegression()\n",
    "    #全数据集上的交叉验证\n",
    "    cvresult = CVS(LinearR_,X_binned,y,cv=5)\n",
    "    score.append(cvresult.mean())\n",
    "    var.append(cvresult.var())\n",
    "    #测试数据集上的打分结果\n",
    "    pred.append(LinearR_.fit(X_binned,y).score(line_binned,np.sin(line)))\n",
    "#绘制图像\n",
    "plt.figure(figsize=(6,5))\n",
    "plt.plot(binsrange,pred,c=\"orange\",label=\"test\")\n",
    "plt.plot(binsrange,score,c=\"k\",label=\"full data\")\n",
    "plt.plot(binsrange,score+np.array(var)*0.5,c=\"red\",linestyle=\"--\",label = \"var\")\n",
    "plt.plot(binsrange,score-np.array(var)*0.5,c=\"red\",linestyle=\"--\")\n",
    "plt.legend()\n",
    "plt.show()"
   ]
  },
  {
   "cell_type": "code",
   "execution_count": 27,
   "metadata": {},
   "outputs": [],
   "source": [
    "from sklearn.preprocessing import PolynomialFeatures\n",
    "import numpy as np"
   ]
  },
  {
   "cell_type": "code",
   "execution_count": 28,
   "metadata": {},
   "outputs": [
    {
     "data": {
      "text/plain": [
       "array([[1],\n",
       "       [2],\n",
       "       [3]])"
      ]
     },
     "execution_count": 28,
     "metadata": {},
     "output_type": "execute_result"
    }
   ],
   "source": [
    "#如果原始数据是一维的\n",
    "X = np.arange(1,4).reshape(-1,1)\n",
    "X"
   ]
  },
  {
   "cell_type": "code",
   "execution_count": 29,
   "metadata": {},
   "outputs": [],
   "source": [
    "#二次多项式，参数degree控制多项式的次方\n",
    "poly = PolynomialFeatures(degree=2)"
   ]
  },
  {
   "cell_type": "code",
   "execution_count": 30,
   "metadata": {},
   "outputs": [],
   "source": [
    "#接口transform直接调用\n",
    "X_ = poly.fit_transform(X)"
   ]
  },
  {
   "cell_type": "code",
   "execution_count": 31,
   "metadata": {},
   "outputs": [
    {
     "data": {
      "text/plain": [
       "array([[1., 1., 1.],\n",
       "       [1., 2., 4.],\n",
       "       [1., 3., 9.]])"
      ]
     },
     "execution_count": 31,
     "metadata": {},
     "output_type": "execute_result"
    }
   ],
   "source": [
    "X_"
   ]
  },
  {
   "cell_type": "code",
   "execution_count": 32,
   "metadata": {},
   "outputs": [
    {
     "data": {
      "text/plain": [
       "(3, 3)"
      ]
     },
     "execution_count": 32,
     "metadata": {},
     "output_type": "execute_result"
    }
   ],
   "source": [
    "X_.shape"
   ]
  },
  {
   "cell_type": "code",
   "execution_count": 33,
   "metadata": {},
   "outputs": [
    {
     "data": {
      "text/plain": [
       "array([[ 1.,  1.,  1.,  1.],\n",
       "       [ 1.,  2.,  4.,  8.],\n",
       "       [ 1.,  3.,  9., 27.]])"
      ]
     },
     "execution_count": 33,
     "metadata": {},
     "output_type": "execute_result"
    }
   ],
   "source": [
    "#三次多项式\n",
    "PolynomialFeatures(degree=3).fit_transform(X)"
   ]
  },
  {
   "cell_type": "code",
   "execution_count": 34,
   "metadata": {},
   "outputs": [
    {
     "data": {
      "text/plain": [
       "array([[ 1.,  1.,  1.],\n",
       "       [ 2.,  4.,  8.],\n",
       "       [ 3.,  9., 27.]])"
      ]
     },
     "execution_count": 34,
     "metadata": {},
     "output_type": "execute_result"
    }
   ],
   "source": [
    "#三次多项式，不带与截距项相乘的x0\n",
    "PolynomialFeatures(degree=3,include_bias=False).fit_transform(X)"
   ]
  },
  {
   "cell_type": "code",
   "execution_count": 35,
   "metadata": {},
   "outputs": [
    {
     "data": {
      "text/plain": [
       "(3, 4)"
      ]
     },
     "execution_count": 35,
     "metadata": {},
     "output_type": "execute_result"
    }
   ],
   "source": [
    "#为什么我们会希望不生成与截距相乘的x0呢？\n",
    "#对于多项式回归来说，我们已经为线性回归准备好了x0，但是线性回归并不知道\n",
    "xxx = PolynomialFeatures(degree=3).fit_transform(X)\n",
    "\n",
    "xxx.shape"
   ]
  },
  {
   "cell_type": "code",
   "execution_count": 36,
   "metadata": {},
   "outputs": [
    {
     "data": {
      "text/plain": [
       "array([ 0.49671415, -0.1382643 ,  0.64768854])"
      ]
     },
     "execution_count": 36,
     "metadata": {},
     "output_type": "execute_result"
    }
   ],
   "source": [
    "rnd = np.random.RandomState(42) #设置随机数种子\n",
    "y = rnd.randn(3)\n",
    "\n",
    "y"
   ]
  },
  {
   "cell_type": "code",
   "execution_count": 37,
   "metadata": {},
   "outputs": [
    {
     "data": {
      "text/plain": [
       "array([ 1.36002321e-15, -3.51045297e-01, -6.06987134e-01,  2.19575463e-01])"
      ]
     },
     "execution_count": 37,
     "metadata": {},
     "output_type": "execute_result"
    }
   ],
   "source": [
    "#生成了多少个系数？\n",
    "LinearRegression().fit(xxx,y).coef_"
   ]
  },
  {
   "cell_type": "code",
   "execution_count": 38,
   "metadata": {},
   "outputs": [
    {
     "data": {
      "text/plain": [
       "1.2351711202036895"
      ]
     },
     "execution_count": 38,
     "metadata": {},
     "output_type": "execute_result"
    }
   ],
   "source": [
    "#查看截距\n",
    "LinearRegression().fit(xxx,y).intercept_"
   ]
  },
  {
   "cell_type": "code",
   "execution_count": 39,
   "metadata": {},
   "outputs": [
    {
     "data": {
      "text/plain": [
       "array([ 1.00596411,  0.06916756, -0.83619415,  0.25777663])"
      ]
     },
     "execution_count": 39,
     "metadata": {},
     "output_type": "execute_result"
    }
   ],
   "source": [
    "#发现问题了吗？线性回归并没有把多项式生成的x0当作是截距项\n",
    "#所以我们可以选择：关闭多项式回归中的include_bias\n",
    "#也可以选择：关闭线性回归中的fit_intercept\n",
    "\n",
    "#生成了多少个系数？\n",
    "LinearRegression(fit_intercept=False).fit(xxx,y).coef_"
   ]
  },
  {
   "cell_type": "code",
   "execution_count": 40,
   "metadata": {},
   "outputs": [
    {
     "data": {
      "text/plain": [
       "0.0"
      ]
     },
     "execution_count": 40,
     "metadata": {},
     "output_type": "execute_result"
    }
   ],
   "source": [
    "#查看截距\n",
    "LinearRegression(fit_intercept=False).fit(xxx,y).intercept_"
   ]
  },
  {
   "cell_type": "code",
   "execution_count": 41,
   "metadata": {},
   "outputs": [
    {
     "data": {
      "text/plain": [
       "array([[0, 1],\n",
       "       [2, 3],\n",
       "       [4, 5]])"
      ]
     },
     "execution_count": 41,
     "metadata": {},
     "output_type": "execute_result"
    }
   ],
   "source": [
    "X = np.arange(6).reshape(3, 2)\n",
    "X"
   ]
  },
  {
   "cell_type": "code",
   "execution_count": 42,
   "metadata": {},
   "outputs": [
    {
     "data": {
      "text/plain": [
       "array([[ 1.,  0.,  1.,  0.,  0.,  1.],\n",
       "       [ 1.,  2.,  3.,  4.,  6.,  9.],\n",
       "       [ 1.,  4.,  5., 16., 20., 25.]])"
      ]
     },
     "execution_count": 42,
     "metadata": {},
     "output_type": "execute_result"
    }
   ],
   "source": [
    "#尝试二次多项式\n",
    "PolynomialFeatures(degree=2).fit_transform(X)"
   ]
  },
  {
   "cell_type": "code",
   "execution_count": 43,
   "metadata": {},
   "outputs": [
    {
     "data": {
      "text/plain": [
       "array([[  1.,   0.,   1.,   0.,   0.,   1.,   0.,   0.,   0.,   1.],\n",
       "       [  1.,   2.,   3.,   4.,   6.,   9.,   8.,  12.,  18.,  27.],\n",
       "       [  1.,   4.,   5.,  16.,  20.,  25.,  64.,  80., 100., 125.]])"
      ]
     },
     "execution_count": 43,
     "metadata": {},
     "output_type": "execute_result"
    }
   ],
   "source": [
    "#尝试三次多项式\n",
    "PolynomialFeatures(degree=3).fit_transform(X)"
   ]
  },
  {
   "cell_type": "code",
   "execution_count": 44,
   "metadata": {},
   "outputs": [
    {
     "data": {
      "text/plain": [
       "array([[ 1.,  0.,  1.,  0.,  0.,  1.],\n",
       "       [ 1.,  2.,  3.,  4.,  6.,  9.],\n",
       "       [ 1.,  4.,  5., 16., 20., 25.]])"
      ]
     },
     "execution_count": 44,
     "metadata": {},
     "output_type": "execute_result"
    }
   ],
   "source": [
    "PolynomialFeatures(degree=2).fit_transform(X)"
   ]
  },
  {
   "cell_type": "code",
   "execution_count": 45,
   "metadata": {},
   "outputs": [
    {
     "data": {
      "text/plain": [
       "array([[ 1.,  0.,  1.,  0.],\n",
       "       [ 1.,  2.,  3.,  6.],\n",
       "       [ 1.,  4.,  5., 20.]])"
      ]
     },
     "execution_count": 45,
     "metadata": {},
     "output_type": "execute_result"
    }
   ],
   "source": [
    "PolynomialFeatures(degree=2,interaction_only=True).fit_transform(X)\n",
    "#对比之下，当interaction_only为True的时候，只生成交互项"
   ]
  },
  {
   "cell_type": "code",
   "execution_count": 46,
   "metadata": {},
   "outputs": [
    {
     "data": {
      "text/plain": [
       "array([[ 0,  1,  2,  3,  4,  5,  6,  7,  8,  9],\n",
       "       [10, 11, 12, 13, 14, 15, 16, 17, 18, 19]])"
      ]
     },
     "execution_count": 46,
     "metadata": {},
     "output_type": "execute_result"
    }
   ],
   "source": [
    "#更高维度的原始特征矩阵\n",
    "X = np.arange(20).reshape(2, 10)\n",
    "X"
   ]
  },
  {
   "cell_type": "code",
   "execution_count": 47,
   "metadata": {},
   "outputs": [
    {
     "data": {
      "text/plain": [
       "(2, 66)"
      ]
     },
     "execution_count": 47,
     "metadata": {},
     "output_type": "execute_result"
    }
   ],
   "source": [
    "PolynomialFeatures(degree=2).fit_transform(X).shape"
   ]
  },
  {
   "cell_type": "code",
   "execution_count": 48,
   "metadata": {},
   "outputs": [
    {
     "data": {
      "text/plain": [
       "(2, 286)"
      ]
     },
     "execution_count": 48,
     "metadata": {},
     "output_type": "execute_result"
    }
   ],
   "source": [
    "PolynomialFeatures(degree=3).fit_transform(X).shape"
   ]
  },
  {
   "cell_type": "code",
   "execution_count": 49,
   "metadata": {},
   "outputs": [
    {
     "data": {
      "text/plain": [
       "(2, 30045015)"
      ]
     },
     "execution_count": 49,
     "metadata": {},
     "output_type": "execute_result"
    }
   ],
   "source": [
    "X_ = PolynomialFeatures(degree=20).fit_transform(X)\n",
    "\n",
    "X_.shape"
   ]
  },
  {
   "cell_type": "code",
   "execution_count": 50,
   "metadata": {},
   "outputs": [],
   "source": [
    "from sklearn.preprocessing import PolynomialFeatures as PF\n",
    "from sklearn.linear_model import LinearRegression\n",
    "import numpy as np\n",
    "\n",
    "rnd = np.random.RandomState(42) #设置随机数种子\n",
    "X = rnd.uniform(-3, 3, size=100)\n",
    "y = np.sin(X) + rnd.normal(size=len(X)) / 3\n",
    "\n",
    "#将X升维，准备好放入sklearn中\n",
    "X = X.reshape(-1,1)\n",
    "\n",
    "#创建测试数据，均匀分布在训练集X的取值范围内的一千个点\n",
    "line = np.linspace(-3, 3, 1000, endpoint=False).reshape(-1, 1)"
   ]
  },
  {
   "cell_type": "code",
   "execution_count": 51,
   "metadata": {
    "scrolled": true
   },
   "outputs": [
    {
     "data": {
      "text/plain": [
       "0.5361526059318595"
      ]
     },
     "execution_count": 51,
     "metadata": {},
     "output_type": "execute_result"
    }
   ],
   "source": [
    "#原始特征矩阵的拟合结果\n",
    "LinearR = LinearRegression().fit(X, y)\n",
    "#对训练数据的拟合\n",
    "LinearR.score(X,y)"
   ]
  },
  {
   "cell_type": "code",
   "execution_count": 52,
   "metadata": {},
   "outputs": [
    {
     "data": {
      "text/plain": [
       "0.6800102369793312"
      ]
     },
     "execution_count": 52,
     "metadata": {},
     "output_type": "execute_result"
    }
   ],
   "source": [
    "#对测试数据的拟合\n",
    "LinearR.score(line,np.sin(line))"
   ]
  },
  {
   "cell_type": "code",
   "execution_count": 53,
   "metadata": {},
   "outputs": [
    {
     "data": {
      "text/plain": [
       "0.8561679370344799"
      ]
     },
     "execution_count": 53,
     "metadata": {},
     "output_type": "execute_result"
    }
   ],
   "source": [
    "#多项式拟合，设定高次项\n",
    "d=5\n",
    "\n",
    "#进行高次项转换\n",
    "poly = PF(degree=d)\n",
    "X_ = poly.fit_transform(X)\n",
    "line_ = poly.transform(line)\n",
    "\n",
    "#训练数据的拟合\n",
    "LinearR_ = LinearRegression().fit(X_, y)\n",
    "LinearR_.score(X_,y)"
   ]
  },
  {
   "cell_type": "code",
   "execution_count": 54,
   "metadata": {},
   "outputs": [
    {
     "data": {
      "text/plain": [
       "0.9868904451787984"
      ]
     },
     "execution_count": 54,
     "metadata": {},
     "output_type": "execute_result"
    }
   ],
   "source": [
    "#测试数据的拟合\n",
    "LinearR_.score(line_,np.sin(line))"
   ]
  },
  {
   "cell_type": "code",
   "execution_count": 55,
   "metadata": {},
   "outputs": [
    {
     "data": {
      "image/png": "[encoded data removed]",
      "text/plain": [
       "<Figure size 432x288 with 1 Axes>"
      ]
     },
     "metadata": {
      "needs_background": "light"
     },
     "output_type": "display_data"
    }
   ],
   "source": [
    "import matplotlib.pyplot as plt\n",
    "\n",
    "d=5\n",
    "#和上面展示一致的建模流程\n",
    "LinearR = LinearRegression().fit(X, y)\n",
    "X_ = PF(degree=d).fit_transform(X)\n",
    "LinearR_ = LinearRegression().fit(X_, y)\n",
    "line = np.linspace(-3, 3, 1000, endpoint=False).reshape(-1, 1)\n",
    "line_ = PF(degree=d).fit_transform(line)\n",
    "\n",
    "#放置画布\n",
    "fig, ax1 = plt.subplots(1)\n",
    "\n",
    "#将测试数据带入predict接口，获得模型的拟合效果并进行绘制\n",
    "ax1.plot(line, LinearR.predict(line), linewidth=2, color='green'\n",
    "         ,label=\"linear regression\")\n",
    "ax1.plot(line, LinearR_.predict(line_), linewidth=2, color='red'\n",
    "         ,label=\"Polynomial regression\")\n",
    "\n",
    "#将原数据上的拟合绘制在图像上\n",
    "ax1.plot(X[:, 0], y, 'o', c='k')\n",
    "\n",
    "#其他图形选项\n",
    "ax1.legend(loc=\"best\")\n",
    "ax1.set_ylabel(\"Regression output\")\n",
    "ax1.set_xlabel(\"Input feature\")\n",
    "ax1.set_title(\"Linear Regression ordinary vs poly\")\n",
    "plt.tight_layout()\n",
    "plt.show()\n",
    "\n",
    "#来一起鼓掌，感叹多项式回归的神奇\n",
    "\n",
    "#随后可以试试看较低和较高的次方会发生什么变化\n",
    "#d=2\n",
    "#d=20"
   ]
  },
  {
   "cell_type": "code",
   "execution_count": 56,
   "metadata": {},
   "outputs": [
    {
     "data": {
      "text/plain": [
       "array([[0, 1, 2],\n",
       "       [3, 4, 5],\n",
       "       [6, 7, 8]])"
      ]
     },
     "execution_count": 56,
     "metadata": {},
     "output_type": "execute_result"
    }
   ],
   "source": [
    "import numpy as np\n",
    "from sklearn.preprocessing import PolynomialFeatures\n",
    "from sklearn.linear_model import LinearRegression\n",
    "\n",
    "X = np.arange(9).reshape(3, 3)\n",
    "X"
   ]
  },
  {
   "cell_type": "code",
   "execution_count": 57,
   "metadata": {},
   "outputs": [],
   "source": [
    "poly = PolynomialFeatures(degree=5).fit(X)"
   ]
  },
  {
   "cell_type": "code",
   "execution_count": 59,
   "metadata": {
    "scrolled": true
   },
   "outputs": [
    {
     "data": {
      "text/plain": [
       "['1',\n",
       " 'x0',\n",
       " 'x1',\n",
       " 'x2',\n",
       " 'x0^2',\n",
       " 'x0 x1',\n",
       " 'x0 x2',\n",
       " 'x1^2',\n",
       " 'x1 x2',\n",
       " 'x2^2',\n",
       " 'x0^3',\n",
       " 'x0^2 x1',\n",
       " 'x0^2 x2',\n",
       " 'x0 x1^2',\n",
       " 'x0 x1 x2',\n",
       " 'x0 x2^2',\n",
       " 'x1^3',\n",
       " 'x1^2 x2',\n",
       " 'x1 x2^2',\n",
       " 'x2^3',\n",
       " 'x0^4',\n",
       " 'x0^3 x1',\n",
       " 'x0^3 x2',\n",
       " 'x0^2 x1^2',\n",
       " 'x0^2 x1 x2',\n",
       " 'x0^2 x2^2',\n",
       " 'x0 x1^3',\n",
       " 'x0 x1^2 x2',\n",
       " 'x0 x1 x2^2',\n",
       " 'x0 x2^3',\n",
       " 'x1^4',\n",
       " 'x1^3 x2',\n",
       " 'x1^2 x2^2',\n",
       " 'x1 x2^3',\n",
       " 'x2^4',\n",
       " 'x0^5',\n",
       " 'x0^4 x1',\n",
       " 'x0^4 x2',\n",
       " 'x0^3 x1^2',\n",
       " 'x0^3 x1 x2',\n",
       " 'x0^3 x2^2',\n",
       " 'x0^2 x1^3',\n",
       " 'x0^2 x1^2 x2',\n",
       " 'x0^2 x1 x2^2',\n",
       " 'x0^2 x2^3',\n",
       " 'x0 x1^4',\n",
       " 'x0 x1^3 x2',\n",
       " 'x0 x1^2 x2^2',\n",
       " 'x0 x1 x2^3',\n",
       " 'x0 x2^4',\n",
       " 'x1^5',\n",
       " 'x1^4 x2',\n",
       " 'x1^3 x2^2',\n",
       " 'x1^2 x2^3',\n",
       " 'x1 x2^4',\n",
       " 'x2^5']"
      ]
     },
     "execution_count": 59,
     "metadata": {},
     "output_type": "execute_result"
    }
   ],
   "source": [
    "#重要接口get_feature_names\n",
    "poly.get_feature_names()"
   ]
  },
  {
   "cell_type": "code",
   "execution_count": 60,
   "metadata": {},
   "outputs": [
    {
     "data": {
      "text/plain": [
       "['MedInc',\n",
       " 'HouseAge',\n",
       " 'AveRooms',\n",
       " 'AveBedrms',\n",
       " 'Population',\n",
       " 'AveOccup',\n",
       " 'Latitude',\n",
       " 'Longitude']"
      ]
     },
     "execution_count": 60,
     "metadata": {},
     "output_type": "execute_result"
    }
   ],
   "source": [
    "from sklearn.datasets import fetch_california_housing as fch\n",
    "import pandas as pd\n",
    "\n",
    "housevalue = fch()\n",
    "X = pd.DataFrame(housevalue.data)\n",
    "y = housevalue.target\n",
    "housevalue.feature_names"
   ]
  },
  {
   "cell_type": "code",
   "execution_count": 61,
   "metadata": {},
   "outputs": [],
   "source": [
    "X.columns = [\"住户收入中位数\",\"房屋使用年代中位数\",\"平均房间数目\"\n",
    "            ,\"平均卧室数目\",\"街区人口\",\"平均入住率\",\"街区的纬度\",\"街区的经度\"]"
   ]
  },
  {
   "cell_type": "code",
   "execution_count": 62,
   "metadata": {},
   "outputs": [
    {
     "data": {
      "text/html": [
       "<div>\n",
       "<style scoped>\n",
       "    .dataframe tbody tr th:only-of-type {\n",
       "        vertical-align: middle;\n",
       "    }\n",
       "\n",
       "    .dataframe tbody tr th {\n",
       "        vertical-align: top;\n",
       "    }\n",
       "\n",
       "    .dataframe thead th {\n",
       "        text-align: right;\n",
       "    }\n",
       "</style>\n",
       "<table border=\"1\" class=\"dataframe\">\n",
       "  <thead>\n",
       "    <tr style=\"text-align: right;\">\n",
       "      <th></th>\n",
       "      <th>住户收入中位数</th>\n",
       "      <th>房屋使用年代中位数</th>\n",
       "      <th>平均房间数目</th>\n",
       "      <th>平均卧室数目</th>\n",
       "      <th>街区人口</th>\n",
       "      <th>平均入住率</th>\n",
       "      <th>街区的纬度</th>\n",
       "      <th>街区的经度</th>\n",
       "    </tr>\n",
       "  </thead>\n",
       "  <tbody>\n",
       "    <tr>\n",
       "      <th>0</th>\n",
       "      <td>8.3252</td>\n",
       "      <td>41.0</td>\n",
       "      <td>6.984127</td>\n",
       "      <td>1.023810</td>\n",
       "      <td>322.0</td>\n",
       "      <td>2.555556</td>\n",
       "      <td>37.88</td>\n",
       "      <td>-122.23</td>\n",
       "    </tr>\n",
       "    <tr>\n",
       "      <th>1</th>\n",
       "      <td>8.3014</td>\n",
       "      <td>21.0</td>\n",
       "      <td>6.238137</td>\n",
       "      <td>0.971880</td>\n",
       "      <td>2401.0</td>\n",
       "      <td>2.109842</td>\n",
       "      <td>37.86</td>\n",
       "      <td>-122.22</td>\n",
       "    </tr>\n",
       "    <tr>\n",
       "      <th>2</th>\n",
       "      <td>7.2574</td>\n",
       "      <td>52.0</td>\n",
       "      <td>8.288136</td>\n",
       "      <td>1.073446</td>\n",
       "      <td>496.0</td>\n",
       "      <td>2.802260</td>\n",
       "      <td>37.85</td>\n",
       "      <td>-122.24</td>\n",
       "    </tr>\n",
       "    <tr>\n",
       "      <th>3</th>\n",
       "      <td>5.6431</td>\n",
       "      <td>52.0</td>\n",
       "      <td>5.817352</td>\n",
       "      <td>1.073059</td>\n",
       "      <td>558.0</td>\n",
       "      <td>2.547945</td>\n",
       "      <td>37.85</td>\n",
       "      <td>-122.25</td>\n",
       "    </tr>\n",
       "    <tr>\n",
       "      <th>4</th>\n",
       "      <td>3.8462</td>\n",
       "      <td>52.0</td>\n",
       "      <td>6.281853</td>\n",
       "      <td>1.081081</td>\n",
       "      <td>565.0</td>\n",
       "      <td>2.181467</td>\n",
       "      <td>37.85</td>\n",
       "      <td>-122.25</td>\n",
       "    </tr>\n",
       "  </tbody>\n",
       "</table>\n",
       "</div>"
      ],
      "text/plain": [
       "   住户收入中位数  房屋使用年代中位数    平均房间数目    平均卧室数目    街区人口     平均入住率  街区的纬度   街区的经度\n",
       "0   8.3252       41.0  6.984127  1.023810   322.0  2.555556  37.88 -122.23\n",
       "1   8.3014       21.0  6.238137  0.971880  2401.0  2.109842  37.86 -122.22\n",
       "2   7.2574       52.0  8.288136  1.073446   496.0  2.802260  37.85 -122.24\n",
       "3   5.6431       52.0  5.817352  1.073059   558.0  2.547945  37.85 -122.25\n",
       "4   3.8462       52.0  6.281853  1.081081   565.0  2.181467  37.85 -122.25"
      ]
     },
     "execution_count": 62,
     "metadata": {},
     "output_type": "execute_result"
    }
   ],
   "source": [
    "X.head()"
   ]
  },
  {
   "cell_type": "code",
   "execution_count": 63,
   "metadata": {},
   "outputs": [],
   "source": [
    "poly = PolynomialFeatures(degree=4).fit(X,y)"
   ]
  },
  {
   "cell_type": "code",
   "execution_count": 64,
   "metadata": {},
   "outputs": [
    {
     "data": {
      "text/plain": [
       "['1',\n",
       " '住户收入中位数',\n",
       " '房屋使用年代中位数',\n",
       " '平均房间数目',\n",
       " '平均卧室数目',\n",
       " '街区人口',\n",
       " '平均入住率',\n",
       " '街区的纬度',\n",
       " '街区的经度',\n",
       " '住户收入中位数^2',\n",
       " '住户收入中位数 房屋使用年代中位数',\n",
       " '住户收入中位数 平均房间数目',\n",
       " '住户收入中位数 平均卧室数目',\n",
       " '住户收入中位数 街区人口',\n",
       " '住户收入中位数 平均入住率',\n",
       " '住户收入中位数 街区的纬度',\n",
       " '住户收入中位数 街区的经度',\n",
       " '房屋使用年代中位数^2',\n",
       " '房屋使用年代中位数 平均房间数目',\n",
       " '房屋使用年代中位数 平均卧室数目',\n",
       " '房屋使用年代中位数 街区人口',\n",
       " '房屋使用年代中位数 平均入住率',\n",
       " '房屋使用年代中位数 街区的纬度',\n",
       " '房屋使用年代中位数 街区的经度',\n",
       " '平均房间数目^2',\n",
       " '平均房间数目 平均卧室数目',\n",
       " '平均房间数目 街区人口',\n",
       " '平均房间数目 平均入住率',\n",
       " '平均房间数目 街区的纬度',\n",
       " '平均房间数目 街区的经度',\n",
       " '平均卧室数目^2',\n",
       " '平均卧室数目 街区人口',\n",
       " '平均卧室数目 平均入住率',\n",
       " '平均卧室数目 街区的纬度',\n",
       " '平均卧室数目 街区的经度',\n",
       " '街区人口^2',\n",
       " '街区人口 平均入住率',\n",
       " '街区人口 街区的纬度',\n",
       " '街区人口 街区的经度',\n",
       " '平均入住率^2',\n",
       " '平均入住率 街区的纬度',\n",
       " '平均入住率 街区的经度',\n",
       " '街区的纬度^2',\n",
       " '街区的纬度 街区的经度',\n",
       " '街区的经度^2',\n",
       " '住户收入中位数^3',\n",
       " '住户收入中位数^2 房屋使用年代中位数',\n",
       " '住户收入中位数^2 平均房间数目',\n",
       " '住户收入中位数^2 平均卧室数目',\n",
       " '住户收入中位数^2 街区人口',\n",
       " '住户收入中位数^2 平均入住率',\n",
       " '住户收入中位数^2 街区的纬度',\n",
       " '住户收入中位数^2 街区的经度',\n",
       " '住户收入中位数 房屋使用年代中位数^2',\n",
       " '住户收入中位数 房屋使用年代中位数 平均房间数目',\n",
       " '住户收入中位数 房屋使用年代中位数 平均卧室数目',\n",
       " '住户收入中位数 房屋使用年代中位数 街区人口',\n",
       " '住户收入中位数 房屋使用年代中位数 平均入住率',\n",
       " '住户收入中位数 房屋使用年代中位数 街区的纬度',\n",
       " '住户收入中位数 房屋使用年代中位数 街区的经度',\n",
       " '住户收入中位数 平均房间数目^2',\n",
       " '住户收入中位数 平均房间数目 平均卧室数目',\n",
       " '住户收入中位数 平均房间数目 街区人口',\n",
       " '住户收入中位数 平均房间数目 平均入住率',\n",
       " '住户收入中位数 平均房间数目 街区的纬度',\n",
       " '住户收入中位数 平均房间数目 街区的经度',\n",
       " '住户收入中位数 平均卧室数目^2',\n",
       " '住户收入中位数 平均卧室数目 街区人口',\n",
       " '住户收入中位数 平均卧室数目 平均入住率',\n",
       " '住户收入中位数 平均卧室数目 街区的纬度',\n",
       " '住户收入中位数 平均卧室数目 街区的经度',\n",
       " '住户收入中位数 街区人口^2',\n",
       " '住户收入中位数 街区人口 平均入住率',\n",
       " '住户收入中位数 街区人口 街区的纬度',\n",
       " '住户收入中位数 街区人口 街区的经度',\n",
       " '住户收入中位数 平均入住率^2',\n",
       " '住户收入中位数 平均入住率 街区的纬度',\n",
       " '住户收入中位数 平均入住率 街区的经度',\n",
       " '住户收入中位数 街区的纬度^2',\n",
       " '住户收入中位数 街区的纬度 街区的经度',\n",
       " '住户收入中位数 街区的经度^2',\n",
       " '房屋使用年代中位数^3',\n",
       " '房屋使用年代中位数^2 平均房间数目',\n",
       " '房屋使用年代中位数^2 平均卧室数目',\n",
       " '房屋使用年代中位数^2 街区人口',\n",
       " '房屋使用年代中位数^2 平均入住率',\n",
       " '房屋使用年代中位数^2 街区的纬度',\n",
       " '房屋使用年代中位数^2 街区的经度',\n",
       " '房屋使用年代中位数 平均房间数目^2',\n",
       " '房屋使用年代中位数 平均房间数目 平均卧室数目',\n",
       " '房屋使用年代中位数 平均房间数目 街区人口',\n",
       " '房屋使用年代中位数 平均房间数目 平均入住率',\n",
       " '房屋使用年代中位数 平均房间数目 街区的纬度',\n",
       " '房屋使用年代中位数 平均房间数目 街区的经度',\n",
       " '房屋使用年代中位数 平均卧室数目^2',\n",
       " '房屋使用年代中位数 平均卧室数目 街区人口',\n",
       " '房屋使用年代中位数 平均卧室数目 平均入住率',\n",
       " '房屋使用年代中位数 平均卧室数目 街区的纬度',\n",
       " '房屋使用年代中位数 平均卧室数目 街区的经度',\n",
       " '房屋使用年代中位数 街区人口^2',\n",
       " '房屋使用年代中位数 街区人口 平均入住率',\n",
       " '房屋使用年代中位数 街区人口 街区的纬度',\n",
       " '房屋使用年代中位数 街区人口 街区的经度',\n",
       " '房屋使用年代中位数 平均入住率^2',\n",
       " '房屋使用年代中位数 平均入住率 街区的纬度',\n",
       " '房屋使用年代中位数 平均入住率 街区的经度',\n",
       " '房屋使用年代中位数 街区的纬度^2',\n",
       " '房屋使用年代中位数 街区的纬度 街区的经度',\n",
       " '房屋使用年代中位数 街区的经度^2',\n",
       " '平均房间数目^3',\n",
       " '平均房间数目^2 平均卧室数目',\n",
       " '平均房间数目^2 街区人口',\n",
       " '平均房间数目^2 平均入住率',\n",
       " '平均房间数目^2 街区的纬度',\n",
       " '平均房间数目^2 街区的经度',\n",
       " '平均房间数目 平均卧室数目^2',\n",
       " '平均房间数目 平均卧室数目 街区人口',\n",
       " '平均房间数目 平均卧室数目 平均入住率',\n",
       " '平均房间数目 平均卧室数目 街区的纬度',\n",
       " '平均房间数目 平均卧室数目 街区的经度',\n",
       " '平均房间数目 街区人口^2',\n",
       " '平均房间数目 街区人口 平均入住率',\n",
       " '平均房间数目 街区人口 街区的纬度',\n",
       " '平均房间数目 街区人口 街区的经度',\n",
       " '平均房间数目 平均入住率^2',\n",
       " '平均房间数目 平均入住率 街区的纬度',\n",
       " '平均房间数目 平均入住率 街区的经度',\n",
       " '平均房间数目 街区的纬度^2',\n",
       " '平均房间数目 街区的纬度 街区的经度',\n",
       " '平均房间数目 街区的经度^2',\n",
       " '平均卧室数目^3',\n",
       " '平均卧室数目^2 街区人口',\n",
       " '平均卧室数目^2 平均入住率',\n",
       " '平均卧室数目^2 街区的纬度',\n",
       " '平均卧室数目^2 街区的经度',\n",
       " '平均卧室数目 街区人口^2',\n",
       " '平均卧室数目 街区人口 平均入住率',\n",
       " '平均卧室数目 街区人口 街区的纬度',\n",
       " '平均卧室数目 街区人口 街区的经度',\n",
       " '平均卧室数目 平均入住率^2',\n",
       " '平均卧室数目 平均入住率 街区的纬度',\n",
       " '平均卧室数目 平均入住率 街区的经度',\n",
       " '平均卧室数目 街区的纬度^2',\n",
       " '平均卧室数目 街区的纬度 街区的经度',\n",
       " '平均卧室数目 街区的经度^2',\n",
       " '街区人口^3',\n",
       " '街区人口^2 平均入住率',\n",
       " '街区人口^2 街区的纬度',\n",
       " '街区人口^2 街区的经度',\n",
       " '街区人口 平均入住率^2',\n",
       " '街区人口 平均入住率 街区的纬度',\n",
       " '街区人口 平均入住率 街区的经度',\n",
       " '街区人口 街区的纬度^2',\n",
       " '街区人口 街区的纬度 街区的经度',\n",
       " '街区人口 街区的经度^2',\n",
       " '平均入住率^3',\n",
       " '平均入住率^2 街区的纬度',\n",
       " '平均入住率^2 街区的经度',\n",
       " '平均入住率 街区的纬度^2',\n",
       " '平均入住率 街区的纬度 街区的经度',\n",
       " '平均入住率 街区的经度^2',\n",
       " '街区的纬度^3',\n",
       " '街区的纬度^2 街区的经度',\n",
       " '街区的纬度 街区的经度^2',\n",
       " '街区的经度^3',\n",
       " '住户收入中位数^4',\n",
       " '住户收入中位数^3 房屋使用年代中位数',\n",
       " '住户收入中位数^3 平均房间数目',\n",
       " '住户收入中位数^3 平均卧室数目',\n",
       " '住户收入中位数^3 街区人口',\n",
       " '住户收入中位数^3 平均入住率',\n",
       " '住户收入中位数^3 街区的纬度',\n",
       " '住户收入中位数^3 街区的经度',\n",
       " '住户收入中位数^2 房屋使用年代中位数^2',\n",
       " '住户收入中位数^2 房屋使用年代中位数 平均房间数目',\n",
       " '住户收入中位数^2 房屋使用年代中位数 平均卧室数目',\n",
       " '住户收入中位数^2 房屋使用年代中位数 街区人口',\n",
       " '住户收入中位数^2 房屋使用年代中位数 平均入住率',\n",
       " '住户收入中位数^2 房屋使用年代中位数 街区的纬度',\n",
       " '住户收入中位数^2 房屋使用年代中位数 街区的经度',\n",
       " '住户收入中位数^2 平均房间数目^2',\n",
       " '住户收入中位数^2 平均房间数目 平均卧室数目',\n",
       " '住户收入中位数^2 平均房间数目 街区人口',\n",
       " '住户收入中位数^2 平均房间数目 平均入住率',\n",
       " '住户收入中位数^2 平均房间数目 街区的纬度',\n",
       " '住户收入中位数^2 平均房间数目 街区的经度',\n",
       " '住户收入中位数^2 平均卧室数目^2',\n",
       " '住户收入中位数^2 平均卧室数目 街区人口',\n",
       " '住户收入中位数^2 平均卧室数目 平均入住率',\n",
       " '住户收入中位数^2 平均卧室数目 街区的纬度',\n",
       " '住户收入中位数^2 平均卧室数目 街区的经度',\n",
       " '住户收入中位数^2 街区人口^2',\n",
       " '住户收入中位数^2 街区人口 平均入住率',\n",
       " '住户收入中位数^2 街区人口 街区的纬度',\n",
       " '住户收入中位数^2 街区人口 街区的经度',\n",
       " '住户收入中位数^2 平均入住率^2',\n",
       " '住户收入中位数^2 平均入住率 街区的纬度',\n",
       " '住户收入中位数^2 平均入住率 街区的经度',\n",
       " '住户收入中位数^2 街区的纬度^2',\n",
       " '住户收入中位数^2 街区的纬度 街区的经度',\n",
       " '住户收入中位数^2 街区的经度^2',\n",
       " '住户收入中位数 房屋使用年代中位数^3',\n",
       " '住户收入中位数 房屋使用年代中位数^2 平均房间数目',\n",
       " '住户收入中位数 房屋使用年代中位数^2 平均卧室数目',\n",
       " '住户收入中位数 房屋使用年代中位数^2 街区人口',\n",
       " '住户收入中位数 房屋使用年代中位数^2 平均入住率',\n",
       " '住户收入中位数 房屋使用年代中位数^2 街区的纬度',\n",
       " '住户收入中位数 房屋使用年代中位数^2 街区的经度',\n",
       " '住户收入中位数 房屋使用年代中位数 平均房间数目^2',\n",
       " '住户收入中位数 房屋使用年代中位数 平均房间数目 平均卧室数目',\n",
       " '住户收入中位数 房屋使用年代中位数 平均房间数目 街区人口',\n",
       " '住户收入中位数 房屋使用年代中位数 平均房间数目 平均入住率',\n",
       " '住户收入中位数 房屋使用年代中位数 平均房间数目 街区的纬度',\n",
       " '住户收入中位数 房屋使用年代中位数 平均房间数目 街区的经度',\n",
       " '住户收入中位数 房屋使用年代中位数 平均卧室数目^2',\n",
       " '住户收入中位数 房屋使用年代中位数 平均卧室数目 街区人口',\n",
       " '住户收入中位数 房屋使用年代中位数 平均卧室数目 平均入住率',\n",
       " '住户收入中位数 房屋使用年代中位数 平均卧室数目 街区的纬度',\n",
       " '住户收入中位数 房屋使用年代中位数 平均卧室数目 街区的经度',\n",
       " '住户收入中位数 房屋使用年代中位数 街区人口^2',\n",
       " '住户收入中位数 房屋使用年代中位数 街区人口 平均入住率',\n",
       " '住户收入中位数 房屋使用年代中位数 街区人口 街区的纬度',\n",
       " '住户收入中位数 房屋使用年代中位数 街区人口 街区的经度',\n",
       " '住户收入中位数 房屋使用年代中位数 平均入住率^2',\n",
       " '住户收入中位数 房屋使用年代中位数 平均入住率 街区的纬度',\n",
       " '住户收入中位数 房屋使用年代中位数 平均入住率 街区的经度',\n",
       " '住户收入中位数 房屋使用年代中位数 街区的纬度^2',\n",
       " '住户收入中位数 房屋使用年代中位数 街区的纬度 街区的经度',\n",
       " '住户收入中位数 房屋使用年代中位数 街区的经度^2',\n",
       " '住户收入中位数 平均房间数目^3',\n",
       " '住户收入中位数 平均房间数目^2 平均卧室数目',\n",
       " '住户收入中位数 平均房间数目^2 街区人口',\n",
       " '住户收入中位数 平均房间数目^2 平均入住率',\n",
       " '住户收入中位数 平均房间数目^2 街区的纬度',\n",
       " '住户收入中位数 平均房间数目^2 街区的经度',\n",
       " '住户收入中位数 平均房间数目 平均卧室数目^2',\n",
       " '住户收入中位数 平均房间数目 平均卧室数目 街区人口',\n",
       " '住户收入中位数 平均房间数目 平均卧室数目 平均入住率',\n",
       " '住户收入中位数 平均房间数目 平均卧室数目 街区的纬度',\n",
       " '住户收入中位数 平均房间数目 平均卧室数目 街区的经度',\n",
       " '住户收入中位数 平均房间数目 街区人口^2',\n",
       " '住户收入中位数 平均房间数目 街区人口 平均入住率',\n",
       " '住户收入中位数 平均房间数目 街区人口 街区的纬度',\n",
       " '住户收入中位数 平均房间数目 街区人口 街区的经度',\n",
       " '住户收入中位数 平均房间数目 平均入住率^2',\n",
       " '住户收入中位数 平均房间数目 平均入住率 街区的纬度',\n",
       " '住户收入中位数 平均房间数目 平均入住率 街区的经度',\n",
       " '住户收入中位数 平均房间数目 街区的纬度^2',\n",
       " '住户收入中位数 平均房间数目 街区的纬度 街区的经度',\n",
       " '住户收入中位数 平均房间数目 街区的经度^2',\n",
       " '住户收入中位数 平均卧室数目^3',\n",
       " '住户收入中位数 平均卧室数目^2 街区人口',\n",
       " '住户收入中位数 平均卧室数目^2 平均入住率',\n",
       " '住户收入中位数 平均卧室数目^2 街区的纬度',\n",
       " '住户收入中位数 平均卧室数目^2 街区的经度',\n",
       " '住户收入中位数 平均卧室数目 街区人口^2',\n",
       " '住户收入中位数 平均卧室数目 街区人口 平均入住率',\n",
       " '住户收入中位数 平均卧室数目 街区人口 街区的纬度',\n",
       " '住户收入中位数 平均卧室数目 街区人口 街区的经度',\n",
       " '住户收入中位数 平均卧室数目 平均入住率^2',\n",
       " '住户收入中位数 平均卧室数目 平均入住率 街区的纬度',\n",
       " '住户收入中位数 平均卧室数目 平均入住率 街区的经度',\n",
       " '住户收入中位数 平均卧室数目 街区的纬度^2',\n",
       " '住户收入中位数 平均卧室数目 街区的纬度 街区的经度',\n",
       " '住户收入中位数 平均卧室数目 街区的经度^2',\n",
       " '住户收入中位数 街区人口^3',\n",
       " '住户收入中位数 街区人口^2 平均入住率',\n",
       " '住户收入中位数 街区人口^2 街区的纬度',\n",
       " '住户收入中位数 街区人口^2 街区的经度',\n",
       " '住户收入中位数 街区人口 平均入住率^2',\n",
       " '住户收入中位数 街区人口 平均入住率 街区的纬度',\n",
       " '住户收入中位数 街区人口 平均入住率 街区的经度',\n",
       " '住户收入中位数 街区人口 街区的纬度^2',\n",
       " '住户收入中位数 街区人口 街区的纬度 街区的经度',\n",
       " '住户收入中位数 街区人口 街区的经度^2',\n",
       " '住户收入中位数 平均入住率^3',\n",
       " '住户收入中位数 平均入住率^2 街区的纬度',\n",
       " '住户收入中位数 平均入住率^2 街区的经度',\n",
       " '住户收入中位数 平均入住率 街区的纬度^2',\n",
       " '住户收入中位数 平均入住率 街区的纬度 街区的经度',\n",
       " '住户收入中位数 平均入住率 街区的经度^2',\n",
       " '住户收入中位数 街区的纬度^3',\n",
       " '住户收入中位数 街区的纬度^2 街区的经度',\n",
       " '住户收入中位数 街区的纬度 街区的经度^2',\n",
       " '住户收入中位数 街区的经度^3',\n",
       " '房屋使用年代中位数^4',\n",
       " '房屋使用年代中位数^3 平均房间数目',\n",
       " '房屋使用年代中位数^3 平均卧室数目',\n",
       " '房屋使用年代中位数^3 街区人口',\n",
       " '房屋使用年代中位数^3 平均入住率',\n",
       " '房屋使用年代中位数^3 街区的纬度',\n",
       " '房屋使用年代中位数^3 街区的经度',\n",
       " '房屋使用年代中位数^2 平均房间数目^2',\n",
       " '房屋使用年代中位数^2 平均房间数目 平均卧室数目',\n",
       " '房屋使用年代中位数^2 平均房间数目 街区人口',\n",
       " '房屋使用年代中位数^2 平均房间数目 平均入住率',\n",
       " '房屋使用年代中位数^2 平均房间数目 街区的纬度',\n",
       " '房屋使用年代中位数^2 平均房间数目 街区的经度',\n",
       " '房屋使用年代中位数^2 平均卧室数目^2',\n",
       " '房屋使用年代中位数^2 平均卧室数目 街区人口',\n",
       " '房屋使用年代中位数^2 平均卧室数目 平均入住率',\n",
       " '房屋使用年代中位数^2 平均卧室数目 街区的纬度',\n",
       " '房屋使用年代中位数^2 平均卧室数目 街区的经度',\n",
       " '房屋使用年代中位数^2 街区人口^2',\n",
       " '房屋使用年代中位数^2 街区人口 平均入住率',\n",
       " '房屋使用年代中位数^2 街区人口 街区的纬度',\n",
       " '房屋使用年代中位数^2 街区人口 街区的经度',\n",
       " '房屋使用年代中位数^2 平均入住率^2',\n",
       " '房屋使用年代中位数^2 平均入住率 街区的纬度',\n",
       " '房屋使用年代中位数^2 平均入住率 街区的经度',\n",
       " '房屋使用年代中位数^2 街区的纬度^2',\n",
       " '房屋使用年代中位数^2 街区的纬度 街区的经度',\n",
       " '房屋使用年代中位数^2 街区的经度^2',\n",
       " '房屋使用年代中位数 平均房间数目^3',\n",
       " '房屋使用年代中位数 平均房间数目^2 平均卧室数目',\n",
       " '房屋使用年代中位数 平均房间数目^2 街区人口',\n",
       " '房屋使用年代中位数 平均房间数目^2 平均入住率',\n",
       " '房屋使用年代中位数 平均房间数目^2 街区的纬度',\n",
       " '房屋使用年代中位数 平均房间数目^2 街区的经度',\n",
       " '房屋使用年代中位数 平均房间数目 平均卧室数目^2',\n",
       " '房屋使用年代中位数 平均房间数目 平均卧室数目 街区人口',\n",
       " '房屋使用年代中位数 平均房间数目 平均卧室数目 平均入住率',\n",
       " '房屋使用年代中位数 平均房间数目 平均卧室数目 街区的纬度',\n",
       " '房屋使用年代中位数 平均房间数目 平均卧室数目 街区的经度',\n",
       " '房屋使用年代中位数 平均房间数目 街区人口^2',\n",
       " '房屋使用年代中位数 平均房间数目 街区人口 平均入住率',\n",
       " '房屋使用年代中位数 平均房间数目 街区人口 街区的纬度',\n",
       " '房屋使用年代中位数 平均房间数目 街区人口 街区的经度',\n",
       " '房屋使用年代中位数 平均房间数目 平均入住率^2',\n",
       " '房屋使用年代中位数 平均房间数目 平均入住率 街区的纬度',\n",
       " '房屋使用年代中位数 平均房间数目 平均入住率 街区的经度',\n",
       " '房屋使用年代中位数 平均房间数目 街区的纬度^2',\n",
       " '房屋使用年代中位数 平均房间数目 街区的纬度 街区的经度',\n",
       " '房屋使用年代中位数 平均房间数目 街区的经度^2',\n",
       " '房屋使用年代中位数 平均卧室数目^3',\n",
       " '房屋使用年代中位数 平均卧室数目^2 街区人口',\n",
       " '房屋使用年代中位数 平均卧室数目^2 平均入住率',\n",
       " '房屋使用年代中位数 平均卧室数目^2 街区的纬度',\n",
       " '房屋使用年代中位数 平均卧室数目^2 街区的经度',\n",
       " '房屋使用年代中位数 平均卧室数目 街区人口^2',\n",
       " '房屋使用年代中位数 平均卧室数目 街区人口 平均入住率',\n",
       " '房屋使用年代中位数 平均卧室数目 街区人口 街区的纬度',\n",
       " '房屋使用年代中位数 平均卧室数目 街区人口 街区的经度',\n",
       " '房屋使用年代中位数 平均卧室数目 平均入住率^2',\n",
       " '房屋使用年代中位数 平均卧室数目 平均入住率 街区的纬度',\n",
       " '房屋使用年代中位数 平均卧室数目 平均入住率 街区的经度',\n",
       " '房屋使用年代中位数 平均卧室数目 街区的纬度^2',\n",
       " '房屋使用年代中位数 平均卧室数目 街区的纬度 街区的经度',\n",
       " '房屋使用年代中位数 平均卧室数目 街区的经度^2',\n",
       " '房屋使用年代中位数 街区人口^3',\n",
       " '房屋使用年代中位数 街区人口^2 平均入住率',\n",
       " '房屋使用年代中位数 街区人口^2 街区的纬度',\n",
       " '房屋使用年代中位数 街区人口^2 街区的经度',\n",
       " '房屋使用年代中位数 街区人口 平均入住率^2',\n",
       " '房屋使用年代中位数 街区人口 平均入住率 街区的纬度',\n",
       " '房屋使用年代中位数 街区人口 平均入住率 街区的经度',\n",
       " '房屋使用年代中位数 街区人口 街区的纬度^2',\n",
       " '房屋使用年代中位数 街区人口 街区的纬度 街区的经度',\n",
       " '房屋使用年代中位数 街区人口 街区的经度^2',\n",
       " '房屋使用年代中位数 平均入住率^3',\n",
       " '房屋使用年代中位数 平均入住率^2 街区的纬度',\n",
       " '房屋使用年代中位数 平均入住率^2 街区的经度',\n",
       " '房屋使用年代中位数 平均入住率 街区的纬度^2',\n",
       " '房屋使用年代中位数 平均入住率 街区的纬度 街区的经度',\n",
       " '房屋使用年代中位数 平均入住率 街区的经度^2',\n",
       " '房屋使用年代中位数 街区的纬度^3',\n",
       " '房屋使用年代中位数 街区的纬度^2 街区的经度',\n",
       " '房屋使用年代中位数 街区的纬度 街区的经度^2',\n",
       " '房屋使用年代中位数 街区的经度^3',\n",
       " '平均房间数目^4',\n",
       " '平均房间数目^3 平均卧室数目',\n",
       " '平均房间数目^3 街区人口',\n",
       " '平均房间数目^3 平均入住率',\n",
       " '平均房间数目^3 街区的纬度',\n",
       " '平均房间数目^3 街区的经度',\n",
       " '平均房间数目^2 平均卧室数目^2',\n",
       " '平均房间数目^2 平均卧室数目 街区人口',\n",
       " '平均房间数目^2 平均卧室数目 平均入住率',\n",
       " '平均房间数目^2 平均卧室数目 街区的纬度',\n",
       " '平均房间数目^2 平均卧室数目 街区的经度',\n",
       " '平均房间数目^2 街区人口^2',\n",
       " '平均房间数目^2 街区人口 平均入住率',\n",
       " '平均房间数目^2 街区人口 街区的纬度',\n",
       " '平均房间数目^2 街区人口 街区的经度',\n",
       " '平均房间数目^2 平均入住率^2',\n",
       " '平均房间数目^2 平均入住率 街区的纬度',\n",
       " '平均房间数目^2 平均入住率 街区的经度',\n",
       " '平均房间数目^2 街区的纬度^2',\n",
       " '平均房间数目^2 街区的纬度 街区的经度',\n",
       " '平均房间数目^2 街区的经度^2',\n",
       " '平均房间数目 平均卧室数目^3',\n",
       " '平均房间数目 平均卧室数目^2 街区人口',\n",
       " '平均房间数目 平均卧室数目^2 平均入住率',\n",
       " '平均房间数目 平均卧室数目^2 街区的纬度',\n",
       " '平均房间数目 平均卧室数目^2 街区的经度',\n",
       " '平均房间数目 平均卧室数目 街区人口^2',\n",
       " '平均房间数目 平均卧室数目 街区人口 平均入住率',\n",
       " '平均房间数目 平均卧室数目 街区人口 街区的纬度',\n",
       " '平均房间数目 平均卧室数目 街区人口 街区的经度',\n",
       " '平均房间数目 平均卧室数目 平均入住率^2',\n",
       " '平均房间数目 平均卧室数目 平均入住率 街区的纬度',\n",
       " '平均房间数目 平均卧室数目 平均入住率 街区的经度',\n",
       " '平均房间数目 平均卧室数目 街区的纬度^2',\n",
       " '平均房间数目 平均卧室数目 街区的纬度 街区的经度',\n",
       " '平均房间数目 平均卧室数目 街区的经度^2',\n",
       " '平均房间数目 街区人口^3',\n",
       " '平均房间数目 街区人口^2 平均入住率',\n",
       " '平均房间数目 街区人口^2 街区的纬度',\n",
       " '平均房间数目 街区人口^2 街区的经度',\n",
       " '平均房间数目 街区人口 平均入住率^2',\n",
       " '平均房间数目 街区人口 平均入住率 街区的纬度',\n",
       " '平均房间数目 街区人口 平均入住率 街区的经度',\n",
       " '平均房间数目 街区人口 街区的纬度^2',\n",
       " '平均房间数目 街区人口 街区的纬度 街区的经度',\n",
       " '平均房间数目 街区人口 街区的经度^2',\n",
       " '平均房间数目 平均入住率^3',\n",
       " '平均房间数目 平均入住率^2 街区的纬度',\n",
       " '平均房间数目 平均入住率^2 街区的经度',\n",
       " '平均房间数目 平均入住率 街区的纬度^2',\n",
       " '平均房间数目 平均入住率 街区的纬度 街区的经度',\n",
       " '平均房间数目 平均入住率 街区的经度^2',\n",
       " '平均房间数目 街区的纬度^3',\n",
       " '平均房间数目 街区的纬度^2 街区的经度',\n",
       " '平均房间数目 街区的纬度 街区的经度^2',\n",
       " '平均房间数目 街区的经度^3',\n",
       " '平均卧室数目^4',\n",
       " '平均卧室数目^3 街区人口',\n",
       " '平均卧室数目^3 平均入住率',\n",
       " '平均卧室数目^3 街区的纬度',\n",
       " '平均卧室数目^3 街区的经度',\n",
       " '平均卧室数目^2 街区人口^2',\n",
       " '平均卧室数目^2 街区人口 平均入住率',\n",
       " '平均卧室数目^2 街区人口 街区的纬度',\n",
       " '平均卧室数目^2 街区人口 街区的经度',\n",
       " '平均卧室数目^2 平均入住率^2',\n",
       " '平均卧室数目^2 平均入住率 街区的纬度',\n",
       " '平均卧室数目^2 平均入住率 街区的经度',\n",
       " '平均卧室数目^2 街区的纬度^2',\n",
       " '平均卧室数目^2 街区的纬度 街区的经度',\n",
       " '平均卧室数目^2 街区的经度^2',\n",
       " '平均卧室数目 街区人口^3',\n",
       " '平均卧室数目 街区人口^2 平均入住率',\n",
       " '平均卧室数目 街区人口^2 街区的纬度',\n",
       " '平均卧室数目 街区人口^2 街区的经度',\n",
       " '平均卧室数目 街区人口 平均入住率^2',\n",
       " '平均卧室数目 街区人口 平均入住率 街区的纬度',\n",
       " '平均卧室数目 街区人口 平均入住率 街区的经度',\n",
       " '平均卧室数目 街区人口 街区的纬度^2',\n",
       " '平均卧室数目 街区人口 街区的纬度 街区的经度',\n",
       " '平均卧室数目 街区人口 街区的经度^2',\n",
       " '平均卧室数目 平均入住率^3',\n",
       " '平均卧室数目 平均入住率^2 街区的纬度',\n",
       " '平均卧室数目 平均入住率^2 街区的经度',\n",
       " '平均卧室数目 平均入住率 街区的纬度^2',\n",
       " '平均卧室数目 平均入住率 街区的纬度 街区的经度',\n",
       " '平均卧室数目 平均入住率 街区的经度^2',\n",
       " '平均卧室数目 街区的纬度^3',\n",
       " '平均卧室数目 街区的纬度^2 街区的经度',\n",
       " '平均卧室数目 街区的纬度 街区的经度^2',\n",
       " '平均卧室数目 街区的经度^3',\n",
       " '街区人口^4',\n",
       " '街区人口^3 平均入住率',\n",
       " '街区人口^3 街区的纬度',\n",
       " '街区人口^3 街区的经度',\n",
       " '街区人口^2 平均入住率^2',\n",
       " '街区人口^2 平均入住率 街区的纬度',\n",
       " '街区人口^2 平均入住率 街区的经度',\n",
       " '街区人口^2 街区的纬度^2',\n",
       " '街区人口^2 街区的纬度 街区的经度',\n",
       " '街区人口^2 街区的经度^2',\n",
       " '街区人口 平均入住率^3',\n",
       " '街区人口 平均入住率^2 街区的纬度',\n",
       " '街区人口 平均入住率^2 街区的经度',\n",
       " '街区人口 平均入住率 街区的纬度^2',\n",
       " '街区人口 平均入住率 街区的纬度 街区的经度',\n",
       " '街区人口 平均入住率 街区的经度^2',\n",
       " '街区人口 街区的纬度^3',\n",
       " '街区人口 街区的纬度^2 街区的经度',\n",
       " '街区人口 街区的纬度 街区的经度^2',\n",
       " '街区人口 街区的经度^3',\n",
       " '平均入住率^4',\n",
       " '平均入住率^3 街区的纬度',\n",
       " '平均入住率^3 街区的经度',\n",
       " '平均入住率^2 街区的纬度^2',\n",
       " '平均入住率^2 街区的纬度 街区的经度',\n",
       " '平均入住率^2 街区的经度^2',\n",
       " '平均入住率 街区的纬度^3',\n",
       " '平均入住率 街区的纬度^2 街区的经度',\n",
       " '平均入住率 街区的纬度 街区的经度^2',\n",
       " '平均入住率 街区的经度^3',\n",
       " '街区的纬度^4',\n",
       " '街区的纬度^3 街区的经度',\n",
       " '街区的纬度^2 街区的经度^2',\n",
       " '街区的纬度 街区的经度^3',\n",
       " '街区的经度^4']"
      ]
     },
     "execution_count": 64,
     "metadata": {},
     "output_type": "execute_result"
    }
   ],
   "source": [
    "poly.get_feature_names(X.columns)"
   ]
  },
  {
   "cell_type": "code",
   "execution_count": 65,
   "metadata": {},
   "outputs": [],
   "source": [
    "X_ = poly.transform(X)"
   ]
  },
  {
   "cell_type": "code",
   "execution_count": 66,
   "metadata": {},
   "outputs": [],
   "source": [
    "#在这之后，我们依然可以直接建立模型，然后使用线性回归的coef_属性来查看什么特征对标签的影响最大\n",
    "reg = LinearRegression().fit(X_,y)"
   ]
  },
  {
   "cell_type": "code",
   "execution_count": 67,
   "metadata": {},
   "outputs": [],
   "source": [
    "coef = reg.coef_"
   ]
  },
  {
   "cell_type": "code",
   "execution_count": 68,
   "metadata": {},
   "outputs": [
    {
     "data": {
      "text/plain": [
       "array([ 3.10141126e-04,  2.84861979e-05, -3.87171882e-07, -3.77387615e-07,\n",
       "       -1.39381989e-07, -5.22192661e-05, -1.12469899e-07,  5.69280203e-07,\n",
       "        6.18096527e-08, -8.79866358e-06, -1.16331099e-05, -1.94421722e-05,\n",
       "       -2.23698726e-06, -2.19503977e-05,  2.19003826e-06, -3.70989182e-07,\n",
       "        8.88743183e-06, -1.29784367e-05,  8.43093526e-06, -7.14722066e-06,\n",
       "       -7.61092195e-04,  3.53293136e-05,  9.55678153e-06,  3.78328231e-05,\n",
       "       -1.21845983e-05,  3.14882233e-06, -1.44568625e-04, -5.13644701e-06,\n",
       "       -8.07546736e-07,  3.18532884e-06,  1.83212718e-06, -3.87411490e-05,\n",
       "       -9.87494304e-07, -1.79731186e-06,  1.05847805e-05,  2.43510514e-05,\n",
       "       -4.56381684e-05, -7.07556882e-04,  2.08583028e-03, -7.80493636e-06,\n",
       "       -8.21476780e-07, -5.44618403e-06, -4.47816191e-06, -2.41194547e-05,\n",
       "       -5.16875648e-06, -7.58632718e-05, -1.68242730e-04, -9.46211263e-05,\n",
       "       -1.12752628e-05,  6.27997112e-04,  3.35938714e-05, -1.77389578e-04,\n",
       "        5.36354810e-04, -4.47979803e-04, -2.14419352e-04, -2.33604264e-05,\n",
       "        1.20471226e-04,  5.90237946e-05, -9.38554918e-05,  6.00569940e-04,\n",
       "       -1.88000256e-04, -1.87465553e-05, -7.12839123e-04, -1.81396179e-05,\n",
       "       -3.33336591e-04,  1.15192278e-03, -1.45607891e-05, -8.43277185e-05,\n",
       "        2.63787889e-07, -3.82654735e-05,  1.29089550e-04,  7.59765999e-07,\n",
       "        1.38834499e-03, -9.58014947e-04, -1.96954011e-04,  2.18462264e-05,\n",
       "        4.24765783e-05, -1.32732741e-04,  5.46640390e-06, -1.60529362e-05,\n",
       "       -3.79456321e-04, -6.24559691e-04,  3.13077546e-04, -2.16273183e-04,\n",
       "        2.04851836e-05,  1.00720556e-03,  8.01996560e-04, -1.01830632e-04,\n",
       "       -9.58678566e-05, -3.24847352e-05, -7.37259056e-05,  2.24162554e-05,\n",
       "        1.87741691e-04, -6.08612783e-04, -1.28204863e-05,  1.14381670e-03,\n",
       "       -4.57827469e-06, -1.28072137e-04,  4.11721112e-04,  7.72103722e-08,\n",
       "       -8.65870347e-05, -1.86445874e-04, -5.14636706e-05,  1.28643935e-05,\n",
       "        6.45264115e-04, -2.14153970e-03,  2.81621365e-04, -9.67212388e-04,\n",
       "       -5.04019004e-04,  6.38861062e-04,  2.20493671e-04,  8.60209387e-05,\n",
       "       -6.95231511e-05, -1.96410480e-04,  7.23849303e-04,  6.66541246e-05,\n",
       "        7.12694045e-05, -7.70872716e-06,  6.43053110e-05, -1.87835920e-04,\n",
       "       -1.37124898e-06, -6.05009881e-04,  1.09507856e-03,  2.37396522e-04,\n",
       "       -3.79473746e-05, -9.70580459e-05,  3.03261968e-04,  1.79539740e-05,\n",
       "       -3.37144569e-05,  8.47774370e-05,  8.08683645e-06,  6.91258023e-05,\n",
       "        2.15065847e-05,  2.81384504e-05, -1.11160259e-04,  1.29701597e-05,\n",
       "       -1.75867401e-04,  2.13291409e-04,  4.92078577e-04, -1.21063909e-05,\n",
       "       -2.40849571e-05,  5.82953648e-05, -1.04575251e-05,  8.94230149e-05,\n",
       "       -5.73523167e-04,  9.16185435e-11,  1.82723054e-06, -4.47423986e-08,\n",
       "        5.34723034e-07, -3.27906412e-05, -1.60567998e-03, -3.89675914e-04,\n",
       "        1.59071998e-03,  9.58563408e-04,  1.88137058e-04, -1.02544003e-04,\n",
       "       -1.40078905e-04,  4.57993316e-04, -9.87526717e-05,  7.91808282e-05,\n",
       "        2.50177249e-04, -4.54149884e-04,  4.10999947e-04,  1.16209648e-03,\n",
       "        4.15993775e-04,  3.72425383e-04,  1.25969760e-04, -1.19750814e-03,\n",
       "        2.86686259e-03, -4.86373943e-07, -7.53578627e-05,  6.54447081e-04,\n",
       "        2.93151023e-04, -8.83613907e-06, -3.35964412e-05, -1.03803557e-03,\n",
       "       -7.79143718e-07, -4.80517189e-05,  1.09229273e-04,  4.45110401e-05,\n",
       "        2.07624824e-04, -6.80893321e-04,  3.58825967e-06,  2.09954550e-03,\n",
       "       -7.48166770e-04, -4.16025433e-04, -7.43962938e-04, -6.30699043e-05,\n",
       "        3.59870794e-04, -7.07947543e-04,  2.88243290e-04,  3.19329991e-09,\n",
       "        8.17765604e-06,  1.24277494e-05,  8.75751107e-06, -1.85660556e-03,\n",
       "       -1.82333415e-03, -6.68179249e-04,  6.25490246e-04,  4.95291691e-04,\n",
       "        1.03254427e-04,  6.28625250e-06,  3.96059125e-05,  1.12730388e-04,\n",
       "        4.23802129e-08,  6.47640682e-05,  5.05608528e-07,  5.90240572e-06,\n",
       "       -3.15032718e-04,  1.18777564e-03,  2.56137437e-06,  1.10702462e-03,\n",
       "        5.01547858e-04,  1.58492492e-04,  4.47418472e-04, -1.72804497e-05,\n",
       "       -8.77704398e-04, -4.94926336e-04, -7.32427881e-05, -4.34108325e-10,\n",
       "       -2.79721103e-06,  5.32300489e-07,  9.99128052e-07,  4.12993290e-04,\n",
       "       -1.65044958e-04,  6.16876185e-05, -6.81878750e-04, -3.58908107e-04,\n",
       "       -3.55558320e-05,  2.11183854e-04, -4.03906801e-04, -7.33263008e-06,\n",
       "       -5.34935379e-04,  2.06126142e-04,  1.85794781e-04, -2.68591828e-04,\n",
       "        8.00689020e-05, -1.45788896e-04,  5.29525813e-04, -5.99077363e-04,\n",
       "       -7.54337440e-09, -1.57080219e-05, -1.59589084e-05, -1.08491117e-05,\n",
       "       -2.06883973e-03, -7.98707451e-04,  1.40902153e-04, -1.08079257e-03,\n",
       "       -6.87744004e-04, -9.74716839e-05, -1.63071082e-04, -3.47079629e-04,\n",
       "        6.83453952e-05, -1.74878280e-04,  1.31809470e-03,  4.76001760e-09,\n",
       "        2.01825632e-04,  1.87483440e-05, -4.46437538e-07,  1.42755318e-04,\n",
       "       -1.62674553e-05, -2.66509419e-04, -5.71819039e-04,  4.04501594e-04,\n",
       "        2.11006721e-04,  2.30131520e-12,  1.27061642e-09,  1.17469299e-08,\n",
       "        1.00962437e-08,  7.55930157e-06,  2.57822771e-05,  2.11992718e-05,\n",
       "        5.95052782e-06, -2.68661501e-06, -6.03250360e-07,  8.61215776e-05,\n",
       "       -1.07734359e-03, -5.40407229e-04, -1.26196264e-05, -3.43890651e-04,\n",
       "       -1.00001330e-04,  9.78847145e-04,  8.14040869e-04,  2.34996865e-04,\n",
       "        2.12230688e-05,  6.23908992e-07, -2.21924974e-06, -4.07301333e-05,\n",
       "        1.13324674e-08, -3.73955826e-07, -9.97973140e-06, -7.83631237e-06,\n",
       "        1.41322612e-05, -2.73774431e-04,  1.44003706e-07,  1.67653107e-05,\n",
       "       -5.34630127e-05, -1.39646779e-05,  9.41113093e-04, -3.00825522e-06,\n",
       "        1.19744481e-04,  3.96271876e-04,  8.73475533e-05,  2.27354592e-11,\n",
       "       -1.22901688e-08,  1.02057022e-07,  1.89190211e-07,  1.73394299e-05,\n",
       "        5.23923482e-05,  2.73623896e-05, -5.06866297e-05, -2.90811020e-05,\n",
       "       -6.88222132e-06,  1.45843340e-04, -1.20909650e-03, -1.41552214e-06,\n",
       "        1.57539203e-04, -2.84049212e-04, -7.89676934e-05,  2.48571326e-03,\n",
       "        6.70070285e-06, -7.41466601e-04,  1.44654104e-03,  2.91469503e-04,\n",
       "        1.15185130e-09,  6.53998390e-06, -8.62543847e-07, -5.79573519e-07,\n",
       "       -1.37622156e-04,  1.21226120e-03,  4.23467437e-04,  4.73838154e-04,\n",
       "        2.72895964e-04,  3.45263198e-05,  1.21123942e-03, -1.44458267e-05,\n",
       "        5.21483813e-04,  1.42497140e-04,  6.44846462e-04, -1.63998807e-08,\n",
       "       -2.59140223e-05,  2.45719351e-05,  1.42354135e-05,  4.15311527e-03,\n",
       "        1.04782110e-04,  1.77972457e-04,  7.68848873e-04,  8.44276803e-04,\n",
       "        1.85433337e-04, -3.12588361e-14,  4.45246698e-11, -3.14558954e-10,\n",
       "        4.55353932e-10, -2.34316849e-09, -2.57635956e-06, -1.54407102e-06,\n",
       "       -3.38590606e-06, -3.44867071e-06, -6.50861107e-07, -1.36469224e-04,\n",
       "       -3.96226121e-04, -9.41614178e-05, -1.16803149e-03, -7.01464068e-04,\n",
       "       -1.20720438e-04,  1.82502934e-04,  9.97335791e-05,  6.84883017e-07,\n",
       "       -5.30025715e-06, -1.04803081e-05,  1.07841095e-04,  1.56915038e-06,\n",
       "        8.43377185e-04,  1.34618953e-04,  8.56681449e-05, -2.04251543e-04,\n",
       "       -2.78123926e-05, -3.76058444e-03, -1.00096274e-03, -4.35120483e-04,\n",
       "        7.71977876e-09,  3.52605873e-05,  4.75145162e-06,  2.95145161e-06,\n",
       "       -7.45390001e-04,  9.06897143e-04,  2.97062134e-04,  8.36448580e-05,\n",
       "        9.76954165e-05,  3.95071347e-05, -3.52791235e-04,  1.77793608e-04,\n",
       "       -1.33716620e-03, -3.48343930e-04, -5.42264738e-04, -1.10673009e-07,\n",
       "       -3.53375030e-04, -9.18370610e-05, -3.49914939e-05,  2.09213940e-04,\n",
       "       -1.52498250e-04,  2.44479887e-04,  6.20930411e-04, -1.15219338e-04,\n",
       "       -1.65901866e-04, -3.79160328e-12, -3.46220778e-10, -2.79538434e-08,\n",
       "       -2.06406329e-08, -1.09660359e-05, -2.78080192e-05, -1.37992793e-05,\n",
       "       -1.44930697e-05, -2.64996979e-06, -2.39434053e-07,  9.02368241e-04,\n",
       "        7.16178320e-04,  2.34114335e-04, -6.27965845e-04,  6.64965276e-06,\n",
       "        8.51460501e-05, -2.57193171e-03, -2.44965054e-03, -7.79976073e-04,\n",
       "       -8.16986373e-05, -2.25429566e-04, -3.59290555e-04, -3.66100707e-04,\n",
       "       -5.38340252e-04,  1.08964743e-03,  4.02111430e-07,  1.21070210e-03,\n",
       "        3.99983759e-04,  1.44871333e-04,  3.90861618e-05,  6.92689560e-04,\n",
       "       -2.54994328e-03, -3.86683885e-04,  8.08284042e-04,  3.95782435e-04,\n",
       "        3.89610229e-11,  1.51770206e-07,  2.52764105e-07,  1.93036568e-07,\n",
       "        5.65378241e-05,  2.77269040e-04,  9.60944290e-05,  5.58748977e-05,\n",
       "        5.73329901e-05,  1.58197564e-05, -2.02028752e-03,  1.49040359e-04,\n",
       "        2.16153155e-04, -4.42610038e-04,  6.30495526e-04,  1.87372391e-04,\n",
       "       -4.73221377e-04,  3.24349679e-05,  2.41197555e-04,  5.12692695e-05,\n",
       "        2.30728387e-16,  8.88156502e-13,  1.66437732e-12,  1.58293712e-12,\n",
       "       -7.93981593e-09,  2.37851127e-08,  2.33008367e-08, -1.26396519e-09,\n",
       "        9.53323682e-10,  3.32993620e-09,  6.70916992e-07, -5.27596623e-06,\n",
       "       -1.78423296e-06,  4.27192522e-06, -8.42030465e-06, -2.06039878e-06,\n",
       "        1.37057165e-05,  2.56341421e-05,  1.18884962e-05,  1.83518726e-06,\n",
       "        1.63352580e-06,  5.09402307e-04,  1.85712161e-04,  2.14985903e-04,\n",
       "        2.48377241e-05, -2.25096230e-06,  5.70659571e-04,  1.77316234e-04,\n",
       "       -3.64744963e-05, -8.92724191e-06, -8.70808655e-03, -1.07631821e-02,\n",
       "       -4.98362193e-03, -1.01726060e-03, -7.59718515e-05])"
      ]
     },
     "execution_count": 68,
     "metadata": {},
     "output_type": "execute_result"
    }
   ],
   "source": [
    "coef"
   ]
  },
  {
   "cell_type": "code",
   "execution_count": 69,
   "metadata": {
    "scrolled": true
   },
   "outputs": [
    {
     "data": {
      "text/plain": [
       "[('1', 0.0003101411261023164),\n",
       " ('住户收入中位数', 2.848619790132302e-05),\n",
       " ('房屋使用年代中位数', -3.871718819295199e-07),\n",
       " ('平均房间数目', -3.7738761457344003e-07),\n",
       " ('平均卧室数目', -1.3938198867590691e-07),\n",
       " ('街区人口', -5.2219266133834936e-05),\n",
       " ('平均入住率', -1.1246989894800687e-07),\n",
       " ('街区的纬度', 5.692802028728468e-07),\n",
       " ('街区的经度', 6.180965268852021e-08),\n",
       " ('住户收入中位数^2', -8.798663579336324e-06),\n",
       " ('住户收入中位数 房屋使用年代中位数', -1.1633109917282499e-05),\n",
       " ('住户收入中位数 平均房间数目', -1.944217221899777e-05),\n",
       " ('住户收入中位数 平均卧室数目', -2.236987263410387e-06),\n",
       " ('住户收入中位数 街区人口', -2.1950397678563855e-05),\n",
       " ('住户收入中位数 平均入住率', 2.1900382642961453e-06),\n",
       " ('住户收入中位数 街区的纬度', -3.7098918153597334e-07),\n",
       " ('住户收入中位数 街区的经度', 8.887431826113753e-06),\n",
       " ('房屋使用年代中位数^2', -1.2978436684751083e-05),\n",
       " ('房屋使用年代中位数 平均房间数目', 8.430935255113745e-06),\n",
       " ('房屋使用年代中位数 平均卧室数目', -7.147220663248362e-06),\n",
       " ('房屋使用年代中位数 街区人口', -0.0007610921949860182),\n",
       " ('房屋使用年代中位数 平均入住率', 3.5329313583334904e-05),\n",
       " ('房屋使用年代中位数 街区的纬度', 9.556781531086525e-06),\n",
       " ('房屋使用年代中位数 街区的经度', 3.7832823051465516e-05),\n",
       " ('平均房间数目^2', -1.2184598334364257e-05),\n",
       " ('平均房间数目 平均卧室数目', 3.1488223308043418e-06),\n",
       " ('平均房间数目 街区人口', -0.00014456862466686072),\n",
       " ('平均房间数目 平均入住率', -5.13644700888478e-06),\n",
       " ('平均房间数目 街区的纬度', -8.075467360908546e-07),\n",
       " ('平均房间数目 街区的经度', 3.1853288368876133e-06),\n",
       " ('平均卧室数目^2', 1.832127183672615e-06),\n",
       " ('平均卧室数目 街区人口', -3.874114896897155e-05),\n",
       " ('平均卧室数目 平均入住率', -9.874943040376415e-07),\n",
       " ('平均卧室数目 街区的纬度', -1.7973118593674667e-06),\n",
       " ('平均卧室数目 街区的经度', 1.0584780529628407e-05),\n",
       " ('街区人口^2', 2.4351051354817996e-05),\n",
       " ('街区人口 平均入住率', -4.5638168419980164e-05),\n",
       " ('街区人口 街区的纬度', -0.0007075568823583602),\n",
       " ('街区人口 街区的经度', 0.0020858302761063647),\n",
       " ('平均入住率^2', -7.804936358973234e-06),\n",
       " ('平均入住率 街区的纬度', -8.214767801007895e-07),\n",
       " ('平均入住率 街区的经度', -5.446184032758641e-06),\n",
       " ('街区的纬度^2', -4.478161912292662e-06),\n",
       " ('街区的纬度 街区的经度', -2.4119454731531893e-05),\n",
       " ('街区的经度^2', -5.168756482143554e-06),\n",
       " ('住户收入中位数^3', -7.586327181723863e-05),\n",
       " ('住户收入中位数^2 房屋使用年代中位数', -0.00016824272984618764),\n",
       " ('住户收入中位数^2 平均房间数目', -9.462112633935295e-05),\n",
       " ('住户收入中位数^2 平均卧室数目', -1.1275262838160702e-05),\n",
       " ('住户收入中位数^2 街区人口', 0.0006279971117362168),\n",
       " ('住户收入中位数^2 平均入住率', 3.359387140317975e-05),\n",
       " ('住户收入中位数^2 街区的纬度', -0.0001773895784169444),\n",
       " ('住户收入中位数^2 街区的经度', 0.0005363548096846772),\n",
       " ('住户收入中位数 房屋使用年代中位数^2', -0.00044797980268477774),\n",
       " ('住户收入中位数 房屋使用年代中位数 平均房间数目', -0.00021441935162991142),\n",
       " ('住户收入中位数 房屋使用年代中位数 平均卧室数目', -2.3360426363333463e-05),\n",
       " ('住户收入中位数 房屋使用年代中位数 街区人口', 0.0001204712255611229),\n",
       " ('住户收入中位数 房屋使用年代中位数 平均入住率', 5.902379463529311e-05),\n",
       " ('住户收入中位数 房屋使用年代中位数 街区的纬度', -9.385549182061787e-05),\n",
       " ('住户收入中位数 房屋使用年代中位数 街区的经度', 0.000600569939836034),\n",
       " ('住户收入中位数 平均房间数目^2', -0.0001880002555039399),\n",
       " ('住户收入中位数 平均房间数目 平均卧室数目', -1.8746555262053916e-05),\n",
       " ('住户收入中位数 平均房间数目 街区人口', -0.0007128391227262618),\n",
       " ('住户收入中位数 平均房间数目 平均入住率', -1.813961793724346e-05),\n",
       " ('住户收入中位数 平均房间数目 街区的纬度', -0.0003333365913380588),\n",
       " ('住户收入中位数 平均房间数目 街区的经度', 0.0011519227823783619),\n",
       " ('住户收入中位数 平均卧室数目^2', -1.4560789100605979e-05),\n",
       " ('住户收入中位数 平均卧室数目 街区人口', -8.432771848777785e-05),\n",
       " ('住户收入中位数 平均卧室数目 平均入住率', 2.637878892757537e-07),\n",
       " ('住户收入中位数 平均卧室数目 街区的纬度', -3.8265473539817635e-05),\n",
       " ('住户收入中位数 平均卧室数目 街区的经度', 0.00012908955015353133),\n",
       " ('住户收入中位数 街区人口^2', 7.597659987534329e-07),\n",
       " ('住户收入中位数 街区人口 平均入住率', 0.001388344994470423),\n",
       " ('住户收入中位数 街区人口 街区的纬度', -0.0009580149467227292),\n",
       " ('住户收入中位数 街区人口 街区的经度', -0.0001969540109994219),\n",
       " ('住户收入中位数 平均入住率^2', 2.1846226435661014e-05),\n",
       " ('住户收入中位数 平均入住率 街区的纬度', 4.2476578263907005e-05),\n",
       " ('住户收入中位数 平均入住率 街区的经度', -0.0001327327412435694),\n",
       " ('住户收入中位数 街区的纬度^2', 5.466403898090111e-06),\n",
       " ('住户收入中位数 街区的纬度 街区的经度', -1.605293617637163e-05),\n",
       " ('住户收入中位数 街区的经度^2', -0.000379456321396836),\n",
       " ('房屋使用年代中位数^3', -0.0006245596905666395),\n",
       " ('房屋使用年代中位数^2 平均房间数目', 0.0003130775459246319),\n",
       " ('房屋使用年代中位数^2 平均卧室数目', -0.00021627318297952957),\n",
       " ('房屋使用年代中位数^2 街区人口', 2.0485183559471965e-05),\n",
       " ('房屋使用年代中位数^2 平均入住率', 0.0010072055621355728),\n",
       " ('房屋使用年代中位数^2 街区的纬度', 0.0008019965595562002),\n",
       " ('房屋使用年代中位数^2 街区的经度', -0.00010183063208643813),\n",
       " ('房屋使用年代中位数 平均房间数目^2', -9.586785659510161e-05),\n",
       " ('房屋使用年代中位数 平均房间数目 平均卧室数目', -3.2484735209271375e-05),\n",
       " ('房屋使用年代中位数 平均房间数目 街区人口', -7.372590555680331e-05),\n",
       " ('房屋使用年代中位数 平均房间数目 平均入住率', 2.2416255361102828e-05),\n",
       " ('房屋使用年代中位数 平均房间数目 街区的纬度', 0.0001877416911575271),\n",
       " ('房屋使用年代中位数 平均房间数目 街区的经度', -0.0006086127833075086),\n",
       " ('房屋使用年代中位数 平均卧室数目^2', -1.282048633156359e-05),\n",
       " ('房屋使用年代中位数 平均卧室数目 街区人口', 0.0011438166978834823),\n",
       " ('房屋使用年代中位数 平均卧室数目 平均入住率', -4.578274687575589e-06),\n",
       " ('房屋使用年代中位数 平均卧室数目 街区的纬度', -0.00012807213702032457),\n",
       " ('房屋使用年代中位数 平均卧室数目 街区的经度', 0.00041172111229298224),\n",
       " ('房屋使用年代中位数 街区人口^2', 7.72103722049318e-08),\n",
       " ('房屋使用年代中位数 街区人口 平均入住率', -8.65870347158808e-05),\n",
       " ('房屋使用年代中位数 街区人口 街区的纬度', -0.00018644587380368106),\n",
       " ('房屋使用年代中位数 街区人口 街区的经度', -5.146367055650534e-05),\n",
       " ('房屋使用年代中位数 平均入住率^2', 1.286439353253539e-05),\n",
       " ('房屋使用年代中位数 平均入住率 街区的纬度', 0.0006452641149713229),\n",
       " ('房屋使用年代中位数 平均入住率 街区的经度', -0.0021415397041600745),\n",
       " ('房屋使用年代中位数 街区的纬度^2', 0.0002816213646098884),\n",
       " ('房屋使用年代中位数 街区的纬度 街区的经度', -0.0009672123883763516),\n",
       " ('房屋使用年代中位数 街区的经度^2', -0.0005040190037129395),\n",
       " ('平均房间数目^3', 0.0006388610623805554),\n",
       " ('平均房间数目^2 平均卧室数目', 0.00022049367093892596),\n",
       " ('平均房间数目^2 街区人口', 8.602093868323212e-05),\n",
       " ('平均房间数目^2 平均入住率', -6.952315111222941e-05),\n",
       " ('平均房间数目^2 街区的纬度', -0.00019641047965575134),\n",
       " ('平均房间数目^2 街区的经度', 0.0007238493034683338),\n",
       " ('平均房间数目 平均卧室数目^2', 6.66541246071281e-05),\n",
       " ('平均房间数目 平均卧室数目 街区人口', 7.126940454691235e-05),\n",
       " ('平均房间数目 平均卧室数目 平均入住率', -7.708727159231486e-06),\n",
       " ('平均房间数目 平均卧室数目 街区的纬度', 6.430531102195135e-05),\n",
       " ('平均房间数目 平均卧室数目 街区的经度', -0.00018783591997458522),\n",
       " ('平均房间数目 街区人口^2', -1.371248978215522e-06),\n",
       " ('平均房间数目 街区人口 平均入住率', -0.0006050098805953099),\n",
       " ('平均房间数目 街区人口 街区的纬度', 0.00109507855732501),\n",
       " ('平均房间数目 街区人口 街区的经度', 0.0002373965223013866),\n",
       " ('平均房间数目 平均入住率^2', -3.794737462086443e-05),\n",
       " ('平均房间数目 平均入住率 街区的纬度', -9.705804594612872e-05),\n",
       " ('平均房间数目 平均入住率 街区的经度', 0.0003032619675040505),\n",
       " ('平均房间数目 街区的纬度^2', 1.795397395499585e-05),\n",
       " ('平均房间数目 街区的纬度 街区的经度', -3.37144569055581e-05),\n",
       " ('平均房间数目 街区的经度^2', 8.477743697670106e-05),\n",
       " ('平均卧室数目^3', 8.086836453835923e-06),\n",
       " ('平均卧室数目^2 街区人口', 6.912580225785834e-05),\n",
       " ('平均卧室数目^2 平均入住率', 2.1506584674041966e-05),\n",
       " ('平均卧室数目^2 街区的纬度', 2.8138450422285093e-05),\n",
       " ('平均卧室数目^2 街区的经度', -0.00011116025882387348),\n",
       " ('平均卧室数目 街区人口^2', 1.297015972433593e-05),\n",
       " ('平均卧室数目 街区人口 平均入住率', -0.0001758674006295162),\n",
       " ('平均卧室数目 街区人口 街区的纬度', 0.00021329140922277538),\n",
       " ('平均卧室数目 街区人口 街区的经度', 0.0004920785770256187),\n",
       " ('平均卧室数目 平均入住率^2', -1.2106390911335324e-05),\n",
       " ('平均卧室数目 平均入住率 街区的纬度', -2.4084957101411893e-05),\n",
       " ('平均卧室数目 平均入住率 街区的经度', 5.829536483296327e-05),\n",
       " ('平均卧室数目 街区的纬度^2', -1.045752507642597e-05),\n",
       " ('平均卧室数目 街区的纬度 街区的经度', 8.942301494131922e-05),\n",
       " ('平均卧室数目 街区的经度^2', -0.0005735231674975924),\n",
       " ('街区人口^3', 9.161854353070821e-11),\n",
       " ('街区人口^2 平均入住率', 1.8272305394369326e-06),\n",
       " ('街区人口^2 街区的纬度', -4.4742398565496446e-08),\n",
       " ('街区人口^2 街区的经度', 5.34723034356029e-07),\n",
       " ('街区人口 平均入住率^2', -3.2790641216915376e-05),\n",
       " ('街区人口 平均入住率 街区的纬度', -0.001605679977630743),\n",
       " ('街区人口 平均入住率 街区的经度', -0.00038967591379500177),\n",
       " ('街区人口 街区的纬度^2', 0.0015907199847235826),\n",
       " ('街区人口 街区的纬度 街区的经度', 0.0009585634078343705),\n",
       " ('街区人口 街区的经度^2', 0.00018813705813667197),\n",
       " ('平均入住率^3', -0.00010254400266021429),\n",
       " ('平均入住率^2 街区的纬度', -0.00014007890451171165),\n",
       " ('平均入住率^2 街区的经度', 0.00045799331605137633),\n",
       " ('平均入住率 街区的纬度^2', -9.875267165150753e-05),\n",
       " ('平均入住率 街区的纬度 街区的经度', 7.918082819460764e-05),\n",
       " ('平均入住率 街区的经度^2', 0.00025017724879453486),\n",
       " ('街区的纬度^3', -0.00045414988362181406),\n",
       " ('街区的纬度^2 街区的经度', 0.0004109999465660009),\n",
       " ('街区的纬度 街区的经度^2', 0.0011620964772609342),\n",
       " ('街区的经度^3', 0.0004159937747187134),\n",
       " ('住户收入中位数^4', 0.00037242538265064496),\n",
       " ('住户收入中位数^3 房屋使用年代中位数', 0.00012596975974562126),\n",
       " ('住户收入中位数^3 平均房间数目', -0.0011975081433671165),\n",
       " ('住户收入中位数^3 平均卧室数目', 0.0028668625894357593),\n",
       " ('住户收入中位数^3 街区人口', -4.863739429443964e-07),\n",
       " ('住户收入中位数^3 平均入住率', -7.535786269781559e-05),\n",
       " ('住户收入中位数^3 街区的纬度', 0.0006544470805205717),\n",
       " ('住户收入中位数^3 街区的经度', 0.00029315102268351865),\n",
       " ('住户收入中位数^2 房屋使用年代中位数^2', -8.836139065784599e-06),\n",
       " ('住户收入中位数^2 房屋使用年代中位数 平均房间数目', -3.3596441214346845e-05),\n",
       " ('住户收入中位数^2 房屋使用年代中位数 平均卧室数目', -0.0010380355682414746),\n",
       " ('住户收入中位数^2 房屋使用年代中位数 街区人口', -7.791437178704342e-07),\n",
       " ('住户收入中位数^2 房屋使用年代中位数 平均入住率', -4.8051718883398066e-05),\n",
       " ('住户收入中位数^2 房屋使用年代中位数 街区的纬度', 0.00010922927321735626),\n",
       " ('住户收入中位数^2 房屋使用年代中位数 街区的经度', 4.451104009170237e-05),\n",
       " ('住户收入中位数^2 平均房间数目^2', 0.0002076248235137599),\n",
       " ('住户收入中位数^2 平均房间数目 平均卧室数目', -0.0006808933212035093),\n",
       " ('住户收入中位数^2 平均房间数目 街区人口', 3.5882596747776733e-06),\n",
       " ('住户收入中位数^2 平均房间数目 平均入住率', 0.0020995454980012474),\n",
       " ('住户收入中位数^2 平均房间数目 街区的纬度', -0.0007481667695731204),\n",
       " ('住户收入中位数^2 平均房间数目 街区的经度', -0.00041602543312239),\n",
       " ('住户收入中位数^2 平均卧室数目^2', -0.0007439629376450899),\n",
       " ('住户收入中位数^2 平均卧室数目 街区人口', -6.306990431907245e-05),\n",
       " ('住户收入中位数^2 平均卧室数目 平均入住率', 0.00035987079403931556),\n",
       " ('住户收入中位数^2 平均卧室数目 街区的纬度', -0.0007079475427038232),\n",
       " ('住户收入中位数^2 平均卧室数目 街区的经度', 0.0002882432902385509),\n",
       " ('住户收入中位数^2 街区人口^2', 3.1932999064693685e-09),\n",
       " ('住户收入中位数^2 街区人口 平均入住率', 8.177656038568115e-06),\n",
       " ('住户收入中位数^2 街区人口 街区的纬度', 1.2427749448548656e-05),\n",
       " ('住户收入中位数^2 街区人口 街区的经度', 8.757511071961804e-06),\n",
       " ('住户收入中位数^2 平均入住率^2', -0.0018566055636597535),\n",
       " ('住户收入中位数^2 平均入住率 街区的纬度', -0.0018233341487232085),\n",
       " ('住户收入中位数^2 平均入住率 街区的经度', -0.0006681792486726627),\n",
       " ('住户收入中位数^2 街区的纬度^2', 0.0006254902457912599),\n",
       " ('住户收入中位数^2 街区的纬度 街区的经度', 0.0004952916912457401),\n",
       " ('住户收入中位数^2 街区的经度^2', 0.00010325442727098015),\n",
       " ('住户收入中位数 房屋使用年代中位数^3', 6.286252496646353e-06),\n",
       " ('住户收入中位数 房屋使用年代中位数^2 平均房间数目', 3.960591246124045e-05),\n",
       " ('住户收入中位数 房屋使用年代中位数^2 平均卧室数目', 0.0001127303883058835),\n",
       " ('住户收入中位数 房屋使用年代中位数^2 街区人口', 4.238021289331668e-08),\n",
       " ('住户收入中位数 房屋使用年代中位数^2 平均入住率', 6.476406817195694e-05),\n",
       " ('住户收入中位数 房屋使用年代中位数^2 街区的纬度', 5.056085284213557e-07),\n",
       " ('住户收入中位数 房屋使用年代中位数^2 街区的经度', 5.902405722676811e-06),\n",
       " ('住户收入中位数 房屋使用年代中位数 平均房间数目^2', -0.0003150327175456644),\n",
       " ('住户收入中位数 房屋使用年代中位数 平均房间数目 平均卧室数目', 0.00118777564174695),\n",
       " ('住户收入中位数 房屋使用年代中位数 平均房间数目 街区人口', 2.5613743668766517e-06),\n",
       " ('住户收入中位数 房屋使用年代中位数 平均房间数目 平均入住率', 0.0011070246195679318),\n",
       " ('住户收入中位数 房屋使用年代中位数 平均房间数目 街区的纬度', 0.0005015478579073544),\n",
       " ('住户收入中位数 房屋使用年代中位数 平均房间数目 街区的经度', 0.00015849249239693823),\n",
       " ('住户收入中位数 房屋使用年代中位数 平均卧室数目^2', 0.000447418472200821),\n",
       " ('住户收入中位数 房屋使用年代中位数 平均卧室数目 街区人口', -1.7280449702184217e-05),\n",
       " ('住户收入中位数 房屋使用年代中位数 平均卧室数目 平均入住率', -0.0008777043981611911),\n",
       " ('住户收入中位数 房屋使用年代中位数 平均卧室数目 街区的纬度', -0.0004949263364452982),\n",
       " ('住户收入中位数 房屋使用年代中位数 平均卧室数目 街区的经度', -7.324278810825017e-05),\n",
       " ('住户收入中位数 房屋使用年代中位数 街区人口^2', -4.3410832462117873e-10),\n",
       " ('住户收入中位数 房屋使用年代中位数 街区人口 平均入住率', -2.7972110334043907e-06),\n",
       " ('住户收入中位数 房屋使用年代中位数 街区人口 街区的纬度', 5.323004893797169e-07),\n",
       " ('住户收入中位数 房屋使用年代中位数 街区人口 街区的经度', 9.9912805165595e-07),\n",
       " ('住户收入中位数 房屋使用年代中位数 平均入住率^2', 0.00041299328967672825),\n",
       " ('住户收入中位数 房屋使用年代中位数 平均入住率 街区的纬度', -0.00016504495793777504),\n",
       " ('住户收入中位数 房屋使用年代中位数 平均入住率 街区的经度', 6.168761845329519e-05),\n",
       " ('住户收入中位数 房屋使用年代中位数 街区的纬度^2', -0.0006818787502869555),\n",
       " ('住户收入中位数 房屋使用年代中位数 街区的纬度 街区的经度', -0.00035890810748656616),\n",
       " ('住户收入中位数 房屋使用年代中位数 街区的经度^2', -3.555583201541975e-05),\n",
       " ('住户收入中位数 平均房间数目^3', 0.00021118385435090132),\n",
       " ('住户收入中位数 平均房间数目^2 平均卧室数目', -0.00040390680064044814),\n",
       " ('住户收入中位数 平均房间数目^2 街区人口', -7.3326300794894015e-06),\n",
       " ('住户收入中位数 平均房间数目^2 平均入住率', -0.0005349353786042286),\n",
       " ('住户收入中位数 平均房间数目^2 街区的纬度', 0.00020612614236794163),\n",
       " ('住户收入中位数 平均房间数目^2 街区的经度', 0.00018579478121236712),\n",
       " ('住户收入中位数 平均房间数目 平均卧室数目^2', -0.0002685918283984174),\n",
       " ('住户收入中位数 平均房间数目 平均卧室数目 街区人口', 8.006890204388894e-05),\n",
       " ('住户收入中位数 平均房间数目 平均卧室数目 平均入住率', -0.000145788896185923),\n",
       " ('住户收入中位数 平均房间数目 平均卧室数目 街区的纬度', 0.0005295258134771683),\n",
       " ('住户收入中位数 平均房间数目 平均卧室数目 街区的经度', -0.0005990773629440539),\n",
       " ('住户收入中位数 平均房间数目 街区人口^2', -7.543374398274187e-09),\n",
       " ('住户收入中位数 平均房间数目 街区人口 平均入住率', -1.570802193408101e-05),\n",
       " ('住户收入中位数 平均房间数目 街区人口 街区的纬度', -1.5958908359152824e-05),\n",
       " ('住户收入中位数 平均房间数目 街区人口 街区的经度', -1.0849111652183754e-05),\n",
       " ('住户收入中位数 平均房间数目 平均入住率^2', -0.0020688397323053876),\n",
       " ('住户收入中位数 平均房间数目 平均入住率 街区的纬度', -0.0007987074510729403),\n",
       " ('住户收入中位数 平均房间数目 平均入住率 街区的经度', 0.00014090215294177918),\n",
       " ('住户收入中位数 平均房间数目 街区的纬度^2', -0.0010807925739851848),\n",
       " ('住户收入中位数 平均房间数目 街区的纬度 街区的经度', -0.0006877440036898683),\n",
       " ('住户收入中位数 平均房间数目 街区的经度^2', -9.747168391428415e-05),\n",
       " ('住户收入中位数 平均卧室数目^3', -0.00016307108244628332),\n",
       " ('住户收入中位数 平均卧室数目^2 街区人口', -0.00034707962949395666),\n",
       " ('住户收入中位数 平均卧室数目^2 平均入住率', 6.834539524919807e-05),\n",
       " ('住户收入中位数 平均卧室数目^2 街区的纬度', -0.00017487828044116826),\n",
       " ('住户收入中位数 平均卧室数目^2 街区的经度', 0.0013180946978503896),\n",
       " ('住户收入中位数 平均卧室数目 街区人口^2', 4.760017602327324e-09),\n",
       " ('住户收入中位数 平均卧室数目 街区人口 平均入住率', 0.00020182563161859772),\n",
       " ('住户收入中位数 平均卧室数目 街区人口 街区的纬度', 1.8748343977687816e-05),\n",
       " ('住户收入中位数 平均卧室数目 街区人口 街区的经度', -4.464375382283961e-07),\n",
       " ('住户收入中位数 平均卧室数目 平均入住率^2', 0.000142755318322278),\n",
       " ('住户收入中位数 平均卧室数目 平均入住率 街区的纬度', -1.6267455313990187e-05),\n",
       " ('住户收入中位数 平均卧室数目 平均入住率 街区的经度', -0.000266509419394965),\n",
       " ('住户收入中位数 平均卧室数目 街区的纬度^2', -0.0005718190387205102),\n",
       " ('住户收入中位数 平均卧室数目 街区的纬度 街区的经度', 0.0004045015943048357),\n",
       " ('住户收入中位数 平均卧室数目 街区的经度^2', 0.00021100672113683627),\n",
       " ('住户收入中位数 街区人口^3', 2.3013152027531844e-12),\n",
       " ('住户收入中位数 街区人口^2 平均入住率', 1.270616417664133e-09),\n",
       " ('住户收入中位数 街区人口^2 街区的纬度', 1.1746929901226975e-08),\n",
       " ('住户收入中位数 街区人口^2 街区的经度', 1.0096243723070252e-08),\n",
       " ('住户收入中位数 街区人口 平均入住率^2', 7.559301572814774e-06),\n",
       " ('住户收入中位数 街区人口 平均入住率 街区的纬度', 2.5782277074608813e-05),\n",
       " ('住户收入中位数 街区人口 平均入住率 街区的经度', 2.119927179143097e-05),\n",
       " ('住户收入中位数 街区人口 街区的纬度^2', 5.95052782267004e-06),\n",
       " ('住户收入中位数 街区人口 街区的纬度 街区的经度', -2.6866150100306756e-06),\n",
       " ('住户收入中位数 街区人口 街区的经度^2', -6.032503599987001e-07),\n",
       " ('住户收入中位数 平均入住率^3', 8.612157759217832e-05),\n",
       " ('住户收入中位数 平均入住率^2 街区的纬度', -0.0010773435864325858),\n",
       " ('住户收入中位数 平均入住率^2 街区的经度', -0.0005404072289256895),\n",
       " ('住户收入中位数 平均入住率 街区的纬度^2', -1.2619626379617956e-05),\n",
       " ('住户收入中位数 平均入住率 街区的纬度 街区的经度', -0.00034389065087571803),\n",
       " ('住户收入中位数 平均入住率 街区的经度^2', -0.00010000133016241956),\n",
       " ('住户收入中位数 街区的纬度^3', 0.0009788471453181275),\n",
       " ('住户收入中位数 街区的纬度^2 街区的经度', 0.000814040868515315),\n",
       " ('住户收入中位数 街区的纬度 街区的经度^2', 0.00023499686516883735),\n",
       " ('住户收入中位数 街区的经度^3', 2.1223068782230444e-05),\n",
       " ('房屋使用年代中位数^4', 6.239089915939122e-07),\n",
       " ('房屋使用年代中位数^3 平均房间数目', -2.2192497401546757e-06),\n",
       " ('房屋使用年代中位数^3 平均卧室数目', -4.073013327875384e-05),\n",
       " ('房屋使用年代中位数^3 街区人口', 1.1332467377596275e-08),\n",
       " ('房屋使用年代中位数^3 平均入住率', -3.7395582624019604e-07),\n",
       " ('房屋使用年代中位数^3 街区的纬度', -9.97973140246284e-06),\n",
       " ('房屋使用年代中位数^3 街区的经度', -7.836312369081001e-06),\n",
       " ('房屋使用年代中位数^2 平均房间数目^2', 1.4132261221039262e-05),\n",
       " ('房屋使用年代中位数^2 平均房间数目 平均卧室数目', -0.0002737744307913972),\n",
       " ('房屋使用年代中位数^2 平均房间数目 街区人口', 1.4400370589025906e-07),\n",
       " ('房屋使用年代中位数^2 平均房间数目 平均入住率', 1.6765310681755516e-05),\n",
       " ('房屋使用年代中位数^2 平均房间数目 街区的纬度', -5.346301268399242e-05),\n",
       " ('房屋使用年代中位数^2 平均房间数目 街区的经度', -1.396467785841199e-05),\n",
       " ('房屋使用年代中位数^2 平均卧室数目^2', 0.0009411130930770469),\n",
       " ('房屋使用年代中位数^2 平均卧室数目 街区人口', -3.0082552219856598e-06),\n",
       " ('房屋使用年代中位数^2 平均卧室数目 平均入住率', 0.00011974448085558144),\n",
       " ('房屋使用年代中位数^2 平均卧室数目 街区的纬度', 0.00039627187642254035),\n",
       " ('房屋使用年代中位数^2 平均卧室数目 街区的经度', 8.734755326303879e-05),\n",
       " ('房屋使用年代中位数^2 街区人口^2', 2.2735459175281394e-11),\n",
       " ('房屋使用年代中位数^2 街区人口 平均入住率', -1.2290168772803271e-08),\n",
       " ('房屋使用年代中位数^2 街区人口 街区的纬度', 1.0205702232921232e-07),\n",
       " ('房屋使用年代中位数^2 街区人口 街区的经度', 1.891902106870593e-07),\n",
       " ('房屋使用年代中位数^2 平均入住率^2', 1.7339429913714865e-05),\n",
       " ('房屋使用年代中位数^2 平均入住率 街区的纬度', 5.239234823238111e-05),\n",
       " ('房屋使用年代中位数^2 平均入住率 街区的经度', 2.7362389595171702e-05),\n",
       " ('房屋使用年代中位数^2 街区的纬度^2', -5.068662967703857e-05),\n",
       " ('房屋使用年代中位数^2 街区的纬度 街区的经度', -2.9081101976067315e-05),\n",
       " ('房屋使用年代中位数^2 街区的经度^2', -6.882221315884747e-06),\n",
       " ('房屋使用年代中位数 平均房间数目^3', 0.00014584333972975644),\n",
       " ('房屋使用年代中位数 平均房间数目^2 平均卧室数目', -0.0012090964989669478),\n",
       " ('房屋使用年代中位数 平均房间数目^2 街区人口', -1.4155221403193167e-06),\n",
       " ('房屋使用年代中位数 平均房间数目^2 平均入住率', 0.0001575392026265002),\n",
       " ('房屋使用年代中位数 平均房间数目^2 街区的纬度', -0.00028404921236900273),\n",
       " ('房屋使用年代中位数 平均房间数目^2 街区的经度', -7.89676934324306e-05),\n",
       " ('房屋使用年代中位数 平均房间数目 平均卧室数目^2', 0.002485713255498771),\n",
       " ('房屋使用年代中位数 平均房间数目 平均卧室数目 街区人口', 6.700702850018123e-06),\n",
       " ('房屋使用年代中位数 平均房间数目 平均卧室数目 平均入住率', -0.0007414666013106925),\n",
       " ('房屋使用年代中位数 平均房间数目 平均卧室数目 街区的纬度', 0.0014465410434868703),\n",
       " ('房屋使用年代中位数 平均房间数目 平均卧室数目 街区的经度', 0.00029146950333889886),\n",
       " ('房屋使用年代中位数 平均房间数目 街区人口^2', 1.1518512959033085e-09),\n",
       " ('房屋使用年代中位数 平均房间数目 街区人口 平均入住率', 6.539983903317717e-06),\n",
       " ('房屋使用年代中位数 平均房间数目 街区人口 街区的纬度', -8.625438471306335e-07),\n",
       " ('房屋使用年代中位数 平均房间数目 街区人口 街区的经度', -5.795735194266969e-07),\n",
       " ('房屋使用年代中位数 平均房间数目 平均入住率^2', -0.0001376221561051729),\n",
       " ('房屋使用年代中位数 平均房间数目 平均入住率 街区的纬度', 0.0012122611960662358),\n",
       " ('房屋使用年代中位数 平均房间数目 平均入住率 街区的经度', 0.0004234674370437703),\n",
       " ('房屋使用年代中位数 平均房间数目 街区的纬度^2', 0.0004738381538299484),\n",
       " ('房屋使用年代中位数 平均房间数目 街区的纬度 街区的经度', 0.00027289596423461316),\n",
       " ('房屋使用年代中位数 平均房间数目 街区的经度^2', 3.452631979761756e-05),\n",
       " ('房屋使用年代中位数 平均卧室数目^3', 0.0012112394229620309),\n",
       " ('房屋使用年代中位数 平均卧室数目^2 街区人口', -1.4445826662985667e-05),\n",
       " ('房屋使用年代中位数 平均卧室数目^2 平均入住率', 0.0005214838134220697),\n",
       " ('房屋使用年代中位数 平均卧室数目^2 街区的纬度', 0.00014249714039737087),\n",
       " ('房屋使用年代中位数 平均卧室数目^2 街区的经度', 0.0006448464619800166),\n",
       " ('房屋使用年代中位数 平均卧室数目 街区人口^2', -1.6399880736158336e-08),\n",
       " ('房屋使用年代中位数 平均卧室数目 街区人口 平均入住率', -2.5914022269514808e-05),\n",
       " ('房屋使用年代中位数 平均卧室数目 街区人口 街区的纬度', 2.457193512040648e-05),\n",
       " ('房屋使用年代中位数 平均卧室数目 街区人口 街区的经度', 1.4235413502818901e-05),\n",
       " ('房屋使用年代中位数 平均卧室数目 平均入住率^2', 0.004153115271000159),\n",
       " ('房屋使用年代中位数 平均卧室数目 平均入住率 街区的纬度', 0.00010478211014779685),\n",
       " ('房屋使用年代中位数 平均卧室数目 平均入住率 街区的经度', 0.00017797245737811963),\n",
       " ('房屋使用年代中位数 平均卧室数目 街区的纬度^2', 0.0007688488730070101),\n",
       " ('房屋使用年代中位数 平均卧室数目 街区的纬度 街区的经度', 0.0008442768025696357),\n",
       " ('房屋使用年代中位数 平均卧室数目 街区的经度^2', 0.00018543333726550107),\n",
       " ('房屋使用年代中位数 街区人口^3', -3.125883612283692e-14),\n",
       " ('房屋使用年代中位数 街区人口^2 平均入住率', 4.452466978168645e-11),\n",
       " ('房屋使用年代中位数 街区人口^2 街区的纬度', -3.1455895356120845e-10),\n",
       " ('房屋使用年代中位数 街区人口^2 街区的经度', 4.5535393171207156e-10),\n",
       " ('房屋使用年代中位数 街区人口 平均入住率^2', -2.3431684888258874e-09),\n",
       " ('房屋使用年代中位数 街区人口 平均入住率 街区的纬度', -2.5763595589556807e-06),\n",
       " ('房屋使用年代中位数 街区人口 平均入住率 街区的经度', -1.544071018036322e-06),\n",
       " ('房屋使用年代中位数 街区人口 街区的纬度^2', -3.385906056155733e-06),\n",
       " ('房屋使用年代中位数 街区人口 街区的纬度 街区的经度', -3.448670706364523e-06),\n",
       " ('房屋使用年代中位数 街区人口 街区的经度^2', -6.508611072253202e-07),\n",
       " ('房屋使用年代中位数 平均入住率^3', -0.0001364692244424577),\n",
       " ('房屋使用年代中位数 平均入住率^2 街区的纬度', -0.000396226120800147),\n",
       " ('房屋使用年代中位数 平均入住率^2 街区的经度', -9.416141778827141e-05),\n",
       " ('房屋使用年代中位数 平均入住率 街区的纬度^2', -0.001168031490702607),\n",
       " ('房屋使用年代中位数 平均入住率 街区的纬度 街区的经度', -0.0007014640679599991),\n",
       " ('房屋使用年代中位数 平均入住率 街区的经度^2', -0.00012072043760595252),\n",
       " ('房屋使用年代中位数 街区的纬度^3', 0.00018250293353172073),\n",
       " ('房屋使用年代中位数 街区的纬度^2 街区的经度', 9.973357914524583e-05),\n",
       " ('房屋使用年代中位数 街区的纬度 街区的经度^2', 6.848830174487053e-07),\n",
       " ('房屋使用年代中位数 街区的经度^3', -5.3002571464642055e-06),\n",
       " ('平均房间数目^4', -1.0480308125882656e-05),\n",
       " ('平均房间数目^3 平均卧室数目', 0.00010784109485866834),\n",
       " ('平均房间数目^3 街区人口', 1.5691503795634008e-06),\n",
       " ('平均房间数目^3 平均入住率', 0.0008433771854196167),\n",
       " ('平均房间数目^3 街区的纬度', 0.00013461895269787632),\n",
       " ('平均房间数目^3 街区的经度', 8.566814489033083e-05),\n",
       " ('平均房间数目^2 平均卧室数目^2', -0.00020425154314984345),\n",
       " ('平均房间数目^2 平均卧室数目 街区人口', -2.7812392572795168e-05),\n",
       " ('平均房间数目^2 平均卧室数目 平均入住率', -0.003760584440602215),\n",
       " ('平均房间数目^2 平均卧室数目 街区的纬度', -0.001000962743874646),\n",
       " ('平均房间数目^2 平均卧室数目 街区的经度', -0.00043512048267950194),\n",
       " ('平均房间数目^2 街区人口^2', 7.719778761712636e-09),\n",
       " ('平均房间数目^2 街区人口 平均入住率', 3.5260587304199323e-05),\n",
       " ('平均房间数目^2 街区人口 街区的纬度', 4.751451618438279e-06),\n",
       " ('平均房间数目^2 街区人口 街区的经度', 2.9514516061414245e-06),\n",
       " ('平均房间数目^2 平均入住率^2', -0.000745390001037056),\n",
       " ('平均房间数目^2 平均入住率 街区的纬度', 0.0009068971427603475),\n",
       " ('平均房间数目^2 平均入住率 街区的经度', 0.00029706213437782696),\n",
       " ('平均房间数目^2 街区的纬度^2', 8.364485797672837e-05),\n",
       " ('平均房间数目^2 街区的纬度 街区的经度', 9.76954165301463e-05),\n",
       " ('平均房间数目^2 街区的经度^2', 3.950713467058426e-05),\n",
       " ('平均房间数目 平均卧室数目^3', -0.000352791234764047),\n",
       " ('平均房间数目 平均卧室数目^2 街区人口', 0.00017779360793608904),\n",
       " ('平均房间数目 平均卧室数目^2 平均入住率', -0.0013371662031635614),\n",
       " ('平均房间数目 平均卧室数目^2 街区的纬度', -0.0003483439296352444),\n",
       " ('平均房间数目 平均卧室数目^2 街区的经度', -0.0005422647378491455),\n",
       " ('平均房间数目 平均卧室数目 街区人口^2', -1.1067300860964397e-07),\n",
       " ('平均房间数目 平均卧室数目 街区人口 平均入住率', -0.0003533750295874913),\n",
       " ('平均房间数目 平均卧室数目 街区人口 街区的纬度', -9.183706103111826e-05),\n",
       " ('平均房间数目 平均卧室数目 街区人口 街区的经度', -3.4991493913552734e-05),\n",
       " ('平均房间数目 平均卧室数目 平均入住率^2', 0.0002092139398755961),\n",
       " ('平均房间数目 平均卧室数目 平均入住率 街区的纬度', -0.00015249825013023623),\n",
       " ('平均房间数目 平均卧室数目 平均入住率 街区的经度', 0.0002444798868178947),\n",
       " ('平均房间数目 平均卧室数目 街区的纬度^2', 0.0006209304113276064),\n",
       " ('平均房间数目 平均卧室数目 街区的纬度 街区的经度', -0.00011521933789779066),\n",
       " ('平均房间数目 平均卧室数目 街区的经度^2', -0.0001659018657999702),\n",
       " ('平均房间数目 街区人口^3', -3.791603277499006e-12),\n",
       " ('平均房间数目 街区人口^2 平均入住率', -3.462207780682618e-10),\n",
       " ('平均房间数目 街区人口^2 街区的纬度', -2.7953843431290806e-08),\n",
       " ('平均房间数目 街区人口^2 街区的经度', -2.0640632882287168e-08),\n",
       " ('平均房间数目 街区人口 平均入住率^2', -1.0966035945355131e-05),\n",
       " ('平均房间数目 街区人口 平均入住率 街区的纬度', -2.780801922607012e-05),\n",
       " ('平均房间数目 街区人口 平均入住率 街区的经度', -1.3799279290608547e-05),\n",
       " ('平均房间数目 街区人口 街区的纬度^2', -1.4493069710245172e-05),\n",
       " ('平均房间数目 街区人口 街区的纬度 街区的经度', -2.6499697916567773e-06),\n",
       " ('平均房间数目 街区人口 街区的经度^2', -2.394340534865562e-07),\n",
       " ('平均房间数目 平均入住率^3', 0.0009023682410849495),\n",
       " ('平均房间数目 平均入住率^2 街区的纬度', 0.0007161783204337912),\n",
       " ('平均房间数目 平均入住率^2 街区的经度', 0.00023411433462056487),\n",
       " ('平均房间数目 平均入住率 街区的纬度^2', -0.0006279658451720419),\n",
       " ('平均房间数目 平均入住率 街区的纬度 街区的经度', 6.649652761075886e-06),\n",
       " ('平均房间数目 平均入住率 街区的经度^2', 8.514605014944493e-05),\n",
       " ('平均房间数目 街区的纬度^3', -0.0025719317058751174),\n",
       " ('平均房间数目 街区的纬度^2 街区的经度', -0.0024496505444202444),\n",
       " ('平均房间数目 街区的纬度 街区的经度^2', -0.000779976072755256),\n",
       " ('平均房间数目 街区的经度^3', -8.169863730862127e-05),\n",
       " ('平均卧室数目^4', -0.00022542956574678137),\n",
       " ('平均卧室数目^3 街区人口', -0.00035929055482498734),\n",
       " ('平均卧室数目^3 平均入住率', -0.00036610070684591585),\n",
       " ('平均卧室数目^3 街区的纬度', -0.0005383402521479115),\n",
       " ('平均卧室数目^3 街区的经度', 0.001089647432981703),\n",
       " ('平均卧室数目^2 街区人口^2', 4.021114304013397e-07),\n",
       " ('平均卧室数目^2 街区人口 平均入住率', 0.0012107021048825054),\n",
       " ('平均卧室数目^2 街区人口 街区的纬度', 0.0003999837589460242),\n",
       " ('平均卧室数目^2 街区人口 街区的经度', 0.00014487133291370502),\n",
       " ('平均卧室数目^2 平均入住率^2', 3.908616175340913e-05),\n",
       " ('平均卧室数目^2 平均入住率 街区的纬度', 0.0006926895596622969),\n",
       " ('平均卧室数目^2 平均入住率 街区的经度', -0.0025499432849080033),\n",
       " ('平均卧室数目^2 街区的纬度^2', -0.00038668388471917154),\n",
       " ('平均卧室数目^2 街区的纬度 街区的经度', 0.0008082840424544664),\n",
       " ('平均卧室数目^2 街区的经度^2', 0.00039578243458989864),\n",
       " ('平均卧室数目 街区人口^3', 3.8961022904970664e-11),\n",
       " ('平均卧室数目 街区人口^2 平均入住率', 1.517702055526758e-07),\n",
       " ('平均卧室数目 街区人口^2 街区的纬度', 2.5276410547398795e-07),\n",
       " ('平均卧室数目 街区人口^2 街区的经度', 1.9303656836830086e-07),\n",
       " ('平均卧室数目 街区人口 平均入住率^2', 5.653782412063898e-05),\n",
       " ('平均卧室数目 街区人口 平均入住率 街区的纬度', 0.0002772690401421012),\n",
       " ('平均卧室数目 街区人口 平均入住率 街区的经度', 9.609442901412698e-05),\n",
       " ('平均卧室数目 街区人口 街区的纬度^2', 5.587489765169327e-05),\n",
       " ('平均卧室数目 街区人口 街区的纬度 街区的经度', 5.733299008898934e-05),\n",
       " ('平均卧室数目 街区人口 街区的经度^2', 1.5819756414049746e-05),\n",
       " ('平均卧室数目 平均入住率^3', -0.002020287518171735),\n",
       " ('平均卧室数目 平均入住率^2 街区的纬度', 0.00014904035873750557),\n",
       " ('平均卧室数目 平均入住率^2 街区的经度', 0.00021615315530867528),\n",
       " ('平均卧室数目 平均入住率 街区的纬度^2', -0.0004426100381610006),\n",
       " ('平均卧室数目 平均入住率 街区的纬度 街区的经度', 0.0006304955260390116),\n",
       " ('平均卧室数目 平均入住率 街区的经度^2', 0.00018737239082004846),\n",
       " ('平均卧室数目 街区的纬度^3', -0.00047322137736870715),\n",
       " ('平均卧室数目 街区的纬度^2 街区的经度', 3.2434967920589844e-05),\n",
       " ('平均卧室数目 街区的纬度 街区的经度^2', 0.0002411975547954675),\n",
       " ('平均卧室数目 街区的经度^3', 5.12692694554891e-05),\n",
       " ('街区人口^4', 2.307283867002824e-16),\n",
       " ('街区人口^3 平均入住率', 8.881565022990986e-13),\n",
       " ('街区人口^3 街区的纬度', 1.6643773244858005e-12),\n",
       " ('街区人口^3 街区的经度', 1.5829371187340657e-12),\n",
       " ('街区人口^2 平均入住率^2', -7.939815932921738e-09),\n",
       " ('街区人口^2 平均入住率 街区的纬度', 2.378511266326357e-08),\n",
       " ('街区人口^2 平均入住率 街区的经度', 2.3300836696822896e-08),\n",
       " ('街区人口^2 街区的纬度^2', -1.2639651887188705e-09),\n",
       " ('街区人口^2 街区的纬度 街区的经度', 9.53323681552199e-10),\n",
       " ('街区人口^2 街区的经度^2', 3.329936197056071e-09),\n",
       " ('街区人口 平均入住率^3', 6.709169921679441e-07),\n",
       " ('街区人口 平均入住率^2 街区的纬度', -5.275966226233579e-06),\n",
       " ('街区人口 平均入住率^2 街区的经度', -1.7842329638612786e-06),\n",
       " ('街区人口 平均入住率 街区的纬度^2', 4.271925221199136e-06),\n",
       " ('街区人口 平均入住率 街区的纬度 街区的经度', -8.420304653387969e-06),\n",
       " ('街区人口 平均入住率 街区的经度^2', -2.060398784266611e-06),\n",
       " ('街区人口 街区的纬度^3', 1.3705716486143649e-05),\n",
       " ('街区人口 街区的纬度^2 街区的经度', 2.5634142068505705e-05),\n",
       " ('街区人口 街区的纬度 街区的经度^2', 1.1888496228971768e-05),\n",
       " ('街区人口 街区的经度^3', 1.8351872614430385e-06),\n",
       " ('平均入住率^4', 1.6335257986241414e-06),\n",
       " ('平均入住率^3 街区的纬度', 0.0005094023074698243),\n",
       " ('平均入住率^3 街区的经度', 0.00018571216071141102),\n",
       " ('平均入住率^2 街区的纬度^2', 0.00021498590256749),\n",
       " ('平均入住率^2 街区的纬度 街区的经度', 2.483772410615749e-05),\n",
       " ('平均入住率^2 街区的经度^2', -2.2509623005908984e-06),\n",
       " ('平均入住率 街区的纬度^3', 0.0005706595706600894),\n",
       " ('平均入住率 街区的纬度^2 街区的经度', 0.00017731623379084062),\n",
       " ('平均入住率 街区的纬度 街区的经度^2', -3.647449633046937e-05),\n",
       " ('平均入住率 街区的经度^3', -8.927241907213232e-06),\n",
       " ('街区的纬度^4', -0.008708086553840696),\n",
       " ('街区的纬度^3 街区的经度', -0.01076318213597298),\n",
       " ('街区的纬度^2 街区的经度^2', -0.004983621934326296),\n",
       " ('街区的纬度 街区的经度^3', -0.001017260602118149),\n",
       " ('街区的经度^4', -7.597185145942465e-05)]"
      ]
     },
     "execution_count": 69,
     "metadata": {},
     "output_type": "execute_result"
    }
   ],
   "source": [
    "[*zip(poly.get_feature_names(X.columns),reg.coef_)]"
   ]
  },
  {
   "cell_type": "code",
   "execution_count": 70,
   "metadata": {},
   "outputs": [],
   "source": [
    "#放到dataframe中进行排序\n",
    "coeff = pd.DataFrame([poly.get_feature_names(X.columns),reg.coef_.tolist()]).T"
   ]
  },
  {
   "cell_type": "code",
   "execution_count": 71,
   "metadata": {},
   "outputs": [
    {
     "data": {
      "text/html": [
       "<div>\n",
       "<style scoped>\n",
       "    .dataframe tbody tr th:only-of-type {\n",
       "        vertical-align: middle;\n",
       "    }\n",
       "\n",
       "    .dataframe tbody tr th {\n",
       "        vertical-align: top;\n",
       "    }\n",
       "\n",
       "    .dataframe thead th {\n",
       "        text-align: right;\n",
       "    }\n",
       "</style>\n",
       "<table border=\"1\" class=\"dataframe\">\n",
       "  <thead>\n",
       "    <tr style=\"text-align: right;\">\n",
       "      <th></th>\n",
       "      <th>0</th>\n",
       "      <th>1</th>\n",
       "    </tr>\n",
       "  </thead>\n",
       "  <tbody>\n",
       "    <tr>\n",
       "      <th>0</th>\n",
       "      <td>1</td>\n",
       "      <td>0.000310</td>\n",
       "    </tr>\n",
       "    <tr>\n",
       "      <th>1</th>\n",
       "      <td>住户收入中位数</td>\n",
       "      <td>0.000028</td>\n",
       "    </tr>\n",
       "    <tr>\n",
       "      <th>2</th>\n",
       "      <td>房屋使用年代中位数</td>\n",
       "      <td>-0.000000</td>\n",
       "    </tr>\n",
       "    <tr>\n",
       "      <th>3</th>\n",
       "      <td>平均房间数目</td>\n",
       "      <td>-0.000000</td>\n",
       "    </tr>\n",
       "    <tr>\n",
       "      <th>4</th>\n",
       "      <td>平均卧室数目</td>\n",
       "      <td>-0.000000</td>\n",
       "    </tr>\n",
       "  </tbody>\n",
       "</table>\n",
       "</div>"
      ],
      "text/plain": [
       "           0         1\n",
       "0          1  0.000310\n",
       "1    住户收入中位数  0.000028\n",
       "2  房屋使用年代中位数 -0.000000\n",
       "3     平均房间数目 -0.000000\n",
       "4     平均卧室数目 -0.000000"
      ]
     },
     "execution_count": 71,
     "metadata": {},
     "output_type": "execute_result"
    }
   ],
   "source": [
    "coeff.head()"
   ]
  },
  {
   "cell_type": "code",
   "execution_count": 72,
   "metadata": {},
   "outputs": [],
   "source": [
    "coeff.columns = [\"feature\",\"coef\"]"
   ]
  },
  {
   "cell_type": "code",
   "execution_count": 73,
   "metadata": {},
   "outputs": [
    {
     "data": {
      "text/html": [
       "<div>\n",
       "<style scoped>\n",
       "    .dataframe tbody tr th:only-of-type {\n",
       "        vertical-align: middle;\n",
       "    }\n",
       "\n",
       "    .dataframe tbody tr th {\n",
       "        vertical-align: top;\n",
       "    }\n",
       "\n",
       "    .dataframe thead th {\n",
       "        text-align: right;\n",
       "    }\n",
       "</style>\n",
       "<table border=\"1\" class=\"dataframe\">\n",
       "  <thead>\n",
       "    <tr style=\"text-align: right;\">\n",
       "      <th></th>\n",
       "      <th>feature</th>\n",
       "      <th>coef</th>\n",
       "    </tr>\n",
       "  </thead>\n",
       "  <tbody>\n",
       "    <tr>\n",
       "      <th>491</th>\n",
       "      <td>街区的纬度^3 街区的经度</td>\n",
       "      <td>-0.010763</td>\n",
       "    </tr>\n",
       "    <tr>\n",
       "      <th>490</th>\n",
       "      <td>街区的纬度^4</td>\n",
       "      <td>-0.008708</td>\n",
       "    </tr>\n",
       "    <tr>\n",
       "      <th>492</th>\n",
       "      <td>街区的纬度^2 街区的经度^2</td>\n",
       "      <td>-0.004984</td>\n",
       "    </tr>\n",
       "    <tr>\n",
       "      <th>377</th>\n",
       "      <td>平均房间数目^2 平均卧室数目 平均入住率</td>\n",
       "      <td>-0.003761</td>\n",
       "    </tr>\n",
       "    <tr>\n",
       "      <th>421</th>\n",
       "      <td>平均房间数目 街区的纬度^3</td>\n",
       "      <td>-0.002572</td>\n",
       "    </tr>\n",
       "    <tr>\n",
       "      <th>...</th>\n",
       "      <td>...</td>\n",
       "      <td>...</td>\n",
       "    </tr>\n",
       "    <tr>\n",
       "      <th>38</th>\n",
       "      <td>街区人口 街区的经度</td>\n",
       "      <td>0.002086</td>\n",
       "    </tr>\n",
       "    <tr>\n",
       "      <th>183</th>\n",
       "      <td>住户收入中位数^2 平均房间数目 平均入住率</td>\n",
       "      <td>0.002100</td>\n",
       "    </tr>\n",
       "    <tr>\n",
       "      <th>319</th>\n",
       "      <td>房屋使用年代中位数 平均房间数目 平均卧室数目^2</td>\n",
       "      <td>0.002486</td>\n",
       "    </tr>\n",
       "    <tr>\n",
       "      <th>168</th>\n",
       "      <td>住户收入中位数^3 平均卧室数目</td>\n",
       "      <td>0.002867</td>\n",
       "    </tr>\n",
       "    <tr>\n",
       "      <th>343</th>\n",
       "      <td>房屋使用年代中位数 平均卧室数目 平均入住率^2</td>\n",
       "      <td>0.004153</td>\n",
       "    </tr>\n",
       "  </tbody>\n",
       "</table>\n",
       "<p>495 rows × 2 columns</p>\n",
       "</div>"
      ],
      "text/plain": [
       "                       feature      coef\n",
       "491              街区的纬度^3 街区的经度 -0.010763\n",
       "490                    街区的纬度^4 -0.008708\n",
       "492            街区的纬度^2 街区的经度^2 -0.004984\n",
       "377      平均房间数目^2 平均卧室数目 平均入住率 -0.003761\n",
       "421             平均房间数目 街区的纬度^3 -0.002572\n",
       "..                         ...       ...\n",
       "38                  街区人口 街区的经度  0.002086\n",
       "183     住户收入中位数^2 平均房间数目 平均入住率  0.002100\n",
       "319  房屋使用年代中位数 平均房间数目 平均卧室数目^2  0.002486\n",
       "168           住户收入中位数^3 平均卧室数目  0.002867\n",
       "343   房屋使用年代中位数 平均卧室数目 平均入住率^2  0.004153\n",
       "\n",
       "[495 rows x 2 columns]"
      ]
     },
     "execution_count": 73,
     "metadata": {},
     "output_type": "execute_result"
    }
   ],
   "source": [
    "coeff.sort_values(by=\"coef\")"
   ]
  },
  {
   "cell_type": "code",
   "execution_count": 74,
   "metadata": {},
   "outputs": [],
   "source": [
    "#顺便可以查看一下多项式变化之后，模型的拟合效果如何了\n",
    "poly = PolynomialFeatures(degree=4).fit(X,y)\n",
    "X_ = poly.transform(X)"
   ]
  },
  {
   "cell_type": "code",
   "execution_count": 75,
   "metadata": {},
   "outputs": [
    {
     "data": {
      "text/plain": [
       "0.6062326851998051"
      ]
     },
     "execution_count": 75,
     "metadata": {},
     "output_type": "execute_result"
    }
   ],
   "source": [
    "reg = LinearRegression().fit(X,y)\n",
    "reg.score(X,y)"
   ]
  },
  {
   "cell_type": "code",
   "execution_count": 76,
   "metadata": {},
   "outputs": [
    {
     "name": "stdout",
     "output_type": "stream",
     "text": [
      "R2:0.7451596609109877\n",
      "time:0.7317454814910889\n"
     ]
    }
   ],
   "source": [
    "from time import time\n",
    "time0 = time()\n",
    "reg_ = LinearRegression().fit(X_,y)\n",
    "print(\"R2:{}\".format(reg_.score(X_,y)))\n",
    "print(\"time:{}\".format(time()-time0))"
   ]
  },
  {
   "cell_type": "code",
   "execution_count": 77,
   "metadata": {},
   "outputs": [
    {
     "name": "stdout",
     "output_type": "stream",
     "text": [
      "R2:0.974249225610096\n",
      "time:12.266704082489014\n"
     ]
    }
   ],
   "source": [
    "#假设使用其他模型？\n",
    "from sklearn.ensemble import RandomForestRegressor as RFR\n",
    "\n",
    "time0 = time()\n",
    "print(\"R2:{}\".format(RFR(n_estimators=100).fit(X,y).score(X,y)))\n",
    "print(\"time:{}\".format(time()-time0))"
   ]
  }
 ],
 "metadata": {
  "kernelspec": {
   "display_name": "Python 3",
   "language": "python",
   "name": "python3"
  },
  "language_info": {
   "codemirror_mode": {
    "name": "ipython",
    "version": 3
   },
   "file_extension": ".py",
   "mimetype": "text/x-python",
   "name": "python",
   "nbconvert_exporter": "python",
   "pygments_lexer": "ipython3",
   "version": "3.8.5"
  }
 },
 "nbformat": 4,
 "nbformat_minor": 2
}

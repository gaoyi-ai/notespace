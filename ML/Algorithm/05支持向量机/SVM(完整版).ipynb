{
 "cells": [
  {
   "cell_type": "code",
   "execution_count": 1,
   "metadata": {},
   "outputs": [],
   "source": [
    "import numpy as np\n",
    "import pandas as pd"
   ]
  },
  {
   "cell_type": "code",
   "execution_count": 2,
   "metadata": {},
   "outputs": [],
   "source": [
    "\"\"\"\n",
    "函数功能：创建特征向量和标签向量\n",
    "参数说明：\n",
    "file：原始文件路径\n",
    "返回：\n",
    "xMat：特征向量\n",
    "yMat：标签向量\n",
    "\"\"\"\n",
    "def loadDataSet(file):\n",
    "    dataSet= pd.read_table(file,header = None)\n",
    "    xMat=np.mat(dataSet.iloc[:,:-1].values)\n",
    "    yMat=np.mat(dataSet.iloc[:,-1].values).T\n",
    "    return xMat,yMat"
   ]
  },
  {
   "cell_type": "code",
   "execution_count": 3,
   "metadata": {},
   "outputs": [],
   "source": [
    "file='testSet.txt'\n",
    "dataSet= pd.read_table(file,header = None)"
   ]
  },
  {
   "cell_type": "code",
   "execution_count": 5,
   "metadata": {},
   "outputs": [
    {
     "data": {
      "text/html": [
       "<div>\n",
       "<style scoped>\n",
       "    .dataframe tbody tr th:only-of-type {\n",
       "        vertical-align: middle;\n",
       "    }\n",
       "\n",
       "    .dataframe tbody tr th {\n",
       "        vertical-align: top;\n",
       "    }\n",
       "\n",
       "    .dataframe thead th {\n",
       "        text-align: right;\n",
       "    }\n",
       "</style>\n",
       "<table border=\"1\" class=\"dataframe\">\n",
       "  <thead>\n",
       "    <tr style=\"text-align: right;\">\n",
       "      <th></th>\n",
       "      <th>0</th>\n",
       "      <th>1</th>\n",
       "      <th>2</th>\n",
       "    </tr>\n",
       "  </thead>\n",
       "  <tbody>\n",
       "    <tr>\n",
       "      <th>0</th>\n",
       "      <td>3.542485</td>\n",
       "      <td>1.977398</td>\n",
       "      <td>-1</td>\n",
       "    </tr>\n",
       "    <tr>\n",
       "      <th>1</th>\n",
       "      <td>3.018896</td>\n",
       "      <td>2.556416</td>\n",
       "      <td>-1</td>\n",
       "    </tr>\n",
       "    <tr>\n",
       "      <th>2</th>\n",
       "      <td>7.551510</td>\n",
       "      <td>-1.580030</td>\n",
       "      <td>1</td>\n",
       "    </tr>\n",
       "    <tr>\n",
       "      <th>3</th>\n",
       "      <td>2.114999</td>\n",
       "      <td>-0.004466</td>\n",
       "      <td>-1</td>\n",
       "    </tr>\n",
       "    <tr>\n",
       "      <th>4</th>\n",
       "      <td>8.127113</td>\n",
       "      <td>1.274372</td>\n",
       "      <td>1</td>\n",
       "    </tr>\n",
       "  </tbody>\n",
       "</table>\n",
       "</div>"
      ],
      "text/plain": [
       "          0         1  2\n",
       "0  3.542485  1.977398 -1\n",
       "1  3.018896  2.556416 -1\n",
       "2  7.551510 -1.580030  1\n",
       "3  2.114999 -0.004466 -1\n",
       "4  8.127113  1.274372  1"
      ]
     },
     "execution_count": 5,
     "metadata": {},
     "output_type": "execute_result"
    }
   ],
   "source": [
    "dataSet.head()"
   ]
  },
  {
   "cell_type": "code",
   "execution_count": 12,
   "metadata": {},
   "outputs": [
    {
     "data": {
      "text/plain": [
       "matrix([[ 3.542485e+00,  1.977398e+00],\n",
       "        [ 3.018896e+00,  2.556416e+00],\n",
       "        [ 7.551510e+00, -1.580030e+00],\n",
       "        [ 2.114999e+00, -4.466000e-03],\n",
       "        [ 8.127113e+00,  1.274372e+00],\n",
       "        [ 7.108772e+00, -9.869060e-01],\n",
       "        [ 8.610639e+00,  2.046708e+00],\n",
       "        [ 2.326297e+00,  2.652130e-01],\n",
       "        [ 3.634009e+00,  1.730537e+00],\n",
       "        [ 3.413670e-01, -8.949980e-01]])"
      ]
     },
     "execution_count": 12,
     "metadata": {},
     "output_type": "execute_result"
    }
   ],
   "source": [
    "xMat = np.mat(dataSet.iloc[:,:-1].values)\n",
    "xMat[:10]"
   ]
  },
  {
   "cell_type": "code",
   "execution_count": 14,
   "metadata": {},
   "outputs": [
    {
     "data": {
      "text/plain": [
       "matrix([[-1],\n",
       "        [-1],\n",
       "        [ 1],\n",
       "        [-1],\n",
       "        [ 1],\n",
       "        [ 1],\n",
       "        [ 1],\n",
       "        [-1],\n",
       "        [-1],\n",
       "        [-1]], dtype=int64)"
      ]
     },
     "execution_count": 14,
     "metadata": {},
     "output_type": "execute_result"
    }
   ],
   "source": [
    "yMat = np.mat(dataSet.iloc[:,-1].values).T\n",
    "yMat[:10]"
   ]
  },
  {
   "cell_type": "code",
   "execution_count": 15,
   "metadata": {},
   "outputs": [],
   "source": [
    "#导入数据集\n",
    "file='testSet.txt'\n",
    "xMat,yMat = loadDataSet(file)"
   ]
  },
  {
   "cell_type": "code",
   "execution_count": 16,
   "metadata": {},
   "outputs": [],
   "source": [
    "import matplotlib.pyplot as plt\n",
    "%matplotlib inline"
   ]
  },
  {
   "cell_type": "code",
   "execution_count": 19,
   "metadata": {},
   "outputs": [
    {
     "data": {
      "text/plain": [
       "100"
      ]
     },
     "execution_count": 19,
     "metadata": {},
     "output_type": "execute_result"
    }
   ],
   "source": [
    "xMat.shape[0]"
   ]
  },
  {
   "cell_type": "code",
   "execution_count": 17,
   "metadata": {},
   "outputs": [],
   "source": [
    "def showDataSet(xMat, yMat):\n",
    "    data_p = [] #正样本\n",
    "    data_n = [] #负样本\n",
    "    m = xMat.shape[0] #样本总数\n",
    "    for i in range(m):\n",
    "        if yMat[i] > 0:\n",
    "            data_p.append(xMat[i])\n",
    "        else:\n",
    "            data_n.append(xMat[i])\n",
    "    data_p_ = np.array(data_p) #转换为numpy矩阵\n",
    "    data_n_ = np.array(data_n) #转换为numpy矩阵\n",
    "    plt.scatter(data_p_.T[0], data_p_.T[1]) #正样本散点图\n",
    "    plt.scatter(data_n_.T[0], data_n_.T[1]) #负样本散点图\n",
    "    plt.show()"
   ]
  },
  {
   "cell_type": "code",
   "execution_count": 20,
   "metadata": {},
   "outputs": [],
   "source": [
    "data_p = [] #正样本\n",
    "data_n = [] #负样本\n",
    "m = xMat.shape[0] #样本总数\n",
    "for i in range(m):\n",
    "    if yMat[i] > 0:\n",
    "        data_p.append(xMat[i])\n",
    "    else:\n",
    "        data_n.append(xMat[i])"
   ]
  },
  {
   "cell_type": "code",
   "execution_count": 24,
   "metadata": {},
   "outputs": [
    {
     "data": {
      "text/plain": [
       "array([[7.55151 , 8.127113, 7.108772, 8.610639, 7.139979, 8.117032,\n",
       "        8.497162, 8.197181, 7.886608, 7.40786 , 7.286357, 8.015003,\n",
       "        8.991748, 7.916831, 7.616862, 7.270337, 8.804461, 8.410143,\n",
       "        7.382988, 6.960661, 8.23446 , 8.168618, 9.229518, 7.886242,\n",
       "        5.286862, 6.080573, 6.016004, 7.27946 , 8.102154, 8.132048,\n",
       "        8.245938, 6.543888, 8.112593, 9.803425, 9.205805, 8.398012,\n",
       "        7.239953, 7.556201, 9.015509, 8.266085, 8.54562 , 9.295969,\n",
       "        8.092288, 9.854303, 7.921057, 8.500757]])"
      ]
     },
     "execution_count": 24,
     "metadata": {},
     "output_type": "execute_result"
    }
   ],
   "source": [
    "data_p_ = np.array(data_p)\n",
    "data_p_.T[0]"
   ]
  },
  {
   "cell_type": "code",
   "execution_count": 25,
   "metadata": {},
   "outputs": [
    {
     "data": {
      "image/png": "[encoded data removed]",
      "text/plain": [
       "<Figure size 432x288 with 1 Axes>"
      ]
     },
     "metadata": {},
     "output_type": "display_data"
    }
   ],
   "source": [
    "showDataSet(xMat, yMat)"
   ]
  },
  {
   "cell_type": "code",
   "execution_count": 26,
   "metadata": {},
   "outputs": [],
   "source": [
    "import random"
   ]
  },
  {
   "cell_type": "code",
   "execution_count": 27,
   "metadata": {},
   "outputs": [],
   "source": [
    "def selectJrand(i,m):\n",
    "    j=i\n",
    "    while (j==i):\n",
    "        j=int(random.uniform(0,m))\n",
    "    return j"
   ]
  },
  {
   "cell_type": "code",
   "execution_count": 28,
   "metadata": {},
   "outputs": [
    {
     "data": {
      "text/plain": [
       "100"
      ]
     },
     "execution_count": 28,
     "metadata": {},
     "output_type": "execute_result"
    }
   ],
   "source": [
    "m"
   ]
  },
  {
   "cell_type": "code",
   "execution_count": 30,
   "metadata": {},
   "outputs": [
    {
     "data": {
      "text/plain": [
       "45"
      ]
     },
     "execution_count": 30,
     "metadata": {},
     "output_type": "execute_result"
    }
   ],
   "source": [
    "int(random.uniform(0,m))"
   ]
  },
  {
   "cell_type": "code",
   "execution_count": 61,
   "metadata": {},
   "outputs": [
    {
     "data": {
      "text/plain": [
       "84"
      ]
     },
     "execution_count": 61,
     "metadata": {},
     "output_type": "execute_result"
    }
   ],
   "source": [
    "i=1\n",
    "selectJrand(i,m)"
   ]
  },
  {
   "cell_type": "code",
   "execution_count": 62,
   "metadata": {},
   "outputs": [],
   "source": [
    "def clipAlpha(aj,H,L):\n",
    "    if aj>H:\n",
    "        aj=H\n",
    "    if L>aj:\n",
    "        aj=L\n",
    "    return aj"
   ]
  },
  {
   "cell_type": "code",
   "execution_count": 63,
   "metadata": {},
   "outputs": [],
   "source": [
    "def smoSimple(xMat,yMat,C,toler,maxIter):\n",
    "    b=0 #初始化b参数\n",
    "    m,n=xMat.shape #m为数据集的总行数，n为特征的数量\n",
    "    alpha = np.mat(np.zeros((m,1))) #初始化alpha参数，设为0\n",
    "    iters =0 #初始化迭代次数\n",
    "    while (iters<maxIter):\n",
    "        alpha_ = 0 #初始化alpha优化次数\n",
    "        for i in range(m):\n",
    "            #步骤1：计算误差Ei\n",
    "            fXi=np.multiply(alpha,yMat).T*(xMat*xMat[i,:].T)+b\n",
    "            Ei=fXi-yMat[i]\n",
    "            #优化alpha，设定容错率\n",
    "            if ((yMat[i]*Ei<-toler)and(alpha[i]<C)) or((yMat[i]*Ei>toler)and(alpha[i]>0)):\n",
    "            #随机选择一个与alpha_i成对优化的alpha_j\n",
    "                j=selectJrand(i,m)\n",
    "                #步骤1：计算误差Ej\n",
    "                fXj=np.multiply(alpha,yMat).T*(xMat*xMat[j,:].T)+b\n",
    "                Ej=fXj-yMat[j]\n",
    "                #保存更新前的alpha_i和alpha_j\n",
    "                alphaIold=alpha[i].copy()\n",
    "                alphaJold=alpha[j].copy()\n",
    "                #步骤2：计算上下界H和L\n",
    "                if (yMat[i]!=yMat[j]):\n",
    "                    L=max(0,alpha[j]-alpha[i])\n",
    "                    H=min(C,C+alpha[j]-alpha[i])\n",
    "                else:\n",
    "                    L=max(0,alpha[j]+alpha[i]-C)\n",
    "                    H=min(C,C+alpha[j]+alpha[i])\n",
    "                if L==H:\n",
    "                    #print('L==H')\n",
    "                    continue\n",
    "                #步骤3：计算学习率eta(eta是alpha_j的最优修改量)\n",
    "                eta=2*xMat[i,:]*xMat[j,:].T-xMat[i,:]*xMat[i,:].T-xMat[j,:]*xMat[j,:].T\n",
    "                if eta>=0:\n",
    "                    #print('eta>=0')\n",
    "                    continue\n",
    "                #步骤4：更新alpha_j\n",
    "                alpha[j]-= yMat[j]*(Ei-Ej)/eta\n",
    "                #步骤5：修剪alpha_j\n",
    "                alpha[j]=clipAlpha(alpha[j],H,L)\n",
    "                if abs(alpha[j]-alphaJold)<0.00001:\n",
    "                    #print('alpha_j 变化太小')\n",
    "                    continue\n",
    "                #步骤6：更新alpha_i\n",
    "                alpha[i]+=yMat[j]*yMat[i]*(alphaJold-alpha[j])\n",
    "                #步骤7：更新b_1和b_2\n",
    "                b1=b-Ei-yMat[i]*(alpha[i]-alphaIold)*xMat[i,:]*xMat[i,:].T-yMat[j]*(alpha[j]-alphaJold)*xMat[i,:]*xMat[j,:].T\n",
    "                b2=b-Ej-yMat[i]*(alpha[i]-alphaIold)*xMat[i,:]*xMat[j,:].T-yMat[j]*(alpha[j]-alphaJold)*xMat[j,:]*xMat[j,:].T\n",
    "                #步骤8：根据b_1和b_2更新b\n",
    "                if (0<alpha[i])and(C>alpha[i]): b=b1\n",
    "                elif (0<alpha[j])and(C>alpha[j]): b=b2\n",
    "                else: b=(b1+b2)/2\n",
    "                #统计优化次数\n",
    "                alpha_+=1\n",
    "                #print(f'第{iters}次迭代 样本{i},alpha优化次数:{alpha_}')\n",
    "        #更新迭代次数\n",
    "        if alpha_==0: iters+=1\n",
    "        else: iters=0\n",
    "        #print(f'迭代次数为:{iters}')\n",
    "    return b,alpha"
   ]
  },
  {
   "cell_type": "code",
   "execution_count": 64,
   "metadata": {},
   "outputs": [
    {
     "name": "stdout",
     "output_type": "stream",
     "text": [
      "Wall time: 4min 4s\n"
     ]
    }
   ],
   "source": [
    "%time b,alpha=smoSimple(xMat,yMat,0.6,0.001,5)"
   ]
  },
  {
   "cell_type": "code",
   "execution_count": 67,
   "metadata": {},
   "outputs": [
    {
     "data": {
      "text/plain": [
       "100"
      ]
     },
     "execution_count": 67,
     "metadata": {},
     "output_type": "execute_result"
    }
   ],
   "source": [
    "len(np.multiply(alpha,yMat))"
   ]
  },
  {
   "cell_type": "code",
   "execution_count": 69,
   "metadata": {},
   "outputs": [
    {
     "data": {
      "text/plain": [
       "matrix([[11.15717399]])"
      ]
     },
     "execution_count": 69,
     "metadata": {},
     "output_type": "execute_result"
    }
   ],
   "source": [
    "np.multiply(alpha,yMat).T*(xMat*xMat[1,:].T)"
   ]
  },
  {
   "cell_type": "code",
   "execution_count": 70,
   "metadata": {},
   "outputs": [
    {
     "data": {
      "text/plain": [
       "matrix([[-31.95984915]])"
      ]
     },
     "execution_count": 70,
     "metadata": {},
     "output_type": "execute_result"
    }
   ],
   "source": [
    "b"
   ]
  },
  {
   "cell_type": "code",
   "execution_count": 72,
   "metadata": {},
   "outputs": [
    {
     "data": {
      "text/plain": [
       "matrix([[0.34277211, 0.6       , 0.6       , 1.2       , 0.6       ,\n",
       "         0.2434147 , 0.19149751, 0.6       , 0.14046623]])"
      ]
     },
     "execution_count": 72,
     "metadata": {},
     "output_type": "execute_result"
    }
   ],
   "source": [
    "alpha[alpha>0]"
   ]
  },
  {
   "cell_type": "code",
   "execution_count": 73,
   "metadata": {},
   "outputs": [],
   "source": [
    "\"\"\"\n",
    "函数功能：提取出支持向量，用于后面画图\n",
    "\"\"\"\n",
    "def get_sv(xMat,yMat,alpha):\n",
    "    m=xMat.shape[0]\n",
    "    sv_x=[]\n",
    "    sv_y=[]\n",
    "    for i in range(m):\n",
    "        if alpha[i]>0:\n",
    "            sv_x.append(xMat[i])\n",
    "            sv_y.append(yMat[i])\n",
    "    sv_x1 =np.array(sv_x).T\n",
    "    sv_y1 = np.array(sv_y).T\n",
    "    return sv_x1,sv_y1"
   ]
  },
  {
   "cell_type": "code",
   "execution_count": 74,
   "metadata": {},
   "outputs": [],
   "source": [
    "#运行函数\n",
    "sv_x1,sv_y1=get_sv(xMat,yMat,alpha)"
   ]
  },
  {
   "cell_type": "code",
   "execution_count": 77,
   "metadata": {},
   "outputs": [
    {
     "data": {
      "text/plain": [
       "array([[3.542485, 3.634009, 3.125951, 8.117032, 3.223038, 7.286357,\n",
       "        6.960661, 6.543888, 2.912122]])"
      ]
     },
     "execution_count": 77,
     "metadata": {},
     "output_type": "execute_result"
    }
   ],
   "source": [
    "sv_x1[0]"
   ]
  },
  {
   "cell_type": "code",
   "execution_count": 78,
   "metadata": {},
   "outputs": [
    {
     "data": {
      "text/plain": [
       "array([[ 1.977398,  1.730537,  0.293251,  0.623493, -0.552392,  0.251077,\n",
       "        -0.245353,  0.433164, -0.202359]])"
      ]
     },
     "execution_count": 78,
     "metadata": {},
     "output_type": "execute_result"
    }
   ],
   "source": [
    "sv_x1[1]"
   ]
  },
  {
   "cell_type": "code",
   "execution_count": 76,
   "metadata": {},
   "outputs": [
    {
     "data": {
      "text/plain": [
       "array([[[-1, -1, -1,  1, -1,  1,  1,  1, -1]]], dtype=int64)"
      ]
     },
     "execution_count": 76,
     "metadata": {},
     "output_type": "execute_result"
    }
   ],
   "source": [
    "sv_y1"
   ]
  },
  {
   "cell_type": "code",
   "execution_count": 79,
   "metadata": {},
   "outputs": [],
   "source": [
    "def showPlot(xMat, yMat,alpha,b):\n",
    "    data_p = [] #正样本\n",
    "    data_n = [] #负样本\n",
    "    m = xMat.shape[0] #样本总数\n",
    "    for i in range(m):\n",
    "        if yMat[i] > 0:\n",
    "            data_p.append(xMat[i])\n",
    "        else:\n",
    "            data_n.append(xMat[i])\n",
    "    data_p_ = np.array(data_p) #转换为numpy矩阵\n",
    "    data_n_ = np.array(data_n) #转换为numpy矩阵\n",
    "    #样本散点图\n",
    "    plt.scatter(data_p_.T[0], data_p_.T[1]) #正样本散点图\n",
    "    plt.scatter(data_n_.T[0], data_n_.T[1]) #负样本散点图\n",
    "    #绘制支持向量\n",
    "    sv_x,sv_y=get_sv(xMat,yMat,alpha)\n",
    "    plt.scatter(sv_x[0], sv_x[1], s=150, c='none', alpha=0.7, linewidth=1.5,edgecolor='red')\n",
    "    #绘制超平面\n",
    "    w = np.dot((np.tile(np.array(yMat).reshape(1, -1).T, (1, 2)) * np.array(xMat)).T,np.array(alpha))\n",
    "    a1, a2 = w\n",
    "    x1 = max(xMat[:,0])[0,0]\n",
    "    x2 = min(xMat[:,0])[0,0]\n",
    "    b = float(b)\n",
    "    a1 = float(a1[0])\n",
    "    a2 = float(a2[0])\n",
    "    y1, y2 = (-b- a1*x1)/a2, (-b - a1*x2)/a2\n",
    "    plt.plot([x1, x2], [y1, y2])\n",
    "    plt.show()\n"
   ]
  },
  {
   "cell_type": "code",
   "execution_count": 80,
   "metadata": {},
   "outputs": [
    {
     "data": {
      "image/png": "[encoded data removed]",
      "text/plain": [
       "<Figure size 432x288 with 1 Axes>"
      ]
     },
     "metadata": {},
     "output_type": "display_data"
    }
   ],
   "source": [
    "showPlot(xMat, yMat,alpha,b)"
   ]
  },
  {
   "cell_type": "code",
   "execution_count": 81,
   "metadata": {},
   "outputs": [],
   "source": [
    "\"\"\"\n",
    "数据结构，维护所有需要操作的值\n",
    "参数说明：\n",
    "xMat：特征矩阵\n",
    "yMat：标签矩阵\n",
    "C：松弛变量\n",
    "toler：容错率\n",
    "\"\"\"\n",
    "class optStruct:\n",
    "    def __init__(self, xMat, yMat, C, toler):\n",
    "        self.X = xMat #特征矩阵\n",
    "        self.Y = yMat #数据标签\n",
    "        self.C = C #松弛变量\n",
    "        self.tol = toler #容错率\n",
    "        self.m = xMat.shape[0] #特征矩阵行数\n",
    "        self.alpha = np.mat(np.zeros((self.m,1))) #根据矩阵行数初始化alpha参数为0\n",
    "        self.b = 0 #初始化b参数为0\n",
    "        self.eCa = np.mat(np.zeros((self.m,2))) #根据矩阵行数初始化误差缓存，第一列为是否有效的标志位，第二列为实际误差E的值。\n"
   ]
  },
  {
   "cell_type": "code",
   "execution_count": 82,
   "metadata": {},
   "outputs": [],
   "source": [
    "\"\"\"\n",
    "函数功能：计算误差\n",
    "参数说明：\n",
    "oS：数据结构\n",
    "k：标号为k的数据\n",
    "返回:\n",
    "Ek：标号为k的数据误差\n",
    "\"\"\"\n",
    "def calcEk(oS, k):\n",
    "    fXk = np.multiply(oS.alpha,oS.Y).T*(oS.X*oS.X[k,:].T) + oS.b\n",
    "    Ek = fXk - oS.Y[k]\n",
    "    return Ek"
   ]
  },
  {
   "cell_type": "code",
   "execution_count": 84,
   "metadata": {},
   "outputs": [],
   "source": [
    "\"\"\"\n",
    "内循环启发方式\n",
    "参数说明：\n",
    "i：标号为i的数据的索引值\n",
    "oS：数据结构\n",
    "Ei：标号为i的数据误差\n",
    "返回:\n",
    "j, maxK：标号为j或maxK的数据的索引值\n",
    "Ej：标号为j的数据误差\n",
    "\"\"\"\n",
    "def selectJ(i, oS, Ei):\n",
    "    maxK = -1; maxDeltaE = 0; Ej = 0 #初始化\n",
    "    oS.eCa[i] = [1,Ei] #根据Ei更新误差缓存\n",
    "    eca = np.nonzero(oS.eCa[:,0].A)[0] #返回误差不为0的数据的索引值\n",
    "    if (len(eca)) > 1: #有不为0的误差\n",
    "        for k in eca: #遍历,找到最大的Ek\n",
    "            if k == i: continue #不计算i,浪费时间\n",
    "            Ek = calcEk(oS, k) #计算Ek\n",
    "            deltaE = abs(Ei - Ek) #计算|Ei-Ek|\n",
    "            if (deltaE > maxDeltaE): #找到maxDeltaE\n",
    "                maxK = k\n",
    "                maxDeltaE = deltaE\n",
    "                Ej = Ek\n",
    "        return maxK, Ej #返回maxK,Ej\n",
    "    else: #没有不为0的误差\n",
    "        j = selectJrand(i, oS.m) #随机选择alpha_j的索引值\n",
    "        Ej = calcEk(oS, j) #计算Ej\n",
    "    return j, Ej #j,Ej"
   ]
  },
  {
   "cell_type": "code",
   "execution_count": 85,
   "metadata": {},
   "outputs": [],
   "source": [
    "\"\"\"\n",
    "函数功能：计算Ek,并更新误差缓存\n",
    "参数说明：\n",
    "oS：数据结构\n",
    "k：标号为k的数据的索引值\n",
    "返回:无\n",
    "\"\"\"\n",
    "def updateEk(oS, k):\n",
    "    Ek = calcEk(oS, k) #计算Ek\n",
    "    oS.eCa[k] = [1,Ek] #更新误差缓存"
   ]
  },
  {
   "cell_type": "code",
   "execution_count": 91,
   "metadata": {},
   "outputs": [],
   "source": [
    "def innerL(i, oS):\n",
    "    #步骤1：计算误差Ei\n",
    "    Ei = calcEk(oS, i)\n",
    "    #优化alpha,设定一定的容错率。\n",
    "    if ((oS.Y[i] * Ei < -oS.tol) and (oS.alpha[i] < oS.C)) or ((oS.Y[i] * Ei > oS.tol) and (oS.alpha[i] > 0)):\n",
    "        #使用内循环启发方式选择alpha_j,并计算Ej\n",
    "        j,Ej = selectJ(i, oS, Ei)\n",
    "        #保存更新前的alpha值，使用深拷贝\n",
    "        alphaIold = oS.alpha[i].copy()\n",
    "        alphaJold = oS.alpha[j].copy()\n",
    "        #步骤2：计算上下界L和H\n",
    "        if (oS.Y[i] != oS.Y[j]):\n",
    "            L = max(0, oS.alpha[j] - oS.alpha[i])\n",
    "            H = min(oS.C, oS.C + oS.alpha[j] - oS.alpha[i])\n",
    "        else:\n",
    "            L = max(0, oS.alpha[j] + oS.alpha[i] - oS.C)\n",
    "            H = min(oS.C, oS.alpha[j] + oS.alpha[i])\n",
    "        if L == H:\n",
    "            #print(\"L==H\")\n",
    "            return 0\n",
    "        #步骤3：计算学习率eta\n",
    "        eta = 2.0 * oS.X[i,:] * oS.X[j,:].T - oS.X[i,:] * oS.X[i,:].T - oS.X[j,:] *oS.X[j,:].T\n",
    "        if eta >= 0:\n",
    "            #print(\"eta>=0\")\n",
    "            return 0\n",
    "        #步骤4：更新alpha_j\n",
    "        oS.alpha[j] -= oS.Y[j] * (Ei - Ej)/eta\n",
    "        #步骤5：修剪alpha_j\n",
    "        oS.alpha[j] = clipAlpha(oS.alpha[j],H,L)\n",
    "        #更新Ej至误差缓存\n",
    "        updateEk(oS, j)\n",
    "        if (abs(oS.alpha[j] - alphaJold) < 0.00001):\n",
    "            #print(\"alpha_j变化太小\")\n",
    "            return 0\n",
    "        #步骤6：更新alpha_i\n",
    "        oS.alpha[i] += oS.Y[j]*oS.Y[i]*(alphaJold - oS.alpha[j])\n",
    "        #更新Ei至误差缓存\n",
    "        updateEk(oS, i)\n",
    "        #步骤7：更新b_1和b_2\n",
    "        b1 = oS.b - Ei- oS.Y[i]*(oS.alpha[i]-alphaIold)*oS.X[i,:]*oS.X[i,:].T -oS.Y[j]*(oS.alpha[j]-alphaJold)*oS.X[i,:]*oS.X[j,:].T\n",
    "        b2 = oS.b - Ej- oS.Y[i]*(oS.alpha[i]-alphaIold)*oS.X[i,:]*oS.X[j,:].T -oS.Y[j]*(oS.alpha[j]-alphaJold)*oS.X[j,:]*oS.X[j,:].T\n",
    "        #步骤8：根据b_1和b_2更新b\n",
    "        if (0 < oS.alpha[i]) and (oS.C > oS.alpha[i]):\n",
    "            oS.b = b1\n",
    "        elif (0 < oS.alpha[j]) and (oS.C > oS.alpha[j]):\n",
    "            oS.b = b2\n",
    "        else:\n",
    "            oS.b = (b1 + b2)/2\n",
    "        return 1 #如果有任意一对alpha发生改变，则返回1\n",
    "    else:\n",
    "        return 0 #如果没有alpha对发生改变，则返回0"
   ]
  },
  {
   "cell_type": "code",
   "execution_count": 92,
   "metadata": {},
   "outputs": [],
   "source": [
    "def smoP(xMat, yMat, C, toler, maxIter):\n",
    "    oS = optStruct(xMat, yMat, C, toler) #初始化数据结构\n",
    "    iters = 0 #初始化当前迭代次数\n",
    "    entireSet = True; alpha_ = 0\n",
    "    #遍历整个数据集都alpha也没有更新或者超过最大迭代次数,则退出循环\n",
    "    while (iters < maxIter) and ((alpha_ > 0) or (entireSet)):\n",
    "        alpha_ = 0\n",
    "        if entireSet: #遍历整个数据集\n",
    "            for i in range(oS.m):\n",
    "                alpha_ += innerL(i,oS) #使用优化的SMO算法\n",
    "                #print(f\"全样本遍历:第{iters}次迭代 样本:{i}, alpha优化次数:{alpha_}\")\n",
    "            iters += 1\n",
    "        else: #遍历不在边界0和C的alpha\n",
    "            nonBoundIs = np.nonzero((oS.alpha.A > 0) * (oS.alpha.A < C))[0]\n",
    "            for i in nonBoundIs:\n",
    "                alpha_ += innerL(i,oS)\n",
    "                #print(f\"非边界遍历:第{iters}次迭代 样本:{i}, alpha优化次数:{alpha_}\")\n",
    "            iters += 1\n",
    "        if entireSet: #遍历一次后改为非边界遍历\n",
    "            entireSet = False\n",
    "        elif (alpha_ == 0): #如果alpha没有更新,计算全样本遍历\n",
    "            entireSet = True\n",
    "            #print(f\"迭代次数: {iters}\")\n",
    "    return oS.b,oS.alpha #返回SMO算法计算的b和alphas"
   ]
  },
  {
   "cell_type": "code",
   "execution_count": 94,
   "metadata": {},
   "outputs": [
    {
     "name": "stdout",
     "output_type": "stream",
     "text": [
      "Wall time: 178 ms\n"
     ]
    }
   ],
   "source": [
    "%time b,alpha =smoP(xMat, yMat, 0.6, 0.001, 100)"
   ]
  },
  {
   "cell_type": "code",
   "execution_count": 95,
   "metadata": {},
   "outputs": [
    {
     "data": {
      "text/plain": [
       "matrix([[-2.89901748]])"
      ]
     },
     "execution_count": 95,
     "metadata": {},
     "output_type": "execute_result"
    }
   ],
   "source": [
    "b"
   ]
  },
  {
   "cell_type": "code",
   "execution_count": 97,
   "metadata": {},
   "outputs": [
    {
     "data": {
      "text/plain": [
       "matrix([[0.06961952, 0.0169055 , 0.0169055 , 0.0272699 , 0.04522972,\n",
       "         0.0272699 , 0.0243898 , 0.06140181, 0.06140181]])"
      ]
     },
     "execution_count": 97,
     "metadata": {},
     "output_type": "execute_result"
    }
   ],
   "source": [
    "alpha[alpha>0]"
   ]
  },
  {
   "cell_type": "code",
   "execution_count": 98,
   "metadata": {},
   "outputs": [
    {
     "data": {
      "image/png": "[encoded data removed]",
      "text/plain": [
       "<Figure size 432x288 with 1 Axes>"
      ]
     },
     "metadata": {},
     "output_type": "display_data"
    }
   ],
   "source": [
    "showPlot(xMat, yMat,alpha,b)"
   ]
  },
  {
   "cell_type": "code",
   "execution_count": 104,
   "metadata": {},
   "outputs": [],
   "source": [
    "\"\"\"\n",
    "函数功能：计算w\n",
    "参数说明:\n",
    "xMat: 特征矩阵\n",
    "yMat: 标签矩阵\n",
    "alpha：alpha值\n",
    "返回:\n",
    "w：计算得到的w\n",
    "\"\"\"\n",
    "def calcWs(alpha,xMat,yMat):\n",
    "    m,n = xMat.shape\n",
    "    w = np.zeros((n,1))\n",
    "    for i in range(m):\n",
    "        w += np.multiply(alpha[i]*yMat[i],xMat[i,:].T) #w的计算公式\n",
    "    return w\n"
   ]
  },
  {
   "cell_type": "code",
   "execution_count": 100,
   "metadata": {},
   "outputs": [
    {
     "data": {
      "text/plain": [
       "matrix([[-0.06961952]])"
      ]
     },
     "execution_count": 100,
     "metadata": {},
     "output_type": "execute_result"
    }
   ],
   "source": [
    "alpha[0]*yMat[0]"
   ]
  },
  {
   "cell_type": "code",
   "execution_count": 101,
   "metadata": {},
   "outputs": [
    {
     "data": {
      "text/plain": [
       "matrix([[3.542485],\n",
       "        [1.977398]])"
      ]
     },
     "execution_count": 101,
     "metadata": {},
     "output_type": "execute_result"
    }
   ],
   "source": [
    "xMat[0,:].T"
   ]
  },
  {
   "cell_type": "code",
   "execution_count": 103,
   "metadata": {},
   "outputs": [
    {
     "data": {
      "text/plain": [
       "matrix([[-0.2466261],\n",
       "        [-0.1376655]])"
      ]
     },
     "execution_count": 103,
     "metadata": {},
     "output_type": "execute_result"
    }
   ],
   "source": [
    "np.multiply(alpha[0]*yMat[0],xMat[0,:].T)"
   ]
  },
  {
   "cell_type": "code",
   "execution_count": 105,
   "metadata": {},
   "outputs": [
    {
     "data": {
      "text/plain": [
       "array([[ 0.65307162],\n",
       "       [-0.17196128]])"
      ]
     },
     "execution_count": 105,
     "metadata": {},
     "output_type": "execute_result"
    }
   ],
   "source": [
    "w = calcWs(alpha,xMat,yMat)\n",
    "w"
   ]
  },
  {
   "cell_type": "code",
   "execution_count": 107,
   "metadata": {},
   "outputs": [],
   "source": [
    "def calcAcc(xMat,yMat,w,b):\n",
    "    yhat=[]\n",
    "    re=0\n",
    "    m,n = xMat.shape\n",
    "    for i in range(m):\n",
    "        result=xMat[i]*np.mat(w)+b #超平面计算公式\n",
    "        if result<0:\n",
    "            yhat.append(-1)\n",
    "        else:\n",
    "            yhat.append(1)\n",
    "        if yhat[i]==yMat[i]:\n",
    "            re +=1\n",
    "    acc = re/m\n",
    "    print(f'模型预测准确率为{acc}')\n",
    "    return acc"
   ]
  },
  {
   "cell_type": "code",
   "execution_count": 108,
   "metadata": {},
   "outputs": [
    {
     "name": "stdout",
     "output_type": "stream",
     "text": [
      "模型预测准确率为1.0\n"
     ]
    },
    {
     "data": {
      "text/plain": [
       "1.0"
      ]
     },
     "execution_count": 108,
     "metadata": {},
     "output_type": "execute_result"
    }
   ],
   "source": [
    "calcAcc(xMat,yMat,w,b)"
   ]
  },
  {
   "cell_type": "code",
   "execution_count": 109,
   "metadata": {},
   "outputs": [
    {
     "data": {
      "image/png": "[encoded data removed]",
      "text/plain": [
       "<Figure size 432x288 with 1 Axes>"
      ]
     },
     "metadata": {},
     "output_type": "display_data"
    }
   ],
   "source": [
    "#导入数据集1，查看数据分布\n",
    "xMat,yMat = loadDataSet('testSetRBF.txt')\n",
    "showDataSet(xMat, yMat)"
   ]
  },
  {
   "cell_type": "code",
   "execution_count": 110,
   "metadata": {},
   "outputs": [
    {
     "data": {
      "image/png": "[encoded data removed]",
      "text/plain": [
       "<Figure size 432x288 with 1 Axes>"
      ]
     },
     "metadata": {},
     "output_type": "display_data"
    }
   ],
   "source": [
    "#导入数据集2，查看数据分布\n",
    "xMat,yMat = loadDataSet('testSetRBF2.txt')\n",
    "showDataSet(xMat, yMat)"
   ]
  },
  {
   "cell_type": "code",
   "execution_count": 162,
   "metadata": {},
   "outputs": [],
   "source": [
    "def kernelTrans(X, A, kTup):\n",
    "    m,n = X.shape\n",
    "    K = np.mat(np.zeros((m,1)))\n",
    "    if kTup[0] == 'lin':\n",
    "        K = X * A.T #线性核函数,只进行内积。\n",
    "    elif kTup[0] == 'rbf': #高斯核函数,根据高斯核函数公式进行计算\n",
    "        for j in range(m):\n",
    "            deltaRow = X[j,:] - A\n",
    "            K[j] = deltaRow*deltaRow.T\n",
    "        K = np.exp(K/(-1*kTup[1]**2)) #计算高斯核K\n",
    "    else:\n",
    "        raise NameError('核函数无法识别')\n",
    "    return K #返回计算的核K"
   ]
  },
  {
   "cell_type": "code",
   "execution_count": 156,
   "metadata": {},
   "outputs": [],
   "source": [
    "class optStruct:\n",
    "    def __init__(self, xMat, yMat, C, toler, kTup):\n",
    "        self.X = xMat #特征矩阵\n",
    "        self.Y = yMat #标签矩阵\n",
    "        self.C = C #惩罚因子\n",
    "        self.tol = toler #容错率\n",
    "        self.m = xMat.shape[0] #特征矩阵行数\n",
    "        self.alpha = np.mat(np.zeros((self.m,1))) #根据矩阵行数初始化alpha参数为0\n",
    "        self.b = 0 #初始化b参数为0\n",
    "        self.eCa = np.mat(np.zeros((self.m,2))) #根据矩阵行数初初始化误差缓存，第一列为是否有效的标志位，第二列为实际的误差E的值。\n",
    "        self.K = np.mat(np.zeros((self.m,self.m))) #初始化核K\n",
    "        for i in range(self.m): #计算所有数据的核K\n",
    "            self.K[:,i] = kernelTrans(self.X, self.X[i,:], kTup)\n"
   ]
  },
  {
   "cell_type": "code",
   "execution_count": 157,
   "metadata": {},
   "outputs": [],
   "source": [
    "def calcEk(oS, k):\n",
    "    fXk = np.multiply(oS.alpha,oS.Y).T*oS.K[:,k] + oS.b\n",
    "    Ek = fXk - oS.Y[k]\n",
    "    return Ek"
   ]
  },
  {
   "cell_type": "code",
   "execution_count": 158,
   "metadata": {},
   "outputs": [],
   "source": [
    "def innerL(i, oS):\n",
    "    #步骤1：计算误差Ei\n",
    "    Ei = calcEk(oS, i)\n",
    "    #优化alpha,设定一定的容错率。\n",
    "    if ((oS.Y[i] * Ei < -oS.tol) and (oS.alpha[i] < oS.C)) or ((oS.Y[i] * Ei > oS.tol)and (oS.alpha[i] > 0)):\n",
    "        #使用内循环启发方式2选择alpha_j,并计算Ej\n",
    "        j,Ej = selectJ(i, oS, Ei)\n",
    "        #保存更新前的aplpha值，使用深拷贝\n",
    "        alphaIold = oS.alpha[i].copy()\n",
    "        alphaJold = oS.alpha[j].copy()\n",
    "        #步骤2：计算上下界L和H\n",
    "        if (oS.Y[i] != oS.Y[j]):\n",
    "            L = max(0, oS.alpha[j] - oS.alpha[i])\n",
    "            H = min(oS.C, oS.C + oS.alpha[j] - oS.alpha[i])\n",
    "        else:\n",
    "            L = max(0, oS.alpha[j] + oS.alpha[i] - oS.C)\n",
    "            H = min(oS.C, oS.alpha[j] + oS.alpha[i])\n",
    "        if L == H:\n",
    "            #print(\"L==H\")\n",
    "            return 0\n",
    "        #步骤3：计算eta\n",
    "        eta = 2.0 * oS.K[i,j] - oS.K[i,i] - oS.K[j,j]\n",
    "        if eta >= 0:\n",
    "            #print(\"eta>=0\")\n",
    "            return 0\n",
    "        #步骤4：更新alpha_j\n",
    "        oS.alpha[j] -= oS.Y[j] * (Ei - Ej)/eta\n",
    "        #步骤5：修剪alpha_j\n",
    "        oS.alpha[j] = clipAlpha(oS.alpha[j],H,L)\n",
    "        #更新Ej至误差缓存\n",
    "        updateEk(oS, j)\n",
    "        if (abs(oS.alpha[j] - alphaJold) < 0.00001):\n",
    "            #print(\"alpha_j变化太小\")\n",
    "            return 0\n",
    "        #步骤6：更新alpha_i\n",
    "        oS.alpha[i] += oS.Y[j]*oS.Y[i]*(alphaJold - oS.alpha[j])\n",
    "        #更新Ei至误差缓存\n",
    "        updateEk(oS, i)\n",
    "        #步骤7：更新b_1和b_2\n",
    "        b1 = oS.b - Ei- oS.Y[i]*(oS.alpha[i]-alphaIold)*oS.K[i,i]- oS.Y[j]*(oS.alpha[j]-alphaJold)*oS.K[i,j]\n",
    "        b2 = oS.b - Ej- oS.Y[i]*(oS.alpha[i]-alphaIold)*oS.K[i,j]- oS.Y[j]*(oS.alpha[j]-alphaJold)*oS.K[j,j]\n",
    "        #步骤8：根据b_1和b_2更新b\n",
    "        if (0 < oS.alpha[i]) and (oS.C > oS.alpha[i]):\n",
    "            oS.b = b1\n",
    "        elif (0 < oS.alpha[j]) and (oS.C > oS.alpha[j]):\n",
    "            oS.b = b2\n",
    "        else:\n",
    "            oS.b = (b1 + b2)/2\n",
    "        return 1\n",
    "    else:\n",
    "        return 0"
   ]
  },
  {
   "cell_type": "code",
   "execution_count": 159,
   "metadata": {},
   "outputs": [],
   "source": [
    "def smoP(xMat, yMat, C, toler, maxIter,kTup = ('lin',0)):\n",
    "    oS = optStruct(xMat, yMat, C, toler,kTup) #初始化数据结构\n",
    "    iters = 0 #初始化当前迭代次数\n",
    "    entireSet = True; alpha_ = 0\n",
    "    #遍历整个数据集都alpha也没有更新或者超过最大迭代次数,则退出循环\n",
    "    while (iters < maxIter) and ((alpha_ > 0) or (entireSet)):\n",
    "        alpha_ = 0\n",
    "        if entireSet: #遍历整个数据集\n",
    "            for i in range(oS.m):\n",
    "                alpha_ += innerL(i,oS) #使用优化的SMO算法\n",
    "                #print(f\"全样本遍历:第{iters}次迭代 样本:{i}, alpha优化次数:{alpha_}\")\n",
    "            iters += 1\n",
    "        else: #遍历不在边界0和C的alpha\n",
    "            nonBoundIs = np.nonzero((oS.alpha.A > 0) * (oS.alpha.A < C))[0]\n",
    "            for i in nonBoundIs:\n",
    "                alpha_ += innerL(i,oS)\n",
    "                #print(f\"非边界遍历:第{iters}次迭代 样本:{i}, alpha优化次数:{alpha_}\")\n",
    "            iters += 1\n",
    "        if entireSet: #遍历一次后改为非边界遍历\n",
    "            entireSet = False\n",
    "        elif (alpha_ == 0): #如果alpha没有更新,计算全样本遍历\n",
    "            entireSet = True\n",
    "        #print(f\"迭代次数: {iters}\")\n",
    "    return oS.b,oS.alpha #返回SMO算法计算的b和alphas"
   ]
  },
  {
   "cell_type": "code",
   "execution_count": 127,
   "metadata": {},
   "outputs": [],
   "source": [
    "xMat,yMat = loadDataSet('testSet.txt')"
   ]
  },
  {
   "cell_type": "code",
   "execution_count": 129,
   "metadata": {},
   "outputs": [
    {
     "name": "stdout",
     "output_type": "stream",
     "text": [
      "Wall time: 124 ms\n"
     ]
    }
   ],
   "source": [
    "%time b,alpha = smoP(xMat, yMat, 0.6, 0.001, 100,kTup = ('lin',0))"
   ]
  },
  {
   "cell_type": "code",
   "execution_count": 130,
   "metadata": {},
   "outputs": [],
   "source": [
    "xMat,yMat = loadDataSet('testSetRBF.txt')"
   ]
  },
  {
   "cell_type": "code",
   "execution_count": 131,
   "metadata": {},
   "outputs": [
    {
     "name": "stdout",
     "output_type": "stream",
     "text": [
      "Wall time: 1.18 s\n"
     ]
    }
   ],
   "source": [
    "%time b,alpha = smoP(xMat, yMat, 0.6, 0.001, 100,kTup = ('rbf',5))"
   ]
  },
  {
   "cell_type": "code",
   "execution_count": 132,
   "metadata": {},
   "outputs": [
    {
     "data": {
      "text/plain": [
       "matrix([[5.55111512e-17]])"
      ]
     },
     "execution_count": 132,
     "metadata": {},
     "output_type": "execute_result"
    }
   ],
   "source": [
    "b"
   ]
  },
  {
   "cell_type": "code",
   "execution_count": 134,
   "metadata": {},
   "outputs": [
    {
     "data": {
      "text/plain": [
       "matrix([[0.6, 0.6]])"
      ]
     },
     "execution_count": 134,
     "metadata": {},
     "output_type": "execute_result"
    }
   ],
   "source": [
    "alpha[alpha>0]"
   ]
  },
  {
   "cell_type": "code",
   "execution_count": 135,
   "metadata": {},
   "outputs": [],
   "source": [
    "xMat,yMat = loadDataSet('testSetRBF.txt') #加载训练集"
   ]
  },
  {
   "cell_type": "code",
   "execution_count": 136,
   "metadata": {},
   "outputs": [],
   "source": [
    "k1=1.3\n",
    "b,alpha = smoP(xMat, yMat, 200, 0.0001, 100, ('rbf', k1))"
   ]
  },
  {
   "cell_type": "code",
   "execution_count": 149,
   "metadata": {},
   "outputs": [
    {
     "data": {
      "text/plain": [
       "array([[200., 200., 200., 200., 200., 200., 200., 200., 200., 200.]])"
      ]
     },
     "execution_count": 149,
     "metadata": {},
     "output_type": "execute_result"
    }
   ],
   "source": [
    "alpha[alpha>0].A"
   ]
  },
  {
   "cell_type": "code",
   "execution_count": 141,
   "metadata": {},
   "outputs": [],
   "source": [
    "#alpha.A > 0"
   ]
  },
  {
   "cell_type": "code",
   "execution_count": 144,
   "metadata": {},
   "outputs": [
    {
     "data": {
      "text/plain": [
       "10"
      ]
     },
     "execution_count": 144,
     "metadata": {},
     "output_type": "execute_result"
    }
   ],
   "source": [
    "len(np.nonzero(alpha.A > 0)[0])"
   ]
  },
  {
   "cell_type": "code",
   "execution_count": 137,
   "metadata": {},
   "outputs": [],
   "source": [
    "svInd = np.nonzero(alpha.A > 0)[0]"
   ]
  },
  {
   "cell_type": "code",
   "execution_count": 152,
   "metadata": {},
   "outputs": [
    {
     "data": {
      "text/plain": [
       "0"
      ]
     },
     "execution_count": 152,
     "metadata": {},
     "output_type": "execute_result"
    }
   ],
   "source": [
    "np.sign(0)"
   ]
  },
  {
   "cell_type": "code",
   "execution_count": 160,
   "metadata": {},
   "outputs": [],
   "source": [
    "def testRbf(k1 = 1.3):\n",
    "    xMat,yMat = loadDataSet('testSetRBF.txt') #加载训练集\n",
    "    b,alpha = smoP(xMat, yMat, 200, 0.0001, 100, ('rbf', k1)) #根据训练集计算b和alpha\n",
    "    svInd = np.nonzero(alpha.A > 0)[0] #获得支持向量的索引\n",
    "    sVs = xMat[svInd] #获得支持向量\n",
    "    labelSV = yMat[svInd] #获得支持向量的标签\n",
    "    print(f\"支持向量个数:{sVs.shape[0]}\")\n",
    "    m,n = xMat.shape\n",
    "    errorCount = 0\n",
    "    for i in range(m):\n",
    "        K = kernelTrans(sVs,xMat[i,:],('rbf', k1)) #计算各个点的核\n",
    "        predict = K.T * np.multiply(labelSV,alpha[svInd]) + b #根据支持向量的点，预测结果\n",
    "        if np.sign(predict) != np.sign(yMat[i]): #sign()函数功能是x<0则返回-1，x=0返回0，x>0返回1\n",
    "            errorCount += 1 #预测错误的个数\n",
    "    acc_train = 1-errorCount/m #计算准确率\n",
    "    #print(f\"训练集准确率为：{acc_train}\")\n",
    "    xMat,yMat = loadDataSet('testSetRBF2.txt') #加载测试集\n",
    "    errorCount = 0\n",
    "    m,n = xMat.shape\n",
    "    for i in range(m):\n",
    "        K = kernelTrans(sVs,xMat[i,:],('rbf', k1)) #此处支持向量sVs是根据训练集得出的\n",
    "        predict=K.T * np.multiply(labelSV,alpha[svInd]) + b #此处的支持向量的标签labelSV、alpha、b都是根据训练集计算出的\n",
    "        if np.sign(predict) != np.sign(yMat[i]):\n",
    "            errorCount += 1\n",
    "    acc_test = 1-errorCount/m\n",
    "    #print(f\"测试集准确率为：{acc_test}\")\n",
    "    return acc_train,acc_test"
   ]
  },
  {
   "cell_type": "code",
   "execution_count": 163,
   "metadata": {},
   "outputs": [
    {
     "name": "stdout",
     "output_type": "stream",
     "text": [
      "支持向量个数:26\n"
     ]
    },
    {
     "data": {
      "text/plain": [
       "(0.91, 0.8200000000000001)"
      ]
     },
     "execution_count": 163,
     "metadata": {},
     "output_type": "execute_result"
    }
   ],
   "source": [
    "testRbf(k1 = 1.3)"
   ]
  },
  {
   "cell_type": "code",
   "execution_count": 164,
   "metadata": {},
   "outputs": [],
   "source": [
    "import matplotlib.pyplot as plt\n",
    "%matplotlib inline\n",
    "plt.rcParams['font.sans-serif']=['simhei']#显示中文"
   ]
  },
  {
   "cell_type": "code",
   "execution_count": 165,
   "metadata": {},
   "outputs": [
    {
     "name": "stdout",
     "output_type": "stream",
     "text": [
      "支持向量个数:26\n",
      "支持向量个数:27\n",
      "支持向量个数:26\n",
      "支持向量个数:26\n",
      "支持向量个数:26\n",
      "支持向量个数:26\n",
      "支持向量个数:26\n",
      "支持向量个数:23\n",
      "支持向量个数:27\n",
      "支持向量个数:26\n"
     ]
    },
    {
     "data": {
      "image/png": "[encoded data removed]",
      "text/plain": [
       "<Figure size 432x288 with 1 Axes>"
      ]
     },
     "metadata": {},
     "output_type": "display_data"
    }
   ],
   "source": [
    "train_acc=[]\n",
    "test_acc=[]\n",
    "for i in range(10):\n",
    "    a,b = testRbf(k1 = 1.3)\n",
    "    train_acc.append(a)\n",
    "    test_acc.append(b)\n",
    "plt.plot(range(1,11),train_acc)\n",
    "plt.plot(range(1,11),test_acc)\n",
    "plt.xlabel('次数')\n",
    "plt.ylabel('模型准确率')\n",
    "plt.legend(['train_acc','test_acc'])\n",
    "plt.show()"
   ]
  },
  {
   "cell_type": "code",
   "execution_count": 166,
   "metadata": {},
   "outputs": [
    {
     "data": {
      "text/plain": [
       "array([0.1, 0.2, 0.3, 0.4, 0.5, 0.6, 0.7, 0.8, 0.9, 1. , 1.1, 1.2, 1.3])"
      ]
     },
     "execution_count": 166,
     "metadata": {},
     "output_type": "execute_result"
    }
   ],
   "source": [
    "np.arange(0.1,1.4,0.1)"
   ]
  },
  {
   "cell_type": "code",
   "execution_count": 167,
   "metadata": {},
   "outputs": [
    {
     "name": "stdout",
     "output_type": "stream",
     "text": [
      "支持向量个数:89\n",
      "支持向量个数:43\n",
      "支持向量个数:30\n",
      "支持向量个数:25\n",
      "支持向量个数:24\n",
      "支持向量个数:16\n",
      "支持向量个数:12\n",
      "支持向量个数:16\n",
      "支持向量个数:17\n",
      "支持向量个数:24\n",
      "支持向量个数:25\n",
      "支持向量个数:23\n",
      "支持向量个数:27\n"
     ]
    },
    {
     "data": {
      "image/png": "[encoded data removed]",
      "text/plain": [
       "<Figure size 432x288 with 1 Axes>"
      ]
     },
     "metadata": {},
     "output_type": "display_data"
    }
   ],
   "source": [
    "train_acc=[]\n",
    "test_acc=[]\n",
    "for k1 in np.arange(0.1,1.4,0.1):\n",
    "    a,b=testRbf(k1)\n",
    "    train_acc.append(a)\n",
    "    test_acc.append(b)\n",
    "plt.plot(np.arange(0.1,1.4,0.1),train_acc)\n",
    "plt.plot(np.arange(0.1,1.4,0.1),test_acc)\n",
    "plt.xlabel('k1')\n",
    "plt.ylabel('accuracy')\n",
    "plt.legend(['train_acc','test_acc'])\n",
    "plt.show()"
   ]
  },
  {
   "cell_type": "code",
   "execution_count": 169,
   "metadata": {},
   "outputs": [],
   "source": [
    "import os"
   ]
  },
  {
   "cell_type": "code",
   "execution_count": 190,
   "metadata": {},
   "outputs": [],
   "source": [
    "\"\"\"\n",
    "函数功能：得到特征矩阵和标签矩阵\n",
    "参数说明：\n",
    "path:文件夹的路径\n",
    "\"\"\"\n",
    "def get_Mat(path):\n",
    "    FileList = os.listdir(path) #提取出文件夹中所有文件的名字\n",
    "    m = len(FileList) #文件个数\n",
    "    label = [] #初始化分类标签\n",
    "    xMat = np.mat(np.zeros((m,1024))) #初始化一个m*1024的全零矩阵\n",
    "    for i in range(m): #遍历每一个文件\n",
    "        xMat_i = np.mat(np.zeros((1,1024)) ) #初始化一个1*1024的全零矩阵\n",
    "        filename = FileList[i] #提取出当前文件名\n",
    "        #读取文件，结果是一个32行*每一行中是一个32位字符串的dataframe\n",
    "        txt = pd.read_csv(f'{path}/{filename}',header=None)\n",
    "        for j in range(32): #遍历当前文件的每一行\n",
    "            num = txt.iloc[j,:] #当前行中的字符串\n",
    "            for k in range(32): #遍历字符串中的每一个数据\n",
    "                xMat_i[0,32*j+k]=int(num[0][k]) #将1*1024矩阵中相应位置替换为当前字符串的值，注意要转换成int类型\n",
    "        xMat[i,:] = xMat_i #将m*1024矩阵中相应的位置替换为该文件的矩阵\n",
    "        filelabel = int(filename.split('_')[0]) #根据文件名切分出手写数字的值\n",
    "        if filelabel==9: #将数字9的标签定为-1\n",
    "            label.append(-1)\n",
    "        else: #将数字1的标签定为1\n",
    "            label.append(1)\n",
    "    yMat=np.mat(label).T #将标签列转换为矩阵\n",
    "    return xMat,yMat"
   ]
  },
  {
   "cell_type": "code",
   "execution_count": 191,
   "metadata": {},
   "outputs": [],
   "source": [
    "path='digits/trainingDigits'\n",
    "xMat,yMat=get_Mat(path)"
   ]
  },
  {
   "cell_type": "code",
   "execution_count": 192,
   "metadata": {},
   "outputs": [
    {
     "data": {
      "text/plain": [
       "matrix([[0., 0., 0., ..., 0., 0., 0.],\n",
       "        [0., 0., 0., ..., 1., 1., 1.],\n",
       "        [0., 0., 0., ..., 0., 0., 0.],\n",
       "        ...,\n",
       "        [0., 0., 0., ..., 0., 0., 0.],\n",
       "        [0., 0., 0., ..., 0., 0., 0.],\n",
       "        [0., 0., 0., ..., 0., 0., 0.]])"
      ]
     },
     "execution_count": 192,
     "metadata": {},
     "output_type": "execute_result"
    }
   ],
   "source": [
    "xMat[:10]"
   ]
  },
  {
   "cell_type": "code",
   "execution_count": 193,
   "metadata": {},
   "outputs": [
    {
     "data": {
      "text/plain": [
       "(402, 1024)"
      ]
     },
     "execution_count": 193,
     "metadata": {},
     "output_type": "execute_result"
    }
   ],
   "source": [
    "xMat.shape"
   ]
  },
  {
   "cell_type": "code",
   "execution_count": 194,
   "metadata": {},
   "outputs": [
    {
     "data": {
      "text/plain": [
       "matrix([[1],\n",
       "        [1],\n",
       "        [1],\n",
       "        [1],\n",
       "        [1],\n",
       "        [1],\n",
       "        [1],\n",
       "        [1],\n",
       "        [1],\n",
       "        [1]])"
      ]
     },
     "execution_count": 194,
     "metadata": {},
     "output_type": "execute_result"
    }
   ],
   "source": [
    "yMat[:10]"
   ]
  },
  {
   "cell_type": "code",
   "execution_count": 195,
   "metadata": {},
   "outputs": [],
   "source": [
    "def testDigits(kTup=('rbf', 10)):\n",
    "    xMat,yMat = get_Mat('digits/trainingDigits') #得到训练集的特征矩阵和标签矩阵\n",
    "    b,alpha = smoP(xMat, yMat, 200, 0.0001, 10000, kTup) #根据训练集计算出b和alpha\n",
    "    svInd = np.nonzero(alpha.A>0)[0] #提取出非零alpha的索引（也就是支持向量的索引）\n",
    "    sVs=xMat[svInd] #提取出支持向量的特征矩阵\n",
    "    labelSV = yMat[svInd] #提取出支持向量的标签矩阵\n",
    "    print(f\"支持向量个数:{sVs.shape[0]}\" )\n",
    "    m,n = xMat.shape #m是数据集总行数，n是特征数量\n",
    "    errorCount = 0 #初始化错误数\n",
    "    for i in range(m): #遍历每一条数据\n",
    "        K = kernelTrans(sVs,xMat[i,:],kTup) #进行数据转换\n",
    "        predict=K.T * np.multiply(labelSV,alpha[svInd]) + b #根据支持向量计算预测结果\n",
    "        if np.sign(predict) != np.sign(yMat[i]): #检查预测结果与原始标签是否一样\n",
    "            errorCount += 1 #统计预测错误的个数\n",
    "    acc_train=1-errorCount/m #计算训练集的准确率\n",
    "    #print(f\"训练集准确率: {acc_train}\")\n",
    "    xMat,yMat = get_Mat('digits/testDigits')\n",
    "    errorCount = 0\n",
    "    m,n = xMat.shape\n",
    "    for i in range(m):\n",
    "        K = kernelTrans(sVs,xMat[i,:],kTup)\n",
    "        predict=K.T * np.multiply(labelSV,alpha[svInd]) + b\n",
    "        if np.sign(predict) != np.sign(yMat[i]):\n",
    "            errorCount += 1\n",
    "    acc_test=1-errorCount/m\n",
    "    #print(f\"训练集准确率: {acc_test}\")\n",
    "    return acc_train,acc_test,sVs.shape[0]"
   ]
  },
  {
   "cell_type": "code",
   "execution_count": 196,
   "metadata": {},
   "outputs": [
    {
     "name": "stdout",
     "output_type": "stream",
     "text": [
      "支持向量个数:127\n"
     ]
    },
    {
     "data": {
      "text/plain": [
       "(1.0, 0.9946236559139785, 127)"
      ]
     },
     "execution_count": 196,
     "metadata": {},
     "output_type": "execute_result"
    }
   ],
   "source": [
    "testDigits(kTup=('rbf', 10))"
   ]
  },
  {
   "cell_type": "code",
   "execution_count": 197,
   "metadata": {},
   "outputs": [
    {
     "name": "stdout",
     "output_type": "stream",
     "text": [
      "支持向量个数:402\n",
      "支持向量个数:402\n",
      "支持向量个数:132\n",
      "支持向量个数:31\n",
      "支持向量个数:34\n",
      "支持向量个数:33\n"
     ]
    }
   ],
   "source": [
    "acc_train=[]\n",
    "acc_test=[]\n",
    "SVnum=[]\n",
    "kTups = [('rbf',0.1),('rbf',5),('rbf',10),('rbf',50),('rbf',100),('lin',0)]\n",
    "for kTup in kTups:\n",
    "    a,b,c = testDigits(kTup)\n",
    "    acc_train.append(a)\n",
    "    acc_test.append(b)\n",
    "    SVnum.append(c)"
   ]
  },
  {
   "cell_type": "code",
   "execution_count": 211,
   "metadata": {},
   "outputs": [],
   "source": [
    "df = pd.DataFrame({'内核设置':kTups,\n",
    "                   '训练准确率':acc_train,\n",
    "                   '测试准确率':acc_test,\n",
    "                   '支持向量数':SVnum})"
   ]
  },
  {
   "cell_type": "code",
   "execution_count": 212,
   "metadata": {},
   "outputs": [
    {
     "data": {
      "text/html": [
       "<div>\n",
       "<style scoped>\n",
       "    .dataframe tbody tr th:only-of-type {\n",
       "        vertical-align: middle;\n",
       "    }\n",
       "\n",
       "    .dataframe tbody tr th {\n",
       "        vertical-align: top;\n",
       "    }\n",
       "\n",
       "    .dataframe thead th {\n",
       "        text-align: right;\n",
       "    }\n",
       "</style>\n",
       "<table border=\"1\" class=\"dataframe\">\n",
       "  <thead>\n",
       "    <tr style=\"text-align: right;\">\n",
       "      <th></th>\n",
       "      <th>内核设置</th>\n",
       "      <th>训练准确率</th>\n",
       "      <th>测试准确率</th>\n",
       "      <th>支持向量数</th>\n",
       "    </tr>\n",
       "  </thead>\n",
       "  <tbody>\n",
       "    <tr>\n",
       "      <th>0</th>\n",
       "      <td>(rbf, 0.1)</td>\n",
       "      <td>1.000000</td>\n",
       "      <td>0.478495</td>\n",
       "      <td>402</td>\n",
       "    </tr>\n",
       "    <tr>\n",
       "      <th>1</th>\n",
       "      <td>(rbf, 5)</td>\n",
       "      <td>1.000000</td>\n",
       "      <td>0.967742</td>\n",
       "      <td>402</td>\n",
       "    </tr>\n",
       "    <tr>\n",
       "      <th>2</th>\n",
       "      <td>(rbf, 10)</td>\n",
       "      <td>1.000000</td>\n",
       "      <td>0.994624</td>\n",
       "      <td>132</td>\n",
       "    </tr>\n",
       "    <tr>\n",
       "      <th>3</th>\n",
       "      <td>(rbf, 50)</td>\n",
       "      <td>0.985075</td>\n",
       "      <td>0.973118</td>\n",
       "      <td>31</td>\n",
       "    </tr>\n",
       "    <tr>\n",
       "      <th>4</th>\n",
       "      <td>(rbf, 100)</td>\n",
       "      <td>0.995025</td>\n",
       "      <td>0.989247</td>\n",
       "      <td>34</td>\n",
       "    </tr>\n",
       "    <tr>\n",
       "      <th>5</th>\n",
       "      <td>(lin, 0)</td>\n",
       "      <td>0.992537</td>\n",
       "      <td>0.989247</td>\n",
       "      <td>33</td>\n",
       "    </tr>\n",
       "  </tbody>\n",
       "</table>\n",
       "</div>"
      ],
      "text/plain": [
       "         内核设置     训练准确率     测试准确率  支持向量数\n",
       "0  (rbf, 0.1)  1.000000  0.478495    402\n",
       "1    (rbf, 5)  1.000000  0.967742    402\n",
       "2   (rbf, 10)  1.000000  0.994624    132\n",
       "3   (rbf, 50)  0.985075  0.973118     31\n",
       "4  (rbf, 100)  0.995025  0.989247     34\n",
       "5    (lin, 0)  0.992537  0.989247     33"
      ]
     },
     "execution_count": 212,
     "metadata": {},
     "output_type": "execute_result"
    }
   ],
   "source": [
    "df"
   ]
  },
  {
   "cell_type": "code",
   "execution_count": 213,
   "metadata": {},
   "outputs": [
    {
     "data": {
      "text/plain": [
       "'训练准确率'"
      ]
     },
     "execution_count": 213,
     "metadata": {},
     "output_type": "execute_result"
    }
   ],
   "source": [
    "i = df.columns[1]\n",
    "i"
   ]
  },
  {
   "cell_type": "code",
   "execution_count": 214,
   "metadata": {},
   "outputs": [],
   "source": [
    "x =df.loc[:,i].values"
   ]
  },
  {
   "cell_type": "code",
   "execution_count": 215,
   "metadata": {},
   "outputs": [
    {
     "data": {
      "text/plain": [
       "array([1.        , 1.        , 1.        , 0.98507463, 0.99502488,\n",
       "       0.99253731])"
      ]
     },
     "execution_count": 215,
     "metadata": {},
     "output_type": "execute_result"
    }
   ],
   "source": [
    "x"
   ]
  },
  {
   "cell_type": "code",
   "execution_count": 216,
   "metadata": {},
   "outputs": [
    {
     "data": {
      "text/plain": [
       "array([100. , 100. , 100. ,  98.5,  99.5,  99.3])"
      ]
     },
     "execution_count": 216,
     "metadata": {},
     "output_type": "execute_result"
    }
   ],
   "source": [
    "np.round(x*100,1)"
   ]
  },
  {
   "cell_type": "code",
   "execution_count": 217,
   "metadata": {},
   "outputs": [],
   "source": [
    "#将结果进行简单处理，使数据更好看一些\n",
    "for i in df.columns[1:-1]:\n",
    "    df.loc[:,i]=[round(x*100,1) for x in df.loc[:,i].values ]"
   ]
  },
  {
   "cell_type": "code",
   "execution_count": 218,
   "metadata": {},
   "outputs": [
    {
     "data": {
      "text/html": [
       "<div>\n",
       "<style scoped>\n",
       "    .dataframe tbody tr th:only-of-type {\n",
       "        vertical-align: middle;\n",
       "    }\n",
       "\n",
       "    .dataframe tbody tr th {\n",
       "        vertical-align: top;\n",
       "    }\n",
       "\n",
       "    .dataframe thead th {\n",
       "        text-align: right;\n",
       "    }\n",
       "</style>\n",
       "<table border=\"1\" class=\"dataframe\">\n",
       "  <thead>\n",
       "    <tr style=\"text-align: right;\">\n",
       "      <th></th>\n",
       "      <th>内核设置</th>\n",
       "      <th>训练准确率</th>\n",
       "      <th>测试准确率</th>\n",
       "      <th>支持向量数</th>\n",
       "    </tr>\n",
       "  </thead>\n",
       "  <tbody>\n",
       "    <tr>\n",
       "      <th>0</th>\n",
       "      <td>(rbf, 0.1)</td>\n",
       "      <td>100.0</td>\n",
       "      <td>47.8</td>\n",
       "      <td>402</td>\n",
       "    </tr>\n",
       "    <tr>\n",
       "      <th>1</th>\n",
       "      <td>(rbf, 5)</td>\n",
       "      <td>100.0</td>\n",
       "      <td>96.8</td>\n",
       "      <td>402</td>\n",
       "    </tr>\n",
       "    <tr>\n",
       "      <th>2</th>\n",
       "      <td>(rbf, 10)</td>\n",
       "      <td>100.0</td>\n",
       "      <td>99.5</td>\n",
       "      <td>132</td>\n",
       "    </tr>\n",
       "    <tr>\n",
       "      <th>3</th>\n",
       "      <td>(rbf, 50)</td>\n",
       "      <td>98.5</td>\n",
       "      <td>97.3</td>\n",
       "      <td>31</td>\n",
       "    </tr>\n",
       "    <tr>\n",
       "      <th>4</th>\n",
       "      <td>(rbf, 100)</td>\n",
       "      <td>99.5</td>\n",
       "      <td>98.9</td>\n",
       "      <td>34</td>\n",
       "    </tr>\n",
       "    <tr>\n",
       "      <th>5</th>\n",
       "      <td>(lin, 0)</td>\n",
       "      <td>99.3</td>\n",
       "      <td>98.9</td>\n",
       "      <td>33</td>\n",
       "    </tr>\n",
       "  </tbody>\n",
       "</table>\n",
       "</div>"
      ],
      "text/plain": [
       "         内核设置  训练准确率  测试准确率  支持向量数\n",
       "0  (rbf, 0.1)  100.0   47.8    402\n",
       "1    (rbf, 5)  100.0   96.8    402\n",
       "2   (rbf, 10)  100.0   99.5    132\n",
       "3   (rbf, 50)   98.5   97.3     31\n",
       "4  (rbf, 100)   99.5   98.9     34\n",
       "5    (lin, 0)   99.3   98.9     33"
      ]
     },
     "execution_count": 218,
     "metadata": {},
     "output_type": "execute_result"
    }
   ],
   "source": [
    "#查看结果\n",
    "df"
   ]
  },
  {
   "cell_type": "code",
   "execution_count": null,
   "metadata": {},
   "outputs": [],
   "source": []
  },
  {
   "cell_type": "code",
   "execution_count": null,
   "metadata": {},
   "outputs": [],
   "source": []
  },
  {
   "cell_type": "code",
   "execution_count": null,
   "metadata": {},
   "outputs": [],
   "source": []
  },
  {
   "cell_type": "code",
   "execution_count": null,
   "metadata": {},
   "outputs": [],
   "source": []
  },
  {
   "cell_type": "code",
   "execution_count": null,
   "metadata": {},
   "outputs": [],
   "source": []
  },
  {
   "cell_type": "code",
   "execution_count": null,
   "metadata": {},
   "outputs": [],
   "source": []
  }
 ],
 "metadata": {
  "kernelspec": {
   "display_name": "Python 3",
   "language": "python",
   "name": "python3"
  },
  "language_info": {
   "codemirror_mode": {
    "name": "ipython",
    "version": 3
   },
   "file_extension": ".py",
   "mimetype": "text/x-python",
   "name": "python",
   "nbconvert_exporter": "python",
   "pygments_lexer": "ipython3",
   "version": "3.6.5"
  }
 },
 "nbformat": 4,
 "nbformat_minor": 2
}
